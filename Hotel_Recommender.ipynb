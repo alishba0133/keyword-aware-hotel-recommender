{
  "nbformat": 4,
  "nbformat_minor": 0,
  "metadata": {
    "colab": {
      "provenance": [],
      "toc_visible": true
    },
    "kernelspec": {
      "name": "python3",
      "display_name": "Python 3"
    }
  },
  "cells": [
    {
      "cell_type": "markdown",
      "metadata": {
        "id": "jkcVbJeF3JsV"
      },
      "source": [
        "##Downloading Spark, settings env variables"
      ]
    },
    {
      "cell_type": "code",
      "metadata": {
        "id": "x3CBTJPpEKy_",
        "colab": {
          "base_uri": "https://localhost:8080/",
          "height": 462
        },
        "outputId": "6bef07cd-f89d-484b-bc09-3ac681e47a61"
      },
      "source": [
        "!sudo apt-get update\n",
        "!apt-get install openjdk-8-jdk-headless -qq > /dev/null\n",
        "!wget -q https://www-us.apache.org/dist/spark/spark-2.4.6/spark-2.4.6-bin-hadoop2.7.tgz\n",
        "!tar xf spark-2.4.6-bin-hadoop2.7.tgz\n",
        "!pip install -q findspark\n",
        "\n",
        "\n",
        "import os\n",
        "os.environ['OBJC_DISABLE_INITIALIZE_FORK_SAFETY'] = 'YES'\n",
        "os.environ[\"JAVA_HOME\"] = \"/usr/lib/jvm/java-8-openjdk-amd64\"\n",
        "os.environ[\"SPARK_HOME\"] = \"/content/spark-2.4.6-bin-hadoop2.7\""
      ],
      "execution_count": null,
      "outputs": [
        {
          "output_type": "stream",
          "text": [
            "Get:1 https://cloud.r-project.org/bin/linux/ubuntu bionic-cran35/ InRelease [3,626 B]\n",
            "Ign:2 https://developer.download.nvidia.com/compute/cuda/repos/ubuntu1804/x86_64  InRelease\n",
            "Ign:3 https://developer.download.nvidia.com/compute/machine-learning/repos/ubuntu1804/x86_64  InRelease\n",
            "Hit:4 https://developer.download.nvidia.com/compute/cuda/repos/ubuntu1804/x86_64  Release\n",
            "Get:5 http://security.ubuntu.com/ubuntu bionic-security InRelease [88.7 kB]\n",
            "Get:6 https://developer.download.nvidia.com/compute/machine-learning/repos/ubuntu1804/x86_64  Release [564 B]\n",
            "Get:7 https://developer.download.nvidia.com/compute/machine-learning/repos/ubuntu1804/x86_64  Release.gpg [833 B]\n",
            "Get:8 http://ppa.launchpad.net/graphics-drivers/ppa/ubuntu bionic InRelease [21.3 kB]\n",
            "Hit:9 http://archive.ubuntu.com/ubuntu bionic InRelease\n",
            "Get:10 https://cloud.r-project.org/bin/linux/ubuntu bionic-cran35/ Packages [95.7 kB]\n",
            "Get:12 http://archive.ubuntu.com/ubuntu bionic-updates InRelease [88.7 kB]\n",
            "Get:13 https://developer.download.nvidia.com/compute/machine-learning/repos/ubuntu1804/x86_64  Packages [47.5 kB]\n",
            "Get:14 http://ppa.launchpad.net/marutter/c2d4u3.5/ubuntu bionic InRelease [15.4 kB]\n",
            "Get:15 http://archive.ubuntu.com/ubuntu bionic-backports InRelease [74.6 kB]\n",
            "Get:16 http://security.ubuntu.com/ubuntu bionic-security/universe amd64 Packages [891 kB]\n",
            "Get:17 http://ppa.launchpad.net/graphics-drivers/ppa/ubuntu bionic/main amd64 Packages [43.0 kB]\n",
            "Get:18 http://archive.ubuntu.com/ubuntu bionic-updates/universe amd64 Packages [1,421 kB]\n",
            "Get:19 http://ppa.launchpad.net/marutter/c2d4u3.5/ubuntu bionic/main Sources [1,864 kB]\n",
            "Get:20 http://security.ubuntu.com/ubuntu bionic-security/restricted amd64 Packages [102 kB]\n",
            "Get:21 http://security.ubuntu.com/ubuntu bionic-security/main amd64 Packages [1,050 kB]\n",
            "Get:22 http://archive.ubuntu.com/ubuntu bionic-updates/main amd64 Packages [1,359 kB]\n",
            "Get:23 http://archive.ubuntu.com/ubuntu bionic-updates/restricted amd64 Packages [123 kB]\n",
            "Get:24 http://ppa.launchpad.net/marutter/c2d4u3.5/ubuntu bionic/main amd64 Packages [900 kB]\n",
            "Fetched 8,190 kB in 3s (2,691 kB/s)\n",
            "Reading package lists... Done\n"
          ],
          "name": "stdout"
        }
      ]
    },
    {
      "cell_type": "markdown",
      "metadata": {
        "id": "C6dIrt-v3Ujf"
      },
      "source": [
        "##Initializing Spark"
      ]
    },
    {
      "cell_type": "code",
      "metadata": {
        "id": "1LNOEc27ERXB",
        "colab": {
          "base_uri": "https://localhost:8080/",
          "height": 34
        },
        "outputId": "7a7fa7a5-a6ed-4c98-ea44-173f81929604"
      },
      "source": [
        "import findspark\n",
        "findspark.init()\n",
        "from pyspark.sql import SparkSession\n",
        "spark = SparkSession.builder.master(\"local[*]\").getOrCreate()\n",
        "print(\"Sucessful\")"
      ],
      "execution_count": null,
      "outputs": [
        {
          "output_type": "stream",
          "text": [
            "Sucessful\n"
          ],
          "name": "stdout"
        }
      ]
    },
    {
      "cell_type": "code",
      "metadata": {
        "id": "tRE6wABqETS4",
        "colab": {
          "base_uri": "https://localhost:8080/",
          "height": 119
        },
        "outputId": "39b2752d-84fa-4fad-9a2f-dce12e5c6cfe"
      },
      "source": [
        "from pyspark import SparkContext\n",
        "from pyspark.sql.types import *\n",
        "from pyspark.sql import SparkSession\n",
        "from pyspark.sql.functions import col, lit, udf\n",
        "from functools import reduce\n",
        "import nltk\n",
        "nltk.download('punkt')\n",
        "nltk.download('stopwords')\n",
        "nltk.download('words')\n",
        "\n",
        "from nltk.corpus import stopwords\n",
        "from nltk.stem import WordNetLemmatizer\n",
        "import matplotlib.pyplot as plt\n",
        "from wordcloud import WordCloud\n",
        "import pandas as pd\n",
        "import numpy as np\n",
        "\n",
        "import re\n",
        "import string\n",
        "\n",
        "from pandas.io.json import json_normalize\n",
        "from pyspark.sql.functions import explode, flatten\n",
        "import json\n",
        "\n",
        "from pyspark.sql.functions import explode, flatten"
      ],
      "execution_count": null,
      "outputs": [
        {
          "output_type": "stream",
          "text": [
            "[nltk_data] Downloading package punkt to /root/nltk_data...\n",
            "[nltk_data]   Unzipping tokenizers/punkt.zip.\n",
            "[nltk_data] Downloading package stopwords to /root/nltk_data...\n",
            "[nltk_data]   Unzipping corpora/stopwords.zip.\n",
            "[nltk_data] Downloading package words to /root/nltk_data...\n",
            "[nltk_data]   Unzipping corpora/words.zip.\n"
          ],
          "name": "stdout"
        }
      ]
    },
    {
      "cell_type": "markdown",
      "metadata": {
        "id": "h1u-poTR3cC-"
      },
      "source": [
        "##Mount G Drive"
      ]
    },
    {
      "cell_type": "code",
      "metadata": {
        "id": "DZybKrRWWLWP",
        "colab": {
          "base_uri": "https://localhost:8080/",
          "height": 122
        },
        "outputId": "dd4955e4-6b24-4262-dfe5-a33379ccba65"
      },
      "source": [
        "from google.colab import drive\n",
        "drive.mount('/content/drive')"
      ],
      "execution_count": null,
      "outputs": [
        {
          "output_type": "stream",
          "text": [
            "Go to this URL in a browser: https://accounts.google.com/o/oauth2/auth?client_id=947318989803-6bn6qk8qdgf4n4g3pfee6491hc0brc4i.apps.googleusercontent.com&redirect_uri=urn%3aietf%3awg%3aoauth%3a2.0%3aoob&scope=email%20https%3a%2f%2fwww.googleapis.com%2fauth%2fdocs.test%20https%3a%2f%2fwww.googleapis.com%2fauth%2fdrive%20https%3a%2f%2fwww.googleapis.com%2fauth%2fdrive.photos.readonly%20https%3a%2f%2fwww.googleapis.com%2fauth%2fpeopleapi.readonly&response_type=code\n",
            "\n",
            "Enter your authorization code:\n",
            "··········\n",
            "Mounted at /content/drive\n"
          ],
          "name": "stdout"
        }
      ]
    },
    {
      "cell_type": "markdown",
      "metadata": {
        "id": "i64lELTh3tXx"
      },
      "source": [
        "##Load data to Spark Dataframe"
      ]
    },
    {
      "cell_type": "code",
      "metadata": {
        "id": "sUqcYmR_Ebd4"
      },
      "source": [
        "path = '/content/drive/My Drive/Data/Data spliting/mergedReviewsAndOfferings in parts/jqSam.json'\n",
        "# path = '/content/drive/My Drive/merged.json'\n",
        "df_data = spark.read.json(path)"
      ],
      "execution_count": null,
      "outputs": []
    },
    {
      "cell_type": "markdown",
      "metadata": {
        "id": "2wYkyfMoNuSp"
      },
      "source": [
        "##Rearrange Columns"
      ]
    },
    {
      "cell_type": "code",
      "metadata": {
        "id": "iE903MZb2EfI"
      },
      "source": [
        "df_data = df_data.select(\"id\",\"hotel_id\",\"hotel_name\",\"overall_rating\", \"text\", \"title\", \"author_id\")"
      ],
      "execution_count": null,
      "outputs": []
    },
    {
      "cell_type": "markdown",
      "metadata": {
        "id": "ydRopz9oNxD0"
      },
      "source": [
        "##Sort Columns"
      ]
    },
    {
      "cell_type": "code",
      "metadata": {
        "id": "7nfwRVZMfCFT"
      },
      "source": [
        "df_data = df_data.orderBy('id', ascending=True)"
      ],
      "execution_count": null,
      "outputs": []
    },
    {
      "cell_type": "code",
      "metadata": {
        "id": "d67KvnOOfvL3"
      },
      "source": [
        "# df_data = df_data.orderBy('text', ascending=False, inline = True)"
      ],
      "execution_count": null,
      "outputs": []
    },
    {
      "cell_type": "code",
      "metadata": {
        "id": "rHSMl1Cvuyzo",
        "colab": {
          "base_uri": "https://localhost:8080/",
          "height": 207
        },
        "outputId": "c2608be1-6ff4-45c0-c11e-39cf3e2408bc"
      },
      "source": [
        "df_data.show(4)"
      ],
      "execution_count": null,
      "outputs": [
        {
          "output_type": "stream",
          "text": [
            "+------+--------+--------------------+--------------+--------------------+--------------------+--------------------+\n",
            "|    id|hotel_id|          hotel_name|overall_rating|                text|               title|           author_id|\n",
            "+------+--------+--------------------+--------------+--------------------+--------------------+--------------------+\n",
            "|683156|  220216|Beacon Hill Hotel...|             5|The rooms here ar...|“great hotel, gre...|C0FE2026E16771D2C...|\n",
            "|692745|  113317|Casablanca Hotel ...|             5|I travelled from ...|“absolutely delig...|8C17DDA718DC7815A...|\n",
            "|692780|  100540|      MarQueen Hotel|             2|Sorry this is a b...|“Marqueen, overra...|75EACF34E876B7366...|\n",
            "|692844|   80133|Handlery Hotel Sa...|             1|Rooms have been r...|“a motel ' dreami...|35FBC6EA978B4AE51...|\n",
            "+------+--------+--------------------+--------------+--------------------+--------------------+--------------------+\n",
            "only showing top 4 rows\n",
            "\n"
          ],
          "name": "stdout"
        }
      ]
    },
    {
      "cell_type": "markdown",
      "metadata": {
        "id": "ccB7lSudIPUa"
      },
      "source": [
        "#Tokenizing"
      ]
    },
    {
      "cell_type": "code",
      "metadata": {
        "id": "xGMvONzgDgvB"
      },
      "source": [
        "def word_TokenizeFunct(x):\n",
        "    splitted = [word for line in x for word in line.split()]\n",
        "    return splitted\n",
        "\n",
        "def removeStopWordsFunct(x):\n",
        "    from nltk.corpus import stopwords\n",
        "    stop_words=set(stopwords.words('english'))\n",
        "    filteredSentence = [w for w in x if not w in stop_words]\n",
        "    return filteredSentence\n",
        "\n",
        "def removePunctuationsFunct(x):\n",
        "    list_punct=list(string.punctuation)\n",
        "    filtered = [''.join(c for c in s if c not in list_punct) for s in x]\n",
        "    filtered_space = [s for s in filtered if s] #remove empty space\n",
        "    return filtered\n",
        "\n",
        "def lemmatizationFunct(x):\n",
        "    nltk.download('wordnet')\n",
        "    lemmatizer = WordNetLemmatizer()\n",
        "    finalLem = [lemmatizer.lemmatize(s) for s in x]\n",
        "    return finalLem\n",
        "\n",
        "# def removeNonEnglishWordsFunct(arr):\n",
        "#     words = set(nltk.corpus.words.words())\n",
        "#     filteredSentence = \"\"\n",
        "#     for token in arr:\n",
        "#         print(\"now:\"+ token)\n",
        "#         res = ''\n",
        "#         res = \" \".join(w for w in nltk.wordpunct_tokenize(token) \\\n",
        "#                               if w.lower() in words or not w.isalpha())\n",
        "#         if res != '':\n",
        "#           filteredSentence = filteredSentence + res + \" \"\n",
        "#     return filteredSentence.strip()\n",
        "\n",
        "def tokenizeColumn(text):\n",
        "    textProcessing = text.lower()\n",
        "    # textProcessing = removeNonEnglishWordsFunct(textProcessing)\n",
        "    textProcessing = nltk.sent_tokenize(textProcessing)\n",
        "    textProcessing = [word for line in textProcessing for word in line.split()]\n",
        "    textProcessing = removeStopWordsFunct(textProcessing)\n",
        "    textProcessing = removePunctuationsFunct(textProcessing)\n",
        "    textProcessing = lemmatizationFunct(textProcessing)\n",
        "    textProcessing = [\"'\" + item + \"'\" for item in textProcessing]\n",
        "    return textProcessing #[text] text array\n",
        "\n",
        "\n",
        "udf_tokenize_column = udf(tokenizeColumn, ArrayType(StringType()))"
      ],
      "execution_count": null,
      "outputs": []
    },
    {
      "cell_type": "code",
      "metadata": {
        "id": "d8txsgmMEOwe"
      },
      "source": [
        "df_data = df_data.withColumn('tokenized', udf_tokenize_column(df_data.text))"
      ],
      "execution_count": null,
      "outputs": []
    },
    {
      "cell_type": "code",
      "metadata": {
        "id": "c1JbV2olRODw",
        "colab": {
          "base_uri": "https://localhost:8080/",
          "height": 54
        },
        "outputId": "ea71998e-72fa-443e-829b-3031fbd51ca0"
      },
      "source": [
        "df_data.select('tokenized').take(1)"
      ],
      "execution_count": null,
      "outputs": [
        {
          "output_type": "execute_result",
          "data": {
            "text/plain": [
              "[Row(tokenized=[\"'room'\", \"'palatial'\", \"'theyre'\", \"'comfortable'\", \"'flatscreen'\", \"'tv'\", \"'nice'\", \"'touch'\", \"'also'\", \"'hotel'\", \"'restaurant'\", \"'fabulous'\", \"'breakfast'\", \"'terrific'\", \"'cant'\", \"'beat'\", \"'charles'\", \"'street'\"])]"
            ]
          },
          "metadata": {
            "tags": []
          },
          "execution_count": 15
        }
      ]
    },
    {
      "cell_type": "markdown",
      "metadata": {
        "id": "gPQw3beEf-6K"
      },
      "source": [
        "#Thesaurus"
      ]
    },
    {
      "cell_type": "code",
      "metadata": {
        "id": "GnSC8I7QKcrq",
        "colab": {
          "base_uri": "https://localhost:8080/",
          "height": 54
        },
        "outputId": "9067c4b5-3c1d-4767-a8bd-3892570dd812"
      },
      "source": [
        "thesaurus={\n",
        "           \"service\":[\"service\",\"waiter\",\"staff\",\"server\"],\n",
        "           \"room\":[\"bed\",\"room\",\"bathroom\"],\n",
        "           \"shopping\":[\"mall\",\"shopping\",\"store\",\"market\"],\n",
        "           \"cleanliness\":[\"dirty\",\"grubby\",\"clean\",\"neat\"],\n",
        "           \"food\":[\"eat\",\"dishes\",\"dinner\",\"food\",\"breakfast\",\"delicious\",\"meal\",\"restaurant\",\"lunch\"],\n",
        "           \"value\":[\"price\",\"cheap\",\"worth\",\"money\",\"expensive\",\"pay\"],\n",
        "           \"transportation\":[\"subway\",\"stop\",\"transportation\",\"bus\"],\n",
        "           \"family\":[\"mother\",\"friend\",\"father\",\"daughter\",\"husband\",\"child\",\"son\",\"kid\",\"wife\"],\n",
        "           \"friends\":[\"mother\",\"friend\",\"father\",\"daughter\",\"husband\",\"child\",\"son\",\"kid\",\"wife\"],\n",
        "           \"fitness\":[\"pool\",\"fitness\",\"gym\",\"swimming\",\"spa\"],\n",
        "           \"environment\":[\"modern\",\"environment\",\"comfortable\",\"classical\"]\n",
        "           }\n",
        "\n",
        "thesaurus_keys = list(thesaurus.keys())\n",
        "\n",
        "print(thesaurus_keys)"
      ],
      "execution_count": null,
      "outputs": [
        {
          "output_type": "stream",
          "text": [
            "['service', 'room', 'shopping', 'cleanliness', 'food', 'value', 'transportation', 'family', 'friends', 'fitness', 'environment']\n"
          ],
          "name": "stdout"
        }
      ]
    },
    {
      "cell_type": "code",
      "metadata": {
        "id": "pvhtruHkZecE"
      },
      "source": [
        "def makeThesaurus(tokensArray):\n",
        "  thesaurus_arr = []\n",
        "  for token in tokensArray: #token = staff\n",
        "    for thes_key in thesaurus_keys: #key = service\n",
        "      keyItemsArr = thesaurus[thes_key] #thesaurus[key] # keyItemsArr = [\"service\",\"waiter\",\"staff\",\"server\"]\n",
        "      if token in  str(keyItemsArr):\n",
        "        thesaurus_arr.append(thes_key)\n",
        "  thesaurus_set=list(set(thesaurus_arr))\n",
        "  return thesaurus_set #[text] text array\n",
        "\n",
        "\n",
        "udf_thesaurus_column = udf(makeThesaurus, ArrayType(StringType()))"
      ],
      "execution_count": null,
      "outputs": []
    },
    {
      "cell_type": "code",
      "metadata": {
        "id": "KP39KzsgSEnm"
      },
      "source": [
        "df_data = df_data.withColumn('thesaurus', udf_thesaurus_column(df_data.tokenized))"
      ],
      "execution_count": null,
      "outputs": []
    },
    {
      "cell_type": "code",
      "metadata": {
        "id": "UTC8WcAL83et"
      },
      "source": [
        "df_test = df_data"
      ],
      "execution_count": null,
      "outputs": []
    },
    {
      "cell_type": "code",
      "metadata": {
        "id": "TM7sFd63752O"
      },
      "source": [
        "#filtering empty arrrays from thesaurus column\n",
        "from pyspark.sql import functions as F\n",
        "\n",
        "df_data =  df_test.filter(F.size('thesaurus') > 0)"
      ],
      "execution_count": null,
      "outputs": []
    },
    {
      "cell_type": "code",
      "metadata": {
        "id": "OGAWMO_EaCRO",
        "colab": {
          "base_uri": "https://localhost:8080/",
          "height": 581
        },
        "outputId": "43389dd0-2ec9-4615-d249-69965d02f048"
      },
      "source": [
        "# df_data.select('id', 'text').show(10, False)\n",
        "df_data.select('id', 'tokenized').show(10, False)\n",
        "df_data.select('id', 'thesaurus').show(10, False)"
      ],
      "execution_count": null,
      "outputs": [
        {
          "output_type": "stream",
          "text": [
            "+------+-------------------------------------------------------------------------------------------------------------------------------------------------------------------------------------------------------------------------------------------------------------------------------------------------------------------------------------------------------------------------------------------------------------------------------------------------------------------------------------------------------------------------------------------------------------------------------------------------------------------------------------------------------------------------------------------------------------------------------------------------------------------------------------------------------------------------------------------------------------------------------------------------------------------------------------------------------------------------------------------------------------------------------------------------------------------------------------------------------------------------------------------------------------------------------------------------------------------------------------------------------------------------------------------------------------------------------------------------------------------------------------------------------------------------------------------------------------------------------------------------------------------------------------------------------------------------------------------------------------------------------------------------------------------------------------------------------------------------------------------------------------------------------------------------------------------------------------------------------------------------------------------------------------------------------------------------------------------------------------------------------------------------------------------------------------------------------------------------------------------------------------------------------------------------------------------------------------------------------------------+\n",
            "|id    |tokenized                                                                                                                                                                                                                                                                                                                                                                                                                                                                                                                                                                                                                                                                                                                                                                                                                                                                                                                                                                                                                                                                                                                                                                                                                                                                                                                                                                                                                                                                                                                                                                                                                                                                                                                                                                                                                                                                                                                                                                                                                                                                                                                                                                                                                                  |\n",
            "+------+-------------------------------------------------------------------------------------------------------------------------------------------------------------------------------------------------------------------------------------------------------------------------------------------------------------------------------------------------------------------------------------------------------------------------------------------------------------------------------------------------------------------------------------------------------------------------------------------------------------------------------------------------------------------------------------------------------------------------------------------------------------------------------------------------------------------------------------------------------------------------------------------------------------------------------------------------------------------------------------------------------------------------------------------------------------------------------------------------------------------------------------------------------------------------------------------------------------------------------------------------------------------------------------------------------------------------------------------------------------------------------------------------------------------------------------------------------------------------------------------------------------------------------------------------------------------------------------------------------------------------------------------------------------------------------------------------------------------------------------------------------------------------------------------------------------------------------------------------------------------------------------------------------------------------------------------------------------------------------------------------------------------------------------------------------------------------------------------------------------------------------------------------------------------------------------------------------------------------------------------+\n",
            "|683156|['room', 'palatial', 'theyre', 'comfortable', 'flatscreen', 'tv', 'nice', 'touch', 'also', 'hotel', 'restaurant', 'fabulous', 'breakfast', 'terrific', 'cant', 'beat', 'charles', 'street']                                                                                                                                                                                                                                                                                                                                                                                                                                                                                                                                                                                                                                                                                                                                                                                                                                                                                                                                                                                                                                                                                                                                                                                                                                                                                                                                                                                                                                                                                                                                                                                                                                                                                                                                                                                                                                                                                                                                                                                                                                                |\n",
            "|692745|['travelled', 'spain', 'nyc', 'august', '2002', 'little', 'apprehensive', 'accomodation', 'booked', 'internet', 'say', 'delighted', 'small', 'spotless', 'warm', 'welcoming', 'hotel', 'would', 'highly', 'recommend', 'anyone', 'looking', 'relaxing', 'friendly', 'spot', 'return', 'hard', 'day', 'sightseeing', 'shopping', 'etc', 'also', 'located', 'corner', 'time', 'square', 'made', 'easy', 'get', 'everywhere', 'however', 'prefer', 'slightly', 'quieter', 'location', 'far', 'sister', 'hotel', 'library', 'hotel', '', 'delighted', 'though', 'room', 'slightly', 'smaller', 'late', 'afternoon', 'serving', 'wine', 'cheese', 'minimally', 'better', 'casablanca', 'id', 'go', 'back', 'tomorrow']                                                                                                                                                                                                                                                                                                                                                                                                                                                                                                                                                                                                                                                                                                                                                                                                                                                                                                                                                                                                                                                                                                                                                                                                                                                                                                                                                                                                                                                                                                                          |\n",
            "|692780|['sorry', 'bit', 'long', 'short', 'location', 'a', 'comfort', 'd', 'value', 'd', 'service', 'c', 'valet', 'saved', 'here', 'surprised', 'wife', 'weekend', 'getaway', 'birthday', 'selected', 'marqueen', 'hotel', 'research', 'online', 'know', 'seattle', 'know', 'variety', 'accomodations', 'there', 'chose', 'marqueen', 'reading', 'review', 'online', 'also', 'chose', 'location', 'near', 'seattle', 'center', 'queen', 'ann', 'hill', 'here', 'review', 'location', '', 'good', 'queen', 'ann', 'hill', 'charming', 'variety', 'restaurant', 'coffee', 'shop', 'novel', 'shop', 'great', 'neighborhood', 'plus', 'walk', 'seattle', 'center', 'key', 'arena', 'hotel', 'itself', 'potential', 'mind', 'you', 'old', '1915ish', 'structure', 'thats', 'renovated', 'fell', 'well', 'short', 'review', 'read', 'cheered', 'showed', 'lobby', 'review', 'hey', 'lobby', 'small', 'one', 'that', 'reserved', 'small', 'suite', 'upon', 'entry', 'look', 'nice', 'and', 'ok', 'far', 'comfort', 'valueno', 'way', 'so', 'pay', '180', 'night', 'motel', '8', 'comfort', '1st', 'old', 'wood', 'floor', 'creak', 'every', 'step', 'creak', 'really', 'really', 'creak', 'next', 'window', 'sheers', 'bright', '500', 'am', 'room', 'next', 'bus', 'stop', 'right', 'outside', 'suite', '2', 'window', 'boast', 'soundproof', 'windowsnot', 'maybe', 'wall', 'arent', 'next', 'cleaning', 'closet', 'hall', 'adjacent', 'room', '208', 'door', 'slam', 'shut', 'housekeeping', 'us', 'it', 'next', 'tv', 'reception', 'terrible', 'fuzzy', 'snowywith', 'cable', 'next', 'policy', 'state', 'need', 'different', 'checkout', 'time', 'call', 'did', 'requesting', 'hour', 'later', 'told', 'no', 'mentioned', 'policy', 'still', 'told', 'sorry', 'no', 'called', 'back', 'another', 'person', '5', 'minute', 'later', 'minilectureabout', 'housekeeping', 'need', 'allowed', 'extra', 'hour', 'checkin', 'checkout', 'nothing', 'special', 'service', 'good', 'experience', 'val', '0', 'so', 'all', 'charming', 'warm', 'comfortable', 'professional', 'hotel', 'u', 'visit', 'bad']                                                                                                                                                   |\n",
            "|692844|['room', 'recently', 'renovated', 'must', 'say', 'everything', 'except', 'safeand', 'clean', 'performing', 'renovationi', 'understand', 'owner', 'installed', 'elevator', 'first', 'floor', 'building', 'replaced', 'door', 'room', 'window', 'doubleglazed', 'one', 'noise', 'reduction', 'big', 'problem', 'handlery', 'noise', 'noise', 'highwayon', 'hotel', 'circlenoise', 'ac', 'tranformersroom', '214', 'pool', 'equipand', 'noise', 'huge', 'vending', 'machine', 'wich', 'vibrate', 'trough', 'wall', 'constant', 'buzz', 'lightsleeper', 'or', 'consider', 'first', 'all', 'hotel', 'must', 'sell', 'best', 'condition', 'good', 'sleep', 'definetely', 'place', 'main', 'pool', 'area', 'pleasantconsider', 'noise', 'child', 'playing', 'around', 'health', 'center', 'pool', 'hotel', 'main', 'restaurant', 'dark', 'gloomy', 'without', 'natural', 'lightingorany', 'view', 'strange', 'renovated', 'hotel', 'located', 'right', 'next', 'reception', 'desk', 'telephone', 'ringingpermanent', 'movement', 'however', 'must', 'point', 'excellent', 'quality', 'food', 'exec', 'chef', 'talented', 'conciergebellboy', 'skilledpolite', 'gave', 'u', 'good', 'info', 'restaurant', 'etc', 'but', 'big', 'problem', 'behaviour', 'front', 'desk', 'teamrudeunefficient', 'duty', 'manager', 'always', 'hide', 'behind', 'reception', 'door', 'try', 'reach', 'phoneyou', 'may', 'wait', 'fact', 'realized', 'hotel', 'requires', 'different', 'attitude', 'skill', 'motel', 'expect', 'solution', 'problem', 'may', 'face', 'say', 'sorryfor', 'them', 'empty', 'word', 'leave', 'value', 'reception', 'safe', 'staff', 'permanently', 'leaf', 'safe', 'room', 'the', 'safe', 'key', 'master', 'keyunattended', '', 'anyone', 'could', 'enter', 'room', 'duplicate', 'them', '']                                                                                                                                                                                                                                                                                                                                                                                                                                             |\n",
            "|692847|['recent', 'unpleasent', 'stay', 'monte', 'carlo', 'la', 'vega', 'anunimpressive', 'night', 'raddison', 'la', 'recently', 'spent', 'night', 'westin', 'near', 'airport', 'chance', 'westin', 'far', 'superior', 'price', 'room', 'really', 'elegant', 'comfortable', 'clean', 'complimentary', 'breakfast', 'morning', 'quite', 'good', 'practically', 'gourmet', 'buffet', 'egg', 'benedict', 'such', 'service', 'great', 'recommend', 'place', 'near', 'hundred', 'dollar', 'room', 'lax', 'area']                                                                                                                                                                                                                                                                                                                                                                                                                                                                                                                                                                                                                                                                                                                                                                                                                                                                                                                                                                                                                                                                                                                                                                                                                                                                                                                                                                                                                                                                                                                                                                                                                                                                                                                                       |\n",
            "|692892|['diva', 'hotel', 'personality', 'it', 'older', 'building', 'tell', 'room', 'small', 'small', 'elevator', 'tiny', 'floor', 'stair', 'creek', 'made', 'reservation', 'online', 'reservation', 'site', 'think', 'size', 'room', 'a', 'x15', 'room', 'one', 'smallest', 'match', 'rate', 'bathroom', 'tiny', 'maybe', '6', '5', '', 'sink', 'outside', 'bathroom', 'bedroom', 'area', 'hotle', 'great', 'touch', 'available', 'hotel', 'rate', 'important', 'clean', 'hotel', 'and', 'feel', 'safe', 'hotel']                                                                                                                                                                                                                                                                                                                                                                                                                                                                                                                                                                                                                                                                                                                                                                                                                                                                                                                                                                                                                                                                                                                                                                                                                                                                                                                                                                                                                                                                                                                                                                                                                                                                                                                                 |\n",
            "|692980|['ok', 'hampton', 'inn', 'best', 'sense', 'location', 'excellent', 'right', 'near', 'galleria', 'right', 'freeway', 'go', 'medical', 'center', 'daily', 'took', '15', 'minute', 'surface', 'steets', 'besides', 'location', 'best', 'part', 'healthclub', 'free', 'great', 'club', 'open', '24', 'hour', 'day', 'alone', 'made', 'worth', 'stay', 'here', 'remember', 'hampton', 'clean', 'consistent', 'new', 'free', 'breakfast', 'comfortable', 'bad', 'look', 'style']                                                                                                                                                                                                                                                                                                                                                                                                                                                                                                                                                                                                                                                                                                                                                                                                                                                                                                                                                                                                                                                                                                                                                                                                                                                                                                                                                                                                                                                                                                                                                                                                                                                                                                                                                                 |\n",
            "|693626|['say', 'ritz', 'carlton', 'firstclass', 'location', 'located', 'lower', 'manhattan', 'right', 'next', 'battery', 'park', 'also', 'block', 'away', 'financial', 'district', 'ground', 'zero', 'aware', 'though', 'area', 'residential', 'near', 'financial', 'district', 'store', 'around', 'including', 'drug', 'store', 'close', 'early', 'hotel', 'itself', 'staff', 'excellent', 'room', 'spacious', 'comfortable', 'bathroom', 'also', 'spacious', 'separate', 'bathtub', 'walkin', 'shower', 'stayed', 'july', 'got', 'excellent', 'deal', 'room', 'rate', 'there', 'lot', 'going', 'neighborhood', 'night', 'pretty', 'quiet', 'definitely', 'worth', 'it', 'highly', 'recommend', 'it', '']                                                                                                                                                                                                                                                                                                                                                                                                                                                                                                                                                                                                                                                                                                                                                                                                                                                                                                                                                                                                                                                                                                                                                                                                                                                                                                                                                                                                                                                                                                                                        |\n",
            "|693665|['finallya', 'new', 'alternative', 'crowded', 'bit', 'overratd', 'peabody', 'downtown', 'memphis', 'madison', 'hotel', 'quietly', 'open', 'month', 'well', 'way', 'best', 'spent', 'two', 'night', 'labor', 'day', 'weekend', 'upon', 'arrival', 'staff', 'prompt', 'beyond', 'courteous', 'lobby', 'fabulous', 'restoration', 'old', 'bank', 'building', 'decor', 'mix', 'art', 'deco', 'era', 'contemporary', 'upgraded', 'deluxe', 'room', 'small', 'suite', 'aaa', 'rate', 'applied', 'suite', 'rate', 'ended', '4000', 'prepared', 'pay', 'anyway', 'bed', 'pillow', 'divine', 'italian', 'linen', 'room', 'decor', 'subtle', 'relaxing', 'bathroom', 'spacious', 'well', 'appointed', 'dined', 'site', 'restaurantgrill', '83', 'wine', 'list', 'adequate', 'well', 'priced', 'martinisthe', 'signature', 'drinkwere', 'great', 'service', 'exemplary', 'food', 'negative', 'associated', 'newness', 'place', 'still', 'way', 'go', 'decor', 'accessory', 'room', 'affiliated', 'small', 'luxury', 'hotel', 'world', 'stay', 'property', 'quite', 'bit', 'always', 'enjoy', 'them', 'one', 'measure', 'right', 'best', 'them']                                                                                                                                                                                                                                                                                                                                                                                                                                                                                                                                                                                                                                                                                                                                                                                                                                                                                                                                                                                                                                                                                                       |\n",
            "|693714|['returned', 'weekend', 'san', 'diego', 'staying', 'labor', 'day', 'holiday', 'tell', 'terribly', 'disappointed', 'service', 'received', 'learning', 'decide', 'book', 'room', 'etc', 'expedia', 'travelocity', 'priceline', 'like', 'entitled', 'treated', 'like', '2nd', 'class', 'citizen', 'even', 'though', 'long', 'time', 'starwood', 'preferred', 'guest', 'member', 'purchased', 'expedia', 'told', 'entitled', 'perk', 'one', 'receives', 'member', 'checked', 'in', 'heck', 'money', 'still', 'paid', 'hotel', 'no', 'continously', 'show', 'starwood', 'card', 'every', 'time', 'asked', 'something', 'twice', 'told', 'member', 'even', 'though', 'hotel', 'staff', 'claimed', 'put', 'system', 'saw', 'card', 'biggest', 'joke', 'bill', 'left', 'door', 'day', 'checked', 'out', 'told', 'could', 'earned', 'extra', 'point', 'starwood', 'member', 'course', 'extra', 'dollar', 'spent', 'parking', 'room', 'service', 'oh', '300', 'room', 'dining', 'charge', 'top', 'gratuity', 'take', 'cake', 'room', 'overwhelming', 'nice', 'overlooked', 'noisy', 'parking', 'lot', 'i', 'upgrade', 'no', 'perk', 'policy', 'unless', 'wanted', 'pay', '', 'even', 'though', 'told', 'checked', 'idea', 'rate', 'paid', 'booked', 'sneer', 'expedia', 'picture', 'website', 'east', 'tower', 'hotel', 'slated', 'west', 'tower', 'hotel', 'luck', 'get', 'small', 'pool', 'lounge', 'chair', 'happened', '4', 'star', 'resort', 'make', 'sure', 'ask', 'east', 'tower', 'want', 'goody', 'witnessed', 'guest', 'getting', 'hassle', 'checking', 'trying', 'check', 'patiently', 'waited', 'turnwhen', 'ordered', 'room', 'service', 'would', 'swear', 'asked', 'roast', 'pig', 'served', 'side', 'duck', 'lorange', 'really', 'salad', 'club', 'sandwich', 'called', 'back', 'add', 'request', 'salad', 'got', 'sigh', 'actually', 'heard', 'door', 'room', 'know', 'holiday', 'weekend', 'busy', 'i', 'service', 'industry', 'myself', 'would', 'think', 'establishment', 'tout', 'resort', 'would', 'accomodating', 'guest', 'request', 'would', 'recommend', 'anyone', 'staying', 'here', 'plenty', 'fine', 'hotel', 'accomodations', 'right', 'near', 'others', 'throughout', 'san', 'diego', 'area', 'even', 'call', 'resort']|\n",
            "+------+-------------------------------------------------------------------------------------------------------------------------------------------------------------------------------------------------------------------------------------------------------------------------------------------------------------------------------------------------------------------------------------------------------------------------------------------------------------------------------------------------------------------------------------------------------------------------------------------------------------------------------------------------------------------------------------------------------------------------------------------------------------------------------------------------------------------------------------------------------------------------------------------------------------------------------------------------------------------------------------------------------------------------------------------------------------------------------------------------------------------------------------------------------------------------------------------------------------------------------------------------------------------------------------------------------------------------------------------------------------------------------------------------------------------------------------------------------------------------------------------------------------------------------------------------------------------------------------------------------------------------------------------------------------------------------------------------------------------------------------------------------------------------------------------------------------------------------------------------------------------------------------------------------------------------------------------------------------------------------------------------------------------------------------------------------------------------------------------------------------------------------------------------------------------------------------------------------------------------------------------+\n",
            "only showing top 10 rows\n",
            "\n",
            "+------+--------------------------------------------------------------------------+\n",
            "|id    |thesaurus                                                                 |\n",
            "+------+--------------------------------------------------------------------------+\n",
            "|683156|[food, room, environment]                                                 |\n",
            "|692745|[room, shopping]                                                          |\n",
            "|692780|[family, room, value, transportation, environment, service, food, friends]|\n",
            "|692844|[family, room, cleanliness, fitness, service, food, friends]              |\n",
            "|692847|[room, cleanliness, value, environment, service, food]                    |\n",
            "|692892|[room, cleanliness]                                                       |\n",
            "|692980|[cleanliness, food, environment, value]                                   |\n",
            "|693626|[room, value, environment, shopping, service]                             |\n",
            "|693665|[service, food, room, value]                                              |\n",
            "|693714|[service, fitness, room, value]                                           |\n",
            "+------+--------------------------------------------------------------------------+\n",
            "only showing top 10 rows\n",
            "\n"
          ],
          "name": "stdout"
        }
      ]
    },
    {
      "cell_type": "markdown",
      "metadata": {
        "id": "XXPt_iCcKZEV"
      },
      "source": [
        "#Similatiry Computation\n"
      ]
    },
    {
      "cell_type": "markdown",
      "metadata": {
        "id": "cj04Rc-OwBu3"
      },
      "source": [
        "##Jaccard"
      ]
    },
    {
      "cell_type": "code",
      "metadata": {
        "id": "2h5VBR2IKf0K"
      },
      "source": [
        "# active_user_thesaurus=['room','family','shopping','environment']\n",
        "\n",
        "def Jaccard_Similarity(previous_user_thesaurus):\n",
        "  # for row in thesaurusArray:\n",
        "  active = set(['cleanliness','environment','food','shopping','fitness'])\n",
        "  prev_usr_set = set(previous_user_thesaurus)\n",
        "  ###len(s1.intersection(s2)) / len(s1.union(s2))\n",
        "  x= len(active.intersection(prev_usr_set)) / len(active.union(prev_usr_set))\n",
        "  return round(x, 2)\n",
        "\n",
        "udf_Jaccard_Similarity_column = udf(Jaccard_Similarity, returnType= FloatType())"
      ],
      "execution_count": null,
      "outputs": []
    },
    {
      "cell_type": "code",
      "metadata": {
        "id": "3aOgRAtJKmyf"
      },
      "source": [
        "df_data = df_data.withColumn('jaccard_sim',udf_Jaccard_Similarity_column(df_data.thesaurus))"
      ],
      "execution_count": null,
      "outputs": []
    },
    {
      "cell_type": "code",
      "metadata": {
        "id": "xpVLV62AUZlE",
        "colab": {
          "base_uri": "https://localhost:8080/",
          "height": 255
        },
        "outputId": "3339fa3d-664f-4078-dedc-c3d1f6131c07"
      },
      "source": [
        "# df_data.show(3)\n",
        "df_data.printSchema()"
      ],
      "execution_count": null,
      "outputs": [
        {
          "output_type": "stream",
          "text": [
            "root\n",
            " |-- id: long (nullable = true)\n",
            " |-- hotel_id: long (nullable = true)\n",
            " |-- hotel_name: string (nullable = true)\n",
            " |-- overall_rating: long (nullable = true)\n",
            " |-- text: string (nullable = true)\n",
            " |-- title: string (nullable = true)\n",
            " |-- author_id: string (nullable = true)\n",
            " |-- tokenized: array (nullable = true)\n",
            " |    |-- element: string (containsNull = true)\n",
            " |-- thesaurus: array (nullable = true)\n",
            " |    |-- element: string (containsNull = true)\n",
            " |-- jaccard_sim: float (nullable = true)\n",
            "\n"
          ],
          "name": "stdout"
        }
      ]
    },
    {
      "cell_type": "code",
      "metadata": {
        "id": "u5bkokpkKncF"
      },
      "source": [
        "# df_small = df_data.select('id','hotel_name','jaccard_sim').orderBy('jaccard_sim', ascending=False)\n",
        "df_small = df_data.select('id','hotel_name','overall_rating','thesaurus','jaccard_sim','author_id')\n"
      ],
      "execution_count": null,
      "outputs": []
    },
    {
      "cell_type": "code",
      "metadata": {
        "id": "9z0D8HpUSeph",
        "colab": {
          "base_uri": "https://localhost:8080/",
          "height": 479
        },
        "outputId": "e27dd017-d426-4c6b-992c-67392e3e1bea"
      },
      "source": [
        "df_small.show()"
      ],
      "execution_count": null,
      "outputs": [
        {
          "output_type": "stream",
          "text": [
            "+------+--------------------+--------------+--------------------+-----------+--------------------+\n",
            "|    id|          hotel_name|overall_rating|           thesaurus|jaccard_sim|           author_id|\n",
            "+------+--------------------+--------------+--------------------+-----------+--------------------+\n",
            "|683156|Beacon Hill Hotel...|             5|[food, room, envi...|       0.33|C0FE2026E16771D2C...|\n",
            "|692745|Casablanca Hotel ...|             5|    [room, shopping]|       0.17|8C17DDA718DC7815A...|\n",
            "|692780|      MarQueen Hotel|             2|[family, room, va...|       0.18|75EACF34E876B7366...|\n",
            "|692844|Handlery Hotel Sa...|             1|[family, room, cl...|       0.33|35FBC6EA978B4AE51...|\n",
            "|692847|The Westin Los An...|             5|[room, cleanlines...|       0.38|5BE26753AC8336073...|\n",
            "|692892|          Hotel Diva|             4| [room, cleanliness]|       0.17|E01681A50DC19FFA1...|\n",
            "|692980|Hampton Inn Houst...|             4|[cleanliness, foo...|        0.5|38078EB1B07129384...|\n",
            "|693626|Ritz-Carlton Batt...|             5|[room, value, env...|       0.25|8916B7F8AA251A7BD...|\n",
            "|693665|       Madison Hotel|             5|[service, food, r...|       0.12|F1EA76EBC9C5783D9...|\n",
            "|693714|The Sheraton San ...|             1|[service, fitness...|       0.12|889CA24F3FADE263B...|\n",
            "|694130|Renaissance New Y...|             5|[room, cleanlines...|       0.25|EDBF1C0227AF67F15...|\n",
            "|694813| Chicago's Essex Inn|             3|[fitness, room, v...|       0.29|E19A564DC046B2BB1...|\n",
            "|694909|DoubleTree by Hil...|             4|[family, room, fi...|       0.25|554D570D57C2F5799...|\n",
            "|696651|Hyatt Regency La ...|             4|[family, room, va...|       0.11|38078EB1B07129384...|\n",
            "|697717|       Dolphin Motel|             3|        [food, room]|       0.17|8F536812E3CCB1E18...|\n",
            "|697853|Hilton Checkers H...|             4|[service, food, r...|       0.29|C378E8B5259C23C79...|\n",
            "|698076|Hotel Pennsylvani...|             4|[service, room, c...|       0.12|5C9E231962F0D5D5A...|\n",
            "|698217|Holiday Inn San D...|             1|     [service, room]|        0.0|647FB75E6D0B98419...|\n",
            "|698257|     Hudson New York|             3|     [service, room]|        0.0|8FBC847069AB72123...|\n",
            "|698579|     Commodore Hotel|             1|[family, room, cl...|       0.11|C585C07D9595B707F...|\n",
            "+------+--------------------+--------------+--------------------+-----------+--------------------+\n",
            "only showing top 20 rows\n",
            "\n"
          ],
          "name": "stdout"
        }
      ]
    },
    {
      "cell_type": "markdown",
      "metadata": {
        "id": "Mb2U2Wmil73J"
      },
      "source": [
        "##Simpson"
      ]
    },
    {
      "cell_type": "code",
      "metadata": {
        "id": "cOKhNhYyl7MK"
      },
      "source": [
        "def simpson_similarity(previous_user_thesaurus):\n",
        "    activeuser = set(['cleanliness','environment','food','shopping','fitness'])\n",
        "    prev_usr_set = set(previous_user_thesaurus)\n",
        "    n= min(len(prev_usr_set),len(activeuser))\n",
        "    print(n)\n",
        "    a= len((prev_usr_set).intersection(activeuser))\n",
        "    print(a)\n",
        "    if n !=0:\n",
        "      b = a/n\n",
        "    else:\n",
        "      b=0.0\n",
        "\n",
        "    return round(b,2)\n",
        "\n",
        "\n",
        "# prev_usr_set = set(['value', 'fitness', 'room', 'service','environment'])\n",
        "# simpson_similarity(prev_usr_set)\n",
        "\n",
        "udf_Simpson_Similarity_column = udf(simpson_similarity, returnType= FloatType())"
      ],
      "execution_count": null,
      "outputs": []
    },
    {
      "cell_type": "code",
      "metadata": {
        "id": "CKcC9EV0mX3v"
      },
      "source": [
        "df_simp=df_data\n",
        "df_simp = df_simp.withColumn('simpson_sim',udf_Simpson_Similarity_column(df_simp.thesaurus))"
      ],
      "execution_count": null,
      "outputs": []
    },
    {
      "cell_type": "code",
      "metadata": {
        "id": "qC42WH-zmhKI",
        "colab": {
          "base_uri": "https://localhost:8080/",
          "height": 272
        },
        "outputId": "b6d7fa94-1ed1-4dd8-9df5-ecb256c78a32"
      },
      "source": [
        "df_simp.printSchema()"
      ],
      "execution_count": null,
      "outputs": [
        {
          "output_type": "stream",
          "text": [
            "root\n",
            " |-- id: long (nullable = true)\n",
            " |-- hotel_id: long (nullable = true)\n",
            " |-- hotel_name: string (nullable = true)\n",
            " |-- overall_rating: long (nullable = true)\n",
            " |-- text: string (nullable = true)\n",
            " |-- title: string (nullable = true)\n",
            " |-- author_id: string (nullable = true)\n",
            " |-- tokenized: array (nullable = true)\n",
            " |    |-- element: string (containsNull = true)\n",
            " |-- thesaurus: array (nullable = true)\n",
            " |    |-- element: string (containsNull = true)\n",
            " |-- jaccard_sim: float (nullable = true)\n",
            " |-- simpson_sim: float (nullable = true)\n",
            "\n"
          ],
          "name": "stdout"
        }
      ]
    },
    {
      "cell_type": "code",
      "metadata": {
        "id": "A5Wz0L19mltH",
        "colab": {
          "base_uri": "https://localhost:8080/",
          "height": 479
        },
        "outputId": "60d0aada-4614-4259-8a5a-161738734cc2"
      },
      "source": [
        "df_simp.show()"
      ],
      "execution_count": null,
      "outputs": [
        {
          "output_type": "stream",
          "text": [
            "+------+--------+--------------------+--------------+--------------------+--------------------+--------------------+--------------------+--------------------+-----------+-----------+\n",
            "|    id|hotel_id|          hotel_name|overall_rating|                text|               title|           author_id|           tokenized|           thesaurus|jaccard_sim|simpson_sim|\n",
            "+------+--------+--------------------+--------------+--------------------+--------------------+--------------------+--------------------+--------------------+-----------+-----------+\n",
            "|683156|  220216|Beacon Hill Hotel...|             5|The rooms here ar...|“great hotel, gre...|C0FE2026E16771D2C...|['room', 'palatia...|[food, room, envi...|       0.33|       0.67|\n",
            "|692745|  113317|Casablanca Hotel ...|             5|I travelled from ...|“absolutely delig...|8C17DDA718DC7815A...|['travelled', 'sp...|    [room, shopping]|       0.17|        0.5|\n",
            "|692780|  100540|      MarQueen Hotel|             2|Sorry this is a b...|“Marqueen, overra...|75EACF34E876B7366...|['sorry', 'bit', ...|[family, room, va...|       0.18|        0.4|\n",
            "|692844|   80133|Handlery Hotel Sa...|             1|Rooms have been r...|“a motel ' dreami...|35FBC6EA978B4AE51...|['room', 'recentl...|[family, room, cl...|       0.33|        0.6|\n",
            "|692847|  119443|The Westin Los An...|             5|After a recent un...|“Wesin is more ho...|5BE26753AC8336073...|['recent', 'unple...|[room, cleanlines...|       0.38|        0.6|\n",
            "|692892|  112303|          Hotel Diva|             4|The Diva hotel ha...|“Clean, Safe and ...|E01681A50DC19FFA1...|['diva', 'hotel',...| [room, cleanliness]|       0.17|        0.5|\n",
            "|692980|  223154|Hampton Inn Houst...|             4|OK, this is a Ham...|“Location, decent...|38078EB1B07129384...|['ok', 'hampton',...|[cleanliness, foo...|        0.5|       0.75|\n",
            "|693626|  222959|Ritz-Carlton Batt...|             5|What can you say ...| “One of the best!!”|8916B7F8AA251A7BD...|['say', 'ritz', '...|[room, value, env...|       0.25|        0.4|\n",
            "|693665|  223774|       Madison Hotel|             5|finally...a new a...|“Great New Accomo...|F1EA76EBC9C5783D9...|['finallya', 'new...|[service, food, r...|       0.12|       0.25|\n",
            "|693714|   80562|The Sheraton San ...|             1|We just returned ...| “Don't bother.....”|889CA24F3FADE263B...|['returned', 'wee...|[service, fitness...|       0.12|       0.25|\n",
            "|694130|   93534|Renaissance New Y...|             5|This was our firs...|       “Great Hotel”|EDBF1C0227AF67F15...|['first', 'trip',...|[room, cleanlines...|       0.25|        0.4|\n",
            "|694813|   87573| Chicago's Essex Inn|             3|My first time in ...|“Medioce Hotel wi...|E19A564DC046B2BB1...|['first', 'time',...|[fitness, room, v...|       0.29|        0.5|\n",
            "|694909|  115598|DoubleTree by Hil...|             4|After three previ...| “Affordable luxury”|554D570D57C2F5799...|['three', 'previo...|[family, room, fi...|       0.25|        0.4|\n",
            "|696651|   80198|Hyatt Regency La ...|             4|This hotel has ty...|“Nice and great h...|38078EB1B07129384...|['hotel', 'typica...|[family, room, va...|       0.11|        0.2|\n",
            "|697717|  119769|       Dolphin Motel|             3|Choices were limi...|      “budget rooms”|8F536812E3CCB1E18...|['choice', 'limit...|        [food, room]|       0.17|        0.5|\n",
            "|697853|   77888|Hilton Checkers H...|             4|This is a beautif...|“Checkers -- Love...|C378E8B5259C23C79...|['beautiful', 'bo...|[service, food, r...|       0.29|        0.5|\n",
            "|698076|  214197|Hotel Pennsylvani...|             4|We stayed in Hote...|“Great price and ...|5C9E231962F0D5D5A...|['stayed', 'hotel...|[service, room, c...|       0.12|       0.25|\n",
            "|698217|   80167|Holiday Inn San D...|             1|The first night w...|“Not worth the pr...|647FB75E6D0B98419...|['first', 'night'...|     [service, room]|        0.0|        0.0|\n",
            "|698257|  223023|     Hudson New York|             3|Like many others,...|     “Disappointing”|8FBC847069AB72123...|['like', 'many', ...|     [service, room]|        0.0|        0.0|\n",
            "|698579|  224833|     Commodore Hotel|             1|We went to Seattl...|“Commodore - Don'...|C585C07D9595B707F...|['went', 'seattle...|[family, room, cl...|       0.11|        0.2|\n",
            "+------+--------+--------------------+--------------+--------------------+--------------------+--------------------+--------------------+--------------------+-----------+-----------+\n",
            "only showing top 20 rows\n",
            "\n"
          ],
          "name": "stdout"
        }
      ]
    },
    {
      "cell_type": "markdown",
      "metadata": {
        "id": "lGGTIxWmiKFQ"
      },
      "source": [
        "##Cosine"
      ]
    },
    {
      "cell_type": "code",
      "metadata": {
        "id": "BizXRQ9DiJSn",
        "colab": {
          "base_uri": "https://localhost:8080/",
          "height": 459
        },
        "outputId": "66d10ea1-85cb-41a6-c1b8-d1857b08ad85"
      },
      "source": [
        "df_concat=df_simp.select('author_id','hotel_name','overall_rating','thesaurus','jaccard_sim')\n",
        "df_concat.show()"
      ],
      "execution_count": null,
      "outputs": [
        {
          "output_type": "stream",
          "text": [
            "+--------------------+--------------------+--------------+--------------------+-----------+\n",
            "|           author_id|          hotel_name|overall_rating|           thesaurus|jaccard_sim|\n",
            "+--------------------+--------------------+--------------+--------------------+-----------+\n",
            "|C0FE2026E16771D2C...|Beacon Hill Hotel...|             5|[food, room, envi...|       0.33|\n",
            "|8C17DDA718DC7815A...|Casablanca Hotel ...|             5|    [room, shopping]|       0.17|\n",
            "|75EACF34E876B7366...|      MarQueen Hotel|             2|[family, room, va...|       0.18|\n",
            "|35FBC6EA978B4AE51...|Handlery Hotel Sa...|             1|[family, room, cl...|       0.33|\n",
            "|5BE26753AC8336073...|The Westin Los An...|             5|[room, cleanlines...|       0.38|\n",
            "|E01681A50DC19FFA1...|          Hotel Diva|             4| [room, cleanliness]|       0.17|\n",
            "|38078EB1B07129384...|Hampton Inn Houst...|             4|[cleanliness, foo...|        0.5|\n",
            "|8916B7F8AA251A7BD...|Ritz-Carlton Batt...|             5|[room, value, env...|       0.25|\n",
            "|F1EA76EBC9C5783D9...|       Madison Hotel|             5|[service, food, r...|       0.12|\n",
            "|889CA24F3FADE263B...|The Sheraton San ...|             1|[service, fitness...|       0.12|\n",
            "|EDBF1C0227AF67F15...|Renaissance New Y...|             5|[room, cleanlines...|       0.25|\n",
            "|E19A564DC046B2BB1...| Chicago's Essex Inn|             3|[fitness, room, v...|       0.29|\n",
            "|554D570D57C2F5799...|DoubleTree by Hil...|             4|[family, room, fi...|       0.25|\n",
            "|38078EB1B07129384...|Hyatt Regency La ...|             4|[family, room, va...|       0.11|\n",
            "|8F536812E3CCB1E18...|       Dolphin Motel|             3|        [food, room]|       0.17|\n",
            "|C378E8B5259C23C79...|Hilton Checkers H...|             4|[service, food, r...|       0.29|\n",
            "|5C9E231962F0D5D5A...|Hotel Pennsylvani...|             4|[service, room, c...|       0.12|\n",
            "|647FB75E6D0B98419...|Holiday Inn San D...|             1|     [service, room]|        0.0|\n",
            "|8FBC847069AB72123...|     Hudson New York|             3|     [service, room]|        0.0|\n",
            "|C585C07D9595B707F...|     Commodore Hotel|             1|[family, room, cl...|       0.11|\n",
            "+--------------------+--------------------+--------------+--------------------+-----------+\n",
            "only showing top 20 rows\n",
            "\n"
          ],
          "name": "stdout"
        }
      ]
    },
    {
      "cell_type": "code",
      "metadata": {
        "id": "MBpKzm302j03",
        "colab": {
          "base_uri": "https://localhost:8080/",
          "height": 459
        },
        "outputId": "73ccacfc-ebda-4e20-92d8-4d4247a33bd6"
      },
      "source": [
        "df_grouped=df_concat.groupby(\"author_id\").count()\n",
        "df_grouped.show()"
      ],
      "execution_count": null,
      "outputs": [
        {
          "output_type": "stream",
          "text": [
            "+--------------------+-----+\n",
            "|           author_id|count|\n",
            "+--------------------+-----+\n",
            "|C91CAB1743DBF417B...|    1|\n",
            "|A1148775F67E1100C...|    1|\n",
            "|051EEA2910C52D43E...|    4|\n",
            "|10439AB61C9F45FE8...|    1|\n",
            "|6C627DE9C83E5698D...|    2|\n",
            "|DF720B78F6BAA12BF...|    1|\n",
            "|9D5201F660844CEBB...|    3|\n",
            "|D1785EFDF52D479DB...|    1|\n",
            "|E518ED8D9EA816739...|    1|\n",
            "|3FAB4597BA6BE0627...|    1|\n",
            "|552CAB2BC55E6998B...|    1|\n",
            "|169314F596C4637E3...|    2|\n",
            "|E485E3B4D0B7DBDEA...|    1|\n",
            "|DBFD921B672524124...|    1|\n",
            "|1D724D8AF14861402...|    1|\n",
            "|BF452B9F8734327BE...|    1|\n",
            "|6BC207B670737B163...|    1|\n",
            "|3BFEC984DBB46FF1D...|    1|\n",
            "|10DC208BF71A051AC...|    1|\n",
            "|8B2144C81DE14364F...|    2|\n",
            "+--------------------+-----+\n",
            "only showing top 20 rows\n",
            "\n"
          ],
          "name": "stdout"
        }
      ]
    },
    {
      "cell_type": "code",
      "metadata": {
        "id": "l_zDE6_IzBfP",
        "colab": {
          "base_uri": "https://localhost:8080/",
          "height": 459
        },
        "outputId": "58e8e71d-527b-4431-95c6-eeb61d44ef62"
      },
      "source": [
        "from pyspark.sql import functions as F\n",
        "df_grouped = df_concat.groupby('author_id').agg(F.collect_list(df_concat[\"thesaurus\"]).alias('all_thesaurus'))\n",
        "df_grouped.show()"
      ],
      "execution_count": null,
      "outputs": [
        {
          "output_type": "stream",
          "text": [
            "+--------------------+--------------------+\n",
            "|           author_id|       all_thesaurus|\n",
            "+--------------------+--------------------+\n",
            "|C91CAB1743DBF417B...|[[room, value, fi...|\n",
            "|A1148775F67E1100C...|[[room, cleanline...|\n",
            "|051EEA2910C52D43E...|[[family, room, v...|\n",
            "|10439AB61C9F45FE8...|[[room, value, sh...|\n",
            "|6C627DE9C83E5698D...|[[room], [room, e...|\n",
            "|DF720B78F6BAA12BF...|[[service, room, ...|\n",
            "|9D5201F660844CEBB...|[[room, value, sh...|\n",
            "|D1785EFDF52D479DB...|[[room, value, fi...|\n",
            "|E518ED8D9EA816739...|      [[food, room]]|\n",
            "|3FAB4597BA6BE0627...|      [[food, room]]|\n",
            "|552CAB2BC55E6998B...|[[family, room, v...|\n",
            "|169314F596C4637E3...|[[food, room, cle...|\n",
            "|E485E3B4D0B7DBDEA...|[[room, environme...|\n",
            "|DBFD921B672524124...|[[service, cleanl...|\n",
            "|1D724D8AF14861402...|[[family, room, c...|\n",
            "|BF452B9F8734327BE...|[[food, room, env...|\n",
            "|6BC207B670737B163...|[[room, value, en...|\n",
            "|3BFEC984DBB46FF1D...|[[family, room, f...|\n",
            "|10DC208BF71A051AC...|[[family, room, c...|\n",
            "|8B2144C81DE14364F...|[[room, value, sh...|\n",
            "+--------------------+--------------------+\n",
            "only showing top 20 rows\n",
            "\n"
          ],
          "name": "stdout"
        }
      ]
    },
    {
      "cell_type": "code",
      "metadata": {
        "id": "eBlApSDG5vIu",
        "colab": {
          "base_uri": "https://localhost:8080/",
          "height": 459
        },
        "outputId": "aedd627b-02ac-42ec-8997-80e07a42c66b"
      },
      "source": [
        "from pyspark.sql.functions import col\n",
        "testDF4 = df_grouped.select(col(\"author_id\").alias(\"author_id2\"), col(\"all_thesaurus\").alias(\"all_reviews\"))\n",
        "testDF4.show()"
      ],
      "execution_count": null,
      "outputs": [
        {
          "output_type": "stream",
          "text": [
            "+--------------------+--------------------+\n",
            "|          author_id2|         all_reviews|\n",
            "+--------------------+--------------------+\n",
            "|C91CAB1743DBF417B...|[[room, value, fi...|\n",
            "|A1148775F67E1100C...|[[room, cleanline...|\n",
            "|051EEA2910C52D43E...|[[family, room, v...|\n",
            "|10439AB61C9F45FE8...|[[room, value, sh...|\n",
            "|6C627DE9C83E5698D...|[[room], [room, e...|\n",
            "|DF720B78F6BAA12BF...|[[service, room, ...|\n",
            "|9D5201F660844CEBB...|[[room, value, sh...|\n",
            "|D1785EFDF52D479DB...|[[room, value, fi...|\n",
            "|E518ED8D9EA816739...|      [[food, room]]|\n",
            "|3FAB4597BA6BE0627...|      [[food, room]]|\n",
            "|552CAB2BC55E6998B...|[[family, room, v...|\n",
            "|169314F596C4637E3...|[[food, room, cle...|\n",
            "|E485E3B4D0B7DBDEA...|[[room, environme...|\n",
            "|DBFD921B672524124...|[[service, cleanl...|\n",
            "|1D724D8AF14861402...|[[family, room, c...|\n",
            "|BF452B9F8734327BE...|[[food, room, env...|\n",
            "|6BC207B670737B163...|[[room, value, en...|\n",
            "|3BFEC984DBB46FF1D...|[[family, room, f...|\n",
            "|10DC208BF71A051AC...|[[family, room, c...|\n",
            "|8B2144C81DE14364F...|[[room, value, sh...|\n",
            "+--------------------+--------------------+\n",
            "only showing top 20 rows\n",
            "\n"
          ],
          "name": "stdout"
        }
      ]
    },
    {
      "cell_type": "markdown",
      "metadata": {
        "id": "Q5mcdTcSwZ39"
      },
      "source": [
        "###PPK weight vectors"
      ]
    },
    {
      "cell_type": "code",
      "metadata": {
        "id": "teE_nQQ-zDmv"
      },
      "source": [
        "def weight_vectors(thesaurus_list):\n",
        "  import math\n",
        "  keyword_list=['service','room','shopping','cleanliness','food','value','transportation','family','fitness','environment']\n",
        "  count_list=[]\n",
        "  # a = np.zeros(len(keyword_list))\n",
        "\n",
        "  number_of_reviews=len(thesaurus_list)\n",
        "  print(number_of_reviews)\n",
        "\n",
        "  total_keywords_of_user=0\n",
        "  for listElem in thesaurus_list:\n",
        "    total_keywords_of_user += len(listElem)\n",
        "\n",
        "  print(total_keywords_of_user)\n",
        "\n",
        "  keyword_count=0;\n",
        "\n",
        "  for key in keyword_list:\n",
        "    for items in thesaurus_list:\n",
        "      for item in items:\n",
        "       if item == key:\n",
        "        keyword_count+=1\n",
        "    count_list.append(keyword_count)\n",
        "    keyword_count=0\n",
        "\n",
        "  tf_list=[]\n",
        "  idf_list=[]\n",
        "  tf_idf_list=[]\n",
        "\n",
        "\n",
        "  for i in range(len(count_list)):\n",
        "    a=count_list[i]\n",
        "    if total_keywords_of_user != 0:\n",
        "      tf=float(a/total_keywords_of_user)\n",
        "      tf=round(tf,3)\n",
        "      tf_list.append(tf)\n",
        "    else:\n",
        "      tf_list.append(0.0)\n",
        "\n",
        "\n",
        "\n",
        "  print(\"Count list\")\n",
        "  print(count_list)\n",
        "  print(\"TF list\")\n",
        "  print(tf_list)\n",
        "  print(\"IDF list\")\n",
        "  print(idf_list)\n",
        "  print(\"TF-IDF list\")\n",
        "  print(tf_idf_list)\n",
        "\n",
        "  return tf_list\n",
        "\n",
        "\n",
        "\n",
        "# thes=[['environment', 'food', 'shopping', 'room'], ['food', 'room', 'friends', 'shopping', 'family', 'value', 'service', 'fitness'], ['cleanliness', 'food', 'room', 'service'], ['food', 'room', 'service'], ['food', 'room', 'cleanliness', 'friends', 'value', 'family', 'transportation', 'shopping', 'service']]\n",
        "# weight_vectors(thes)\n",
        "\n",
        "udf_TF_column = udf(weight_vectors, returnType= ArrayType(FloatType()))\n"
      ],
      "execution_count": null,
      "outputs": []
    },
    {
      "cell_type": "code",
      "metadata": {
        "id": "rmcruMHDzGg9",
        "colab": {
          "base_uri": "https://localhost:8080/",
          "height": 459
        },
        "outputId": "0d6e00c4-b2db-49f9-ac57-3eb4d9c42d78"
      },
      "source": [
        "testDF4 = testDF4.withColumn('weight_of_previous_user',udf_TF_column(testDF4.all_reviews))\n",
        "testDF4.show()"
      ],
      "execution_count": null,
      "outputs": [
        {
          "output_type": "stream",
          "text": [
            "+--------------------+--------------------+-----------------------+\n",
            "|          author_id2|         all_reviews|weight_of_previous_user|\n",
            "+--------------------+--------------------+-----------------------+\n",
            "|C91CAB1743DBF417B...|[[room, value, fi...|   [0.2, 0.2, 0.0, 0...|\n",
            "|A1148775F67E1100C...|[[room, cleanline...|   [0.125, 0.125, 0....|\n",
            "|051EEA2910C52D43E...|[[family, room, v...|   [0.167, 0.167, 0....|\n",
            "|10439AB61C9F45FE8...|[[room, value, sh...|   [0.0, 0.333, 0.33...|\n",
            "|6C627DE9C83E5698D...|[[room], [room, e...|   [0.0, 0.667, 0.0,...|\n",
            "|DF720B78F6BAA12BF...|[[service, room, ...|   [0.333, 0.333, 0....|\n",
            "|9D5201F660844CEBB...|[[room, value, sh...|   [0.214, 0.214, 0....|\n",
            "|D1785EFDF52D479DB...|[[room, value, fi...|   [0.2, 0.2, 0.0, 0...|\n",
            "|E518ED8D9EA816739...|      [[food, room]]|   [0.0, 0.5, 0.0, 0...|\n",
            "|3FAB4597BA6BE0627...|      [[food, room]]|   [0.0, 0.5, 0.0, 0...|\n",
            "|552CAB2BC55E6998B...|[[family, room, v...|   [0.2, 0.2, 0.0, 0...|\n",
            "|169314F596C4637E3...|[[food, room, cle...|   [0.143, 0.286, 0....|\n",
            "|E485E3B4D0B7DBDEA...|[[room, environme...|   [0.2, 0.2, 0.2, 0...|\n",
            "|DBFD921B672524124...|[[service, cleanl...|   [0.333, 0.0, 0.33...|\n",
            "|1D724D8AF14861402...|[[family, room, c...|   [0.167, 0.167, 0....|\n",
            "|BF452B9F8734327BE...|[[food, room, env...|   [0.0, 0.25, 0.0, ...|\n",
            "|6BC207B670737B163...|[[room, value, en...|   [0.2, 0.2, 0.0, 0...|\n",
            "|3BFEC984DBB46FF1D...|[[family, room, f...|   [0.0, 0.333, 0.0,...|\n",
            "|10DC208BF71A051AC...|[[family, room, c...|   [0.167, 0.167, 0....|\n",
            "|8B2144C81DE14364F...|[[room, value, sh...|   [0.25, 0.25, 0.12...|\n",
            "+--------------------+--------------------+-----------------------+\n",
            "only showing top 20 rows\n",
            "\n"
          ],
          "name": "stdout"
        }
      ]
    },
    {
      "cell_type": "markdown",
      "metadata": {
        "id": "2uN9lfkHwfua"
      },
      "source": [
        "###APK weight vectors"
      ]
    },
    {
      "cell_type": "code",
      "metadata": {
        "id": "zqAU7KjizLK6"
      },
      "source": [
        "def CosineSimTF(prev_user_weight):\n",
        "\n",
        "  keyword_list=['service','room','shopping','cleanliness','food','value','transportation','family','fitness','environment']\n",
        "  apk = \"cleanliness:3,environment:4,food:5,shopping:2,fitness:5\"\n",
        "\n",
        "  words=apk.split(\",\")\n",
        "\n",
        "  # print(words)\n",
        "\n",
        "  apkMatrix = [[0 for i in range(len(words))] for j in range(len(words))]\n",
        "  # print(apkMatrix)\n",
        "\n",
        "  apkMatrixColumnSum=[0]*(len(words))\n",
        "  # print(apkMatrixColumnSum)\n",
        "\n",
        "  num=words[0].split(\":\")\n",
        "  # print(num[1])\n",
        "\n",
        "\n",
        "  for j in range(len(words)):\n",
        "    splitString=words[j].split(\":\")\n",
        "    valuej=int(splitString[1])\n",
        "    for i in range(len(words)):\n",
        "      splits=words[i].split(\":\")\n",
        "      valuei=int(splits[1])\n",
        "      if valuej==valuei:\n",
        "        apkMatrix[i][j]=1\n",
        "      elif valuei>valuej:\n",
        "        temp=valuej/valuei\n",
        "        apkMatrix[i][j]=1/temp\n",
        "      elif valuej>valuei:\n",
        "        apkMatrix[i][j]=valuei/valuej\n",
        "\n",
        "  # print(apkMatrix)\n",
        "\n",
        "  for j in range(len(words)):\n",
        "    for i in range(len(words)):\n",
        "      apkMatrixColumnSum[j]+=apkMatrix[i][j]\n",
        "\n",
        "\n",
        "  for k in range(len(words)):\n",
        "    # print(apkMatrixColumnSum[k])\n",
        "    for l in range(len(words)):\n",
        "      apkMatrix[l][k]=apkMatrix[l][k]/float(apkMatrixColumnSum[k])\n",
        "\n",
        "  # print(apkMatrix)\n",
        "\n",
        "  weight_array=[0]*(len(words))\n",
        "\n",
        "  for j in range(len(words)):\n",
        "    for i in range(len(words)):\n",
        "      weight_array[j]+=apkMatrix[j][i]\n",
        "    weight_array[j]=weight_array[j]/(len(words))\n",
        "    weight_array[j]=round(weight_array[j],3)\n",
        "\n",
        "# print(apkMatrixColumnSum)\n",
        "  # print(weight_array)\n",
        "\n",
        "  apk_vector=[0.0]*10\n",
        "  # print(apk_vector)\n",
        "  n=len(words)\n",
        "\n",
        "  for j in range(len(keyword_list)):\n",
        "    for i in range(n):\n",
        "      x=words[i].split(\":\")\n",
        "      keyword=x[0]\n",
        "    # print(keyword_list[j])\n",
        "      if keyword_list[j] == keyword:\n",
        "        val=weight_array[i]\n",
        "        apk_vector[j]=val\n",
        "\n",
        "  print(apk_vector)\n",
        "  import numpy as np\n",
        "\n",
        "  b=np.array(prev_user_weight)\n",
        "  a=np.array(apk_vector)\n",
        "\n",
        "  x = np.dot(a, b)\n",
        "  x = round(x, 2)\n",
        "  print(x)\n",
        "  typX = type(x).__name__\n",
        "  xStr = str(x)\n",
        "  y= np.sqrt(np.dot(a, a) * np.dot(b, b))\n",
        "  y = round(y, 2)\n",
        "  print(y)\n",
        "  typY = type(y).__name__\n",
        "  yStr = str(y)\n",
        "\n",
        "  z = x/y\n",
        "  z = round(z, 2)\n",
        "  z = np.float32(z)\n",
        "  zStr = str(z)\n",
        "  zFloat = float(zStr)\n",
        "\n",
        "  return zFloat\n",
        "\n",
        "\n",
        "\n",
        "\n",
        "# weight=[0.143, 0.286, 0.0, 0.143, 0.286, 0.0, 0.0, 0.0, 0.0, 0.143]\n",
        "# CosineSimTF(weight)\n",
        "\n",
        "udf_Cosine_Sim_column = udf(CosineSimTF, returnType= FloatType())\n"
      ],
      "execution_count": null,
      "outputs": []
    },
    {
      "cell_type": "code",
      "metadata": {
        "id": "N-AyhG1FiRBW",
        "colab": {
          "base_uri": "https://localhost:8080/",
          "height": 459
        },
        "outputId": "ff534b76-fb74-4453-e327-86b1a56650d0"
      },
      "source": [
        "testDF4 = testDF4.withColumn('Cosine_Sim',udf_Cosine_Sim_column(testDF4.weight_of_previous_user))\n",
        "testDF4.show()"
      ],
      "execution_count": null,
      "outputs": [
        {
          "output_type": "stream",
          "text": [
            "+--------------------+--------------------+-----------------------+----------+\n",
            "|          author_id2|         all_reviews|weight_of_previous_user|Cosine_Sim|\n",
            "+--------------------+--------------------+-----------------------+----------+\n",
            "|C91CAB1743DBF417B...|[[room, value, fi...|   [0.2, 0.2, 0.0, 0...|      0.52|\n",
            "|A1148775F67E1100C...|[[room, cleanline...|   [0.125, 0.125, 0....|      0.59|\n",
            "|051EEA2910C52D43E...|[[family, room, v...|   [0.167, 0.167, 0....|       0.5|\n",
            "|10439AB61C9F45FE8...|[[room, value, sh...|   [0.0, 0.333, 0.33...|      0.11|\n",
            "|6C627DE9C83E5698D...|[[room], [room, e...|   [0.0, 0.667, 0.0,...|       0.2|\n",
            "|DF720B78F6BAA12BF...|[[service, room, ...|   [0.333, 0.333, 0....|      0.11|\n",
            "|9D5201F660844CEBB...|[[room, value, sh...|   [0.214, 0.214, 0....|      0.33|\n",
            "|D1785EFDF52D479DB...|[[room, value, fi...|   [0.2, 0.2, 0.0, 0...|      0.52|\n",
            "|E518ED8D9EA816739...|      [[food, room]]|   [0.0, 0.5, 0.0, 0...|      0.39|\n",
            "|3FAB4597BA6BE0627...|      [[food, room]]|   [0.0, 0.5, 0.0, 0...|      0.39|\n",
            "|552CAB2BC55E6998B...|[[family, room, v...|   [0.2, 0.2, 0.0, 0...|       0.0|\n",
            "|169314F596C4637E3...|[[food, room, cle...|   [0.143, 0.286, 0....|      0.45|\n",
            "|E485E3B4D0B7DBDEA...|[[room, environme...|   [0.2, 0.2, 0.2, 0...|      0.57|\n",
            "|DBFD921B672524124...|[[service, cleanl...|   [0.333, 0.0, 0.33...|      0.33|\n",
            "|1D724D8AF14861402...|[[family, room, c...|   [0.167, 0.167, 0....|      0.18|\n",
            "|BF452B9F8734327BE...|[[food, room, env...|   [0.0, 0.25, 0.0, ...|      0.52|\n",
            "|6BC207B670737B163...|[[room, value, en...|   [0.2, 0.2, 0.0, 0...|      0.43|\n",
            "|3BFEC984DBB46FF1D...|[[family, room, f...|   [0.0, 0.333, 0.0,...|       0.0|\n",
            "|10DC208BF71A051AC...|[[family, room, c...|   [0.167, 0.167, 0....|      0.41|\n",
            "|8B2144C81DE14364F...|[[room, value, sh...|   [0.25, 0.25, 0.12...|      0.35|\n",
            "+--------------------+--------------------+-----------------------+----------+\n",
            "only showing top 20 rows\n",
            "\n"
          ],
          "name": "stdout"
        }
      ]
    },
    {
      "cell_type": "code",
      "metadata": {
        "id": "r4uO_bALA1Bn",
        "colab": {
          "base_uri": "https://localhost:8080/",
          "height": 170
        },
        "outputId": "2b4ca11b-17be-4b2b-a7c3-292854e5424c"
      },
      "source": [
        "testDF4.printSchema()"
      ],
      "execution_count": null,
      "outputs": [
        {
          "output_type": "stream",
          "text": [
            "root\n",
            " |-- author_id2: string (nullable = true)\n",
            " |-- all_reviews: array (nullable = true)\n",
            " |    |-- element: array (containsNull = true)\n",
            " |    |    |-- element: string (containsNull = true)\n",
            " |-- weight_of_previous_user: array (nullable = true)\n",
            " |    |-- element: float (containsNull = true)\n",
            " |-- Cosine_Sim: float (nullable = true)\n",
            "\n"
          ],
          "name": "stdout"
        }
      ]
    },
    {
      "cell_type": "code",
      "metadata": {
        "id": "gCa5UekH_TCM",
        "colab": {
          "base_uri": "https://localhost:8080/",
          "height": 459
        },
        "outputId": "10de5ae5-e823-4a82-a890-a831a3d4dc3c"
      },
      "source": [
        "from pyspark.sql.functions import explode\n",
        "testDF4.select(testDF4.author_id2,testDF4.weight_of_previous_user,testDF4.Cosine_Sim,explode(testDF4.all_reviews))\n",
        "testDF4.show()"
      ],
      "execution_count": null,
      "outputs": [
        {
          "output_type": "stream",
          "text": [
            "+--------------------+--------------------+-----------------------+----------+\n",
            "|          author_id2|         all_reviews|weight_of_previous_user|Cosine_Sim|\n",
            "+--------------------+--------------------+-----------------------+----------+\n",
            "|C91CAB1743DBF417B...|[[room, value, fi...|   [0.2, 0.2, 0.0, 0...|      0.52|\n",
            "|A1148775F67E1100C...|[[room, cleanline...|   [0.125, 0.125, 0....|      0.59|\n",
            "|051EEA2910C52D43E...|[[family, room, v...|   [0.167, 0.167, 0....|       0.5|\n",
            "|10439AB61C9F45FE8...|[[room, value, sh...|   [0.0, 0.333, 0.33...|      0.11|\n",
            "|6C627DE9C83E5698D...|[[room], [room, e...|   [0.0, 0.667, 0.0,...|       0.2|\n",
            "|DF720B78F6BAA12BF...|[[service, room, ...|   [0.333, 0.333, 0....|      0.11|\n",
            "|9D5201F660844CEBB...|[[room, value, sh...|   [0.214, 0.214, 0....|      0.33|\n",
            "|D1785EFDF52D479DB...|[[room, value, fi...|   [0.2, 0.2, 0.0, 0...|      0.52|\n",
            "|E518ED8D9EA816739...|      [[food, room]]|   [0.0, 0.5, 0.0, 0...|      0.39|\n",
            "|3FAB4597BA6BE0627...|      [[food, room]]|   [0.0, 0.5, 0.0, 0...|      0.39|\n",
            "|552CAB2BC55E6998B...|[[family, room, v...|   [0.2, 0.2, 0.0, 0...|       0.0|\n",
            "|169314F596C4637E3...|[[food, room, cle...|   [0.143, 0.286, 0....|      0.45|\n",
            "|E485E3B4D0B7DBDEA...|[[room, environme...|   [0.2, 0.2, 0.2, 0...|      0.57|\n",
            "|DBFD921B672524124...|[[service, cleanl...|   [0.333, 0.0, 0.33...|      0.33|\n",
            "|1D724D8AF14861402...|[[family, room, c...|   [0.167, 0.167, 0....|      0.18|\n",
            "|BF452B9F8734327BE...|[[food, room, env...|   [0.0, 0.25, 0.0, ...|      0.52|\n",
            "|6BC207B670737B163...|[[room, value, en...|   [0.2, 0.2, 0.0, 0...|      0.43|\n",
            "|3BFEC984DBB46FF1D...|[[family, room, f...|   [0.0, 0.333, 0.0,...|       0.0|\n",
            "|10DC208BF71A051AC...|[[family, room, c...|   [0.167, 0.167, 0....|      0.41|\n",
            "|8B2144C81DE14364F...|[[room, value, sh...|   [0.25, 0.25, 0.12...|      0.35|\n",
            "+--------------------+--------------------+-----------------------+----------+\n",
            "only showing top 20 rows\n",
            "\n"
          ],
          "name": "stdout"
        }
      ]
    },
    {
      "cell_type": "code",
      "metadata": {
        "id": "CSdn_XFOKOid",
        "colab": {
          "base_uri": "https://localhost:8080/",
          "height": 479
        },
        "outputId": "54760d98-3790-457e-a59a-b27ffca49f43"
      },
      "source": [
        "df_cosine = df_simp.join(testDF4, df_simp.author_id == testDF4.author_id2)\n",
        "df_cosine.show()"
      ],
      "execution_count": null,
      "outputs": [
        {
          "output_type": "stream",
          "text": [
            "+------+--------+--------------------+--------------+--------------------+--------------------+--------------------+--------------------+--------------------+-----------+-----------+--------------------+--------------------+-----------------------+----------+\n",
            "|    id|hotel_id|          hotel_name|overall_rating|                text|               title|           author_id|           tokenized|           thesaurus|jaccard_sim|simpson_sim|          author_id2|         all_reviews|weight_of_previous_user|Cosine_Sim|\n",
            "+------+--------+--------------------+--------------+--------------------+--------------------+--------------------+--------------------+--------------------+-----------+-----------+--------------------+--------------------+-----------------------+----------+\n",
            "|683156|  220216|Beacon Hill Hotel...|             5|The rooms here ar...|“great hotel, gre...|C0FE2026E16771D2C...|['room', 'palatia...|[food, room, envi...|       0.33|       0.67|C0FE2026E16771D2C...|[[food, room, env...|   [0.0, 0.333, 0.0,...|      0.59|\n",
            "|692745|  113317|Casablanca Hotel ...|             5|I travelled from ...|“absolutely delig...|8C17DDA718DC7815A...|['travelled', 'sp...|    [room, shopping]|       0.17|        0.5|8C17DDA718DC7815A...|  [[room, shopping]]|   [0.0, 0.5, 0.5, 0...|      0.15|\n",
            "|692780|  100540|      MarQueen Hotel|             2|Sorry this is a b...|“Marqueen, overra...|75EACF34E876B7366...|['sorry', 'bit', ...|[family, room, va...|       0.18|        0.4|75EACF34E876B7366...|[[family, room, v...|   [0.125, 0.125, 0....|       0.4|\n",
            "|692844|   80133|Handlery Hotel Sa...|             1|Rooms have been r...|“a motel ' dreami...|35FBC6EA978B4AE51...|['room', 'recentl...|[family, room, cl...|       0.33|        0.6|35FBC6EA978B4AE51...|[[family, room, c...|   [0.143, 0.143, 0....|      0.62|\n",
            "|692847|  119443|The Westin Los An...|             5|After a recent un...|“Wesin is more ho...|5BE26753AC8336073...|['recent', 'unple...|[room, cleanlines...|       0.38|        0.6|5BE26753AC8336073...|[[room, cleanline...|   [0.154, 0.154, 0....|      0.56|\n",
            "|692892|  112303|          Hotel Diva|             4|The Diva hotel ha...|“Clean, Safe and ...|E01681A50DC19FFA1...|['diva', 'hotel',...| [room, cleanliness]|       0.17|        0.5|E01681A50DC19FFA1...|[[room, cleanline...|   [0.0, 0.5, 0.0, 0...|      0.24|\n",
            "|692980|  223154|Hampton Inn Houst...|             4|OK, this is a Ham...|“Location, decent...|38078EB1B07129384...|['ok', 'hampton',...|[cleanliness, foo...|        0.5|       0.75|38078EB1B07129384...|[[cleanliness, fo...|   [0.0, 0.111, 0.0,...|      0.62|\n",
            "|693626|  222959|Ritz-Carlton Batt...|             5|What can you say ...| “One of the best!!”|8916B7F8AA251A7BD...|['say', 'ritz', '...|[room, value, env...|       0.25|        0.4|8916B7F8AA251A7BD...|[[room, value, en...|   [0.167, 0.208, 0....|       0.5|\n",
            "|693665|  223774|       Madison Hotel|             5|finally...a new a...|“Great New Accomo...|F1EA76EBC9C5783D9...|['finallya', 'new...|[service, food, r...|       0.12|       0.25|F1EA76EBC9C5783D9...|[[service, food, ...|   [0.25, 0.25, 0.0,...|       0.3|\n",
            "|693714|   80562|The Sheraton San ...|             1|We just returned ...| “Don't bother.....”|889CA24F3FADE263B...|['returned', 'wee...|[service, fitness...|       0.12|       0.25|889CA24F3FADE263B...|[[service, fitnes...|   [0.25, 0.25, 0.0,...|       0.5|\n",
            "|694130|   93534|Renaissance New Y...|             5|This was our firs...|       “Great Hotel”|EDBF1C0227AF67F15...|['first', 'trip',...|[room, cleanlines...|       0.25|        0.4|EDBF1C0227AF67F15...|[[room, cleanline...|   [0.2, 0.2, 0.0, 0...|      0.38|\n",
            "|694813|   87573| Chicago's Essex Inn|             3|My first time in ...|“Medioce Hotel wi...|E19A564DC046B2BB1...|['first', 'time',...|[fitness, room, v...|       0.29|        0.5|E19A564DC046B2BB1...|[[fitness, room, ...|   [0.0, 0.25, 0.0, ...|      0.57|\n",
            "|694909|  115598|DoubleTree by Hil...|             4|After three previ...| “Affordable luxury”|554D570D57C2F5799...|['three', 'previo...|[family, room, fi...|       0.25|        0.4|554D570D57C2F5799...|[[family, room, f...|   [0.0, 0.286, 0.14...|      0.43|\n",
            "|696651|   80198|Hyatt Regency La ...|             4|This hotel has ty...|“Nice and great h...|38078EB1B07129384...|['hotel', 'typica...|[family, room, va...|       0.11|        0.2|38078EB1B07129384...|[[cleanliness, fo...|   [0.0, 0.111, 0.0,...|      0.62|\n",
            "|697717|  119769|       Dolphin Motel|             3|Choices were limi...|      “budget rooms”|8F536812E3CCB1E18...|['choice', 'limit...|        [food, room]|       0.17|        0.5|8F536812E3CCB1E18...|      [[food, room]]|   [0.0, 0.5, 0.0, 0...|      0.39|\n",
            "|697853|   77888|Hilton Checkers H...|             4|This is a beautif...|“Checkers -- Love...|C378E8B5259C23C79...|['beautiful', 'bo...|[service, food, r...|       0.29|        0.5|C378E8B5259C23C79...|[[service, food, ...|   [0.25, 0.25, 0.25...|      0.39|\n",
            "|698076|  214197|Hotel Pennsylvani...|             4|We stayed in Hote...|“Great price and ...|5C9E231962F0D5D5A...|['stayed', 'hotel...|[service, room, c...|       0.12|       0.25|5C9E231962F0D5D5A...|[[service, room, ...|   [0.25, 0.25, 0.0,...|      0.17|\n",
            "|698217|   80167|Holiday Inn San D...|             1|The first night w...|“Not worth the pr...|647FB75E6D0B98419...|['first', 'night'...|     [service, room]|        0.0|        0.0|647FB75E6D0B98419...|   [[service, room]]|   [0.5, 0.5, 0.0, 0...|       0.0|\n",
            "|698257|  223023|     Hudson New York|             3|Like many others,...|     “Disappointing”|8FBC847069AB72123...|['like', 'many', ...|     [service, room]|        0.0|        0.0|8FBC847069AB72123...|   [[service, room]]|   [0.5, 0.5, 0.0, 0...|       0.0|\n",
            "|698579|  224833|     Commodore Hotel|             1|We went to Seattl...|“Commodore - Don'...|C585C07D9595B707F...|['went', 'seattle...|[family, room, cl...|       0.11|        0.2|C585C07D9595B707F...|[[family, room, c...|   [0.2, 0.2, 0.0, 0...|      0.16|\n",
            "+------+--------+--------------------+--------------+--------------------+--------------------+--------------------+--------------------+--------------------+-----------+-----------+--------------------+--------------------+-----------------------+----------+\n",
            "only showing top 20 rows\n",
            "\n"
          ],
          "name": "stdout"
        }
      ]
    },
    {
      "cell_type": "code",
      "metadata": {
        "id": "lkI4AraZxbZT",
        "colab": {
          "base_uri": "https://localhost:8080/",
          "height": 34
        },
        "outputId": "b5a084c0-b9ac-4e39-a208-a2364c18daf4"
      },
      "source": [
        "print(df_cosine.count())"
      ],
      "execution_count": null,
      "outputs": [
        {
          "output_type": "stream",
          "text": [
            "8618\n"
          ],
          "name": "stdout"
        }
      ]
    },
    {
      "cell_type": "markdown",
      "metadata": {
        "id": "oDIxGA6Yd0CY"
      },
      "source": [
        "#Calculating Personalized Rating"
      ]
    },
    {
      "cell_type": "markdown",
      "metadata": {
        "id": "4twqib_2rtYd"
      },
      "source": [
        "##Filter Threshold"
      ]
    },
    {
      "cell_type": "code",
      "metadata": {
        "id": "1Ib3UdHevgRS",
        "colab": {
          "base_uri": "https://localhost:8080/",
          "height": 479
        },
        "outputId": "eb04aa11-e318-4f4a-d5e3-3f077bd08a3c"
      },
      "source": [
        "df_filtered_sim = df_cosine.filter(col(\"Cosine_Sim\") > 0.5)\n",
        "# df_filtered_sim = df_filter.filter((col(\"jaccard_sim\") > 0.7) & (col(\"simpson_sim\")>0.7) & (col(\"cosine_sim\")>0.7))\n",
        "df_filtered_sim.show()"
      ],
      "execution_count": null,
      "outputs": [
        {
          "output_type": "stream",
          "text": [
            "+------+--------+--------------------+--------------+--------------------+--------------------+--------------------+--------------------+--------------------+-----------+-----------+--------------------+--------------------+-----------------------+----------+\n",
            "|    id|hotel_id|          hotel_name|overall_rating|                text|               title|           author_id|           tokenized|           thesaurus|jaccard_sim|simpson_sim|          author_id2|         all_reviews|weight_of_previous_user|Cosine_Sim|\n",
            "+------+--------+--------------------+--------------+--------------------+--------------------+--------------------+--------------------+--------------------+-----------+-----------+--------------------+--------------------+-----------------------+----------+\n",
            "|683156|  220216|Beacon Hill Hotel...|             5|The rooms here ar...|“great hotel, gre...|C0FE2026E16771D2C...|['room', 'palatia...|[food, room, envi...|       0.33|       0.67|C0FE2026E16771D2C...|[[food, room, env...|   [0.0, 0.333, 0.0,...|      0.59|\n",
            "|692844|   80133|Handlery Hotel Sa...|             1|Rooms have been r...|“a motel ' dreami...|35FBC6EA978B4AE51...|['room', 'recentl...|[family, room, cl...|       0.33|        0.6|35FBC6EA978B4AE51...|[[family, room, c...|   [0.143, 0.143, 0....|      0.62|\n",
            "|692847|  119443|The Westin Los An...|             5|After a recent un...|“Wesin is more ho...|5BE26753AC8336073...|['recent', 'unple...|[room, cleanlines...|       0.38|        0.6|5BE26753AC8336073...|[[room, cleanline...|   [0.154, 0.154, 0....|      0.56|\n",
            "|692980|  223154|Hampton Inn Houst...|             4|OK, this is a Ham...|“Location, decent...|38078EB1B07129384...|['ok', 'hampton',...|[cleanliness, foo...|        0.5|       0.75|38078EB1B07129384...|[[cleanliness, fo...|   [0.0, 0.111, 0.0,...|      0.62|\n",
            "|694813|   87573| Chicago's Essex Inn|             3|My first time in ...|“Medioce Hotel wi...|E19A564DC046B2BB1...|['first', 'time',...|[fitness, room, v...|       0.29|        0.5|E19A564DC046B2BB1...|[[fitness, room, ...|   [0.0, 0.25, 0.0, ...|      0.57|\n",
            "|696651|   80198|Hyatt Regency La ...|             4|This hotel has ty...|“Nice and great h...|38078EB1B07129384...|['hotel', 'typica...|[family, room, va...|       0.11|        0.2|38078EB1B07129384...|[[cleanliness, fo...|   [0.0, 0.111, 0.0,...|      0.62|\n",
            "|700349|   98019|Motel 6 Memphis -...|             2|I stayed at this ...|    “Mediocre hotel”|50321281A9B2D1A59...|['stayed', 'hotel...|[food, room, clea...|       0.33|       0.67|50321281A9B2D1A59...|[[food, room, cle...|   [0.0, 0.333, 0.0,...|      0.52|\n",
            "|701323|   80937|Cornell Hotel de ...|             5|Couldn't find a r...|“Hotel Cornell Gr...|F7776B7886868A102...|['find', 'review'...|[room, cleanlines...|       0.43|        0.6|F7776B7886868A102...|[[room, cleanline...|   [0.0, 0.2, 0.0, 0...|      0.62|\n",
            "|711096|  112247|     Balboa Park Inn|             4|Had a very good e...|  “Had a great stay”|C2424C5CBCA3F68B9...|['good', 'experie...|[room, cleanlines...|       0.43|        0.6|C2424C5CBCA3F68B9...|[[room, cleanline...|   [0.2, 0.2, 0.0, 0...|      0.62|\n",
            "|724258|  100562|Sheraton Seattle ...|             5|Went to a convent...|“really enjoyed t...|C3DC2A287E8A4EB06...|['went', 'convent...|[family, room, va...|       0.22|        0.4|C3DC2A287E8A4EB06...|[[family, room, v...|   [0.0, 0.167, 0.0,...|      0.53|\n",
            "|725205|   99535|The Westin Riverwalk|             4|Stayed 4 nights i...|“Clean, friendly ...|4C4B49EDABD944622...|['stayed', '4', '...|[service, food, r...|       0.29|        0.5|4C4B49EDABD944622...|[[service, food, ...|   [0.25, 0.25, 0.0,...|      0.52|\n",
            "|738667|  217616|The Muse Hotel Ne...|             5|The best I've eve...|       “Outstanding”|8AC474D80B0DB8376...|['best', 'ive', '...|[food, room, envi...|        0.5|       0.75|8AC474D80B0DB8376...|[[food, room, env...|   [0.0, 0.25, 0.0, ...|       0.7|\n",
            "|739139|  304277|  Carlton Inn Midway|             3|I´ve been visitin...|“A good alternati...|D0E42031CA2D109C1...|['i´ve', 'visitin...|[food, cleanlines...|        0.6|        1.0|D0E42031CA2D109C1...|[[food, cleanline...|   [0.0, 0.0, 0.333,...|      0.67|\n",
            "|739221|   95261|Holiday Inn Colum...|             1|My friend and I t...|“Choose anything ...|2AFDE526081B316C4...|['friend', 'took'...|[family, room, va...|        0.3|        0.6|2AFDE526081B316C4...|[[family, room, v...|   [0.125, 0.125, 0....|       0.6|\n",
            "|739645|  277997|Pointe Hilton Tap...|             5|The hotel public ...|   “A great getaway”|677491F15A93901BC...|['hotel', 'public...|[family, room, fi...|       0.25|        0.4|677491F15A93901BC...|[[family, room, f...|   [0.0, 0.2, 0.0, 0...|      0.58|\n",
            "|739784|   81375|Sheraton Fisherma...|             4|Watched the hotel...|“Good hotel in Wh...|6733ADB034D969E13...|['watched', 'hote...|              [food]|        0.2|        1.0|6733ADB034D969E13...|            [[food]]|   [0.0, 0.0, 0.0, 0...|      0.55|\n",
            "|752865|   99288|    On The Ave Hotel|             4|Stayed in mid-Oct...|“Very pleasant stay”|39D73F38E427D1540...|['stayed', 'midoc...|[room, cleanlines...|       0.38|        0.6|39D73F38E427D1540...|[[room, cleanline...|   [0.0, 0.167, 0.0,...|      0.58|\n",
            "|811439|   99774|La Quinta Inn Man...|             4|This highly affor...| “Best Deal in NYC!”|2DF603BEB9D48C3E5...|['highly', 'affor...|[room, cleanlines...|       0.43|        0.6|2DF603BEB9D48C3E5...|[[room, cleanline...|   [0.125, 0.188, 0....|      0.56|\n",
            "|814324|   84074|Holiday Inn Washi...|             5|I've stayed sever...|  “Perfect Location”|9FD795C2B3735A2CE...|['ive', 'stayed',...|[family, room, cl...|        0.3|        0.6|9FD795C2B3735A2CE...|[[family, room, c...|   [0.125, 0.125, 0....|      0.53|\n",
            "|822270|  111490|Hotel Burnham - a...|             2|Good location, go...|“Satisfactory for...|001E910093736665E...|['good', 'locatio...|[service, food, r...|       0.29|        0.5|001E910093736665E...|[[service, food, ...|   [0.25, 0.25, 0.0,...|      0.52|\n",
            "+------+--------+--------------------+--------------+--------------------+--------------------+--------------------+--------------------+--------------------+-----------+-----------+--------------------+--------------------+-----------------------+----------+\n",
            "only showing top 20 rows\n",
            "\n"
          ],
          "name": "stdout"
        }
      ]
    },
    {
      "cell_type": "code",
      "metadata": {
        "id": "0cFa_JbX61c0",
        "colab": {
          "base_uri": "https://localhost:8080/",
          "height": 34
        },
        "outputId": "fa476551-2a78-4507-ff86-3c2017de209d"
      },
      "source": [
        "print(df_filtered_sim.count())"
      ],
      "execution_count": null,
      "outputs": [
        {
          "output_type": "stream",
          "text": [
            "1660\n"
          ],
          "name": "stdout"
        }
      ]
    },
    {
      "cell_type": "code",
      "metadata": {
        "id": "z3BoI6kbdvDT",
        "colab": {
          "base_uri": "https://localhost:8080/",
          "height": 459
        },
        "outputId": "e5e75701-0925-47a2-eeeb-4a7e633d6788"
      },
      "source": [
        "from pyspark.sql import functions as F\n",
        "agg_df = df_filtered_sim.groupBy('author_id').agg(F.collect_list('overall_rating').alias('collected_ratings'))\n",
        "agg_df.show()\n",
        "# agg_df = agg_df.withColumn('new', fun('collected_ratings'))"
      ],
      "execution_count": null,
      "outputs": [
        {
          "output_type": "stream",
          "text": [
            "+--------------------+-----------------+\n",
            "|           author_id|collected_ratings|\n",
            "+--------------------+-----------------+\n",
            "|C91CAB1743DBF417B...|              [4]|\n",
            "|A1148775F67E1100C...|              [5]|\n",
            "|D1785EFDF52D479DB...|              [5]|\n",
            "|E485E3B4D0B7DBDEA...|              [3]|\n",
            "|BF452B9F8734327BE...|              [4]|\n",
            "|38F0C4D0D9B429BD3...|              [5]|\n",
            "|50321281A9B2D1A59...|              [2]|\n",
            "|28043347C8B3104E4...|              [5]|\n",
            "|765B70BCC14881041...|              [4]|\n",
            "|A8C4C119EAFB17523...|              [3]|\n",
            "|5390D37CF79707CBD...|              [3]|\n",
            "|1E38B217001359D58...|              [4]|\n",
            "|A28D82457755229BC...|           [5, 4]|\n",
            "|DADBD3DD437872175...|              [3]|\n",
            "|F164A015A7AFC8430...|              [4]|\n",
            "|8658A3FFC7E6223F5...|              [4]|\n",
            "|B1C95B4EBC33F9F69...|           [4, 4]|\n",
            "|024147F852BC55FF0...|              [4]|\n",
            "|FECF9197299DEC7D3...|              [5]|\n",
            "|3AB336BFE841EF2CD...|              [5]|\n",
            "+--------------------+-----------------+\n",
            "only showing top 20 rows\n",
            "\n"
          ],
          "name": "stdout"
        }
      ]
    },
    {
      "cell_type": "code",
      "metadata": {
        "id": "8UqRKAkxtegQ"
      },
      "source": [
        "def mean_rating(rating_list):\n",
        "  number_of_ratings=0\n",
        "  for listElem in rating_list:\n",
        "    number_of_ratings+=1\n",
        "  print(number_of_ratings)\n",
        "  sum=0\n",
        "\n",
        "  for i in range(len(rating_list)):\n",
        "    sum+=rating_list[i]\n",
        "  print(sum)\n",
        "\n",
        "  mean=sum/number_of_ratings\n",
        "\n",
        "  return mean\n",
        "\n",
        "# list= [5, 4]\n",
        "# mean_rating(list)\n",
        "\n",
        "udf_mean_ratings_column = udf(mean_rating, returnType= FloatType())\n"
      ],
      "execution_count": null,
      "outputs": []
    },
    {
      "cell_type": "code",
      "metadata": {
        "id": "dbyPoz7Goao5"
      },
      "source": [
        "agg_df = agg_df.withColumn('MeanRatings',udf_mean_ratings_column(agg_df.collected_ratings))"
      ],
      "execution_count": null,
      "outputs": []
    },
    {
      "cell_type": "code",
      "metadata": {
        "id": "75ZxZD0QCWGk",
        "colab": {
          "base_uri": "https://localhost:8080/",
          "height": 459
        },
        "outputId": "45200986-27f8-40cc-da76-9db2a412f33e"
      },
      "source": [
        "agg_df.show()"
      ],
      "execution_count": null,
      "outputs": [
        {
          "output_type": "stream",
          "text": [
            "+--------------------+-----------------+-----------+\n",
            "|           author_id|collected_ratings|MeanRatings|\n",
            "+--------------------+-----------------+-----------+\n",
            "|C91CAB1743DBF417B...|              [4]|        4.0|\n",
            "|A1148775F67E1100C...|              [5]|        5.0|\n",
            "|D1785EFDF52D479DB...|              [5]|        5.0|\n",
            "|E485E3B4D0B7DBDEA...|              [3]|        3.0|\n",
            "|BF452B9F8734327BE...|              [4]|        4.0|\n",
            "|38F0C4D0D9B429BD3...|              [5]|        5.0|\n",
            "|50321281A9B2D1A59...|              [2]|        2.0|\n",
            "|28043347C8B3104E4...|              [5]|        5.0|\n",
            "|765B70BCC14881041...|              [4]|        4.0|\n",
            "|A8C4C119EAFB17523...|              [3]|        3.0|\n",
            "|5390D37CF79707CBD...|              [3]|        3.0|\n",
            "|1E38B217001359D58...|              [4]|        4.0|\n",
            "|A28D82457755229BC...|           [5, 4]|        4.5|\n",
            "|DADBD3DD437872175...|              [3]|        3.0|\n",
            "|F164A015A7AFC8430...|              [4]|        4.0|\n",
            "|8658A3FFC7E6223F5...|              [4]|        4.0|\n",
            "|B1C95B4EBC33F9F69...|           [4, 4]|        4.0|\n",
            "|024147F852BC55FF0...|              [4]|        4.0|\n",
            "|FECF9197299DEC7D3...|              [5]|        5.0|\n",
            "|3AB336BFE841EF2CD...|              [5]|        5.0|\n",
            "+--------------------+-----------------+-----------+\n",
            "only showing top 20 rows\n",
            "\n"
          ],
          "name": "stdout"
        }
      ]
    },
    {
      "cell_type": "code",
      "metadata": {
        "id": "z-N7lTzokaeh",
        "colab": {
          "base_uri": "https://localhost:8080/",
          "height": 561
        },
        "outputId": "14b14314-67bb-4a7a-b02a-556de1533a34"
      },
      "source": [
        "agg_df.printSchema()\n",
        "from pyspark.sql.functions import explode\n",
        "df_explode = agg_df.select(agg_df.author_id,agg_df.MeanRatings,explode(agg_df.collected_ratings))\n",
        "df_explode.show()"
      ],
      "execution_count": null,
      "outputs": [
        {
          "output_type": "stream",
          "text": [
            "root\n",
            " |-- author_id: string (nullable = true)\n",
            " |-- collected_ratings: array (nullable = true)\n",
            " |    |-- element: long (containsNull = true)\n",
            " |-- MeanRatings: float (nullable = true)\n",
            "\n",
            "+--------------------+-----------+---+\n",
            "|           author_id|MeanRatings|col|\n",
            "+--------------------+-----------+---+\n",
            "|C91CAB1743DBF417B...|        4.0|  4|\n",
            "|A1148775F67E1100C...|        5.0|  5|\n",
            "|D1785EFDF52D479DB...|        5.0|  5|\n",
            "|E485E3B4D0B7DBDEA...|        3.0|  3|\n",
            "|BF452B9F8734327BE...|        4.0|  4|\n",
            "|38F0C4D0D9B429BD3...|        5.0|  5|\n",
            "|50321281A9B2D1A59...|        2.0|  2|\n",
            "|28043347C8B3104E4...|        5.0|  5|\n",
            "|765B70BCC14881041...|        4.0|  4|\n",
            "|A8C4C119EAFB17523...|        3.0|  3|\n",
            "|5390D37CF79707CBD...|        3.0|  3|\n",
            "|1E38B217001359D58...|        4.0|  4|\n",
            "|A28D82457755229BC...|        4.5|  5|\n",
            "|A28D82457755229BC...|        4.5|  4|\n",
            "|DADBD3DD437872175...|        3.0|  3|\n",
            "|F164A015A7AFC8430...|        4.0|  4|\n",
            "|8658A3FFC7E6223F5...|        4.0|  4|\n",
            "|B1C95B4EBC33F9F69...|        4.0|  4|\n",
            "|B1C95B4EBC33F9F69...|        4.0|  4|\n",
            "|024147F852BC55FF0...|        4.0|  4|\n",
            "+--------------------+-----------+---+\n",
            "only showing top 20 rows\n",
            "\n"
          ],
          "name": "stdout"
        }
      ]
    },
    {
      "cell_type": "code",
      "metadata": {
        "id": "kA0Rxo7cHams"
      },
      "source": [
        "joinedDF = df_filtered_sim.join(agg_df, df_filtered_sim.author_id == agg_df.author_id)"
      ],
      "execution_count": null,
      "outputs": []
    },
    {
      "cell_type": "code",
      "metadata": {
        "id": "CKiSdUwRJh1W",
        "colab": {
          "base_uri": "https://localhost:8080/",
          "height": 479
        },
        "outputId": "f4c0b3cc-3ea4-49ea-9275-8068158a3a47"
      },
      "source": [
        "joinedDF.show()"
      ],
      "execution_count": null,
      "outputs": [
        {
          "output_type": "stream",
          "text": [
            "+-------+--------+--------------------+--------------+--------------------+--------------------+--------------------+--------------------+--------------------+-----------+-----------+--------------------+--------------------+-----------------------+----------+--------------------+-----------------+-----------+\n",
            "|     id|hotel_id|          hotel_name|overall_rating|                text|               title|           author_id|           tokenized|           thesaurus|jaccard_sim|simpson_sim|          author_id2|         all_reviews|weight_of_previous_user|Cosine_Sim|           author_id|collected_ratings|MeanRatings|\n",
            "+-------+--------+--------------------+--------------+--------------------+--------------------+--------------------+--------------------+--------------------+-----------+-----------+--------------------+--------------------+-----------------------+----------+--------------------+-----------------+-----------+\n",
            "|2268680|  115644|Chancellor Hotel ...|             5|We stayed here du...|      “Great Place!”|38F0C4D0D9B429BD3...|['stayed', 'trip'...|[room, cleanlines...|       0.43|        0.6|38F0C4D0D9B429BD3...|[[room, cleanline...|   [0.2, 0.2, 0.0, 0...|      0.62|38F0C4D0D9B429BD3...|              [5]|        5.0|\n",
            "|1076690|   99132|Hilton Houston We...|             5|Our family of fou...|“Enjoyed the Hilt...|A1148775F67E1100C...|['family', 'four'...|[room, cleanlines...|       0.44|        0.8|A1148775F67E1100C...|[[room, cleanline...|   [0.125, 0.125, 0....|      0.59|A1148775F67E1100C...|              [5]|        5.0|\n",
            "|1766998|   73855|Hyatt Regency Pho...|             4|The Phoenix Hyatt...|“Good convention ...|BF452B9F8734327BE...|['phoenix', 'hyat...|[food, room, envi...|       0.29|        0.5|BF452B9F8734327BE...|[[food, room, env...|   [0.0, 0.25, 0.0, ...|      0.52|BF452B9F8734327BE...|              [4]|        4.0|\n",
            "|1029244|  119730|Humphreys Half Mo...|             4|We spent two nigh...|“Nice, but with a...|C91CAB1743DBF417B...|['spent', 'two', ...|[room, value, fit...|       0.25|        0.4|C91CAB1743DBF417B...|[[room, value, fi...|   [0.2, 0.2, 0.0, 0...|      0.52|C91CAB1743DBF417B...|              [4]|        4.0|\n",
            "|1437155|  126260|The New York Pala...|             5|I travel to New Y...|“Palace is my New...|D1785EFDF52D479DB...|['travel', 'new',...|[room, value, fit...|       0.25|        0.4|D1785EFDF52D479DB...|[[room, value, fi...|   [0.2, 0.2, 0.0, 0...|      0.52|D1785EFDF52D479DB...|              [5]|        5.0|\n",
            "|1658388|   99382|The Marcel at Gra...|             3|I was very weary ...|“Pleasantly Surpr...|E485E3B4D0B7DBDEA...|['weary', 'going'...|[room, environmen...|       0.43|        0.6|E485E3B4D0B7DBDEA...|[[room, environme...|   [0.2, 0.2, 0.2, 0...|      0.57|E485E3B4D0B7DBDEA...|              [3]|        3.0|\n",
            "|1776523|   81019|Handlery Union Sq...|             4|This hotel has an...|“Location, locati...|1E38B217001359D58...|['hotel', 'excell...|[food, room, envi...|        0.5|       0.75|1E38B217001359D58...|[[food, room, env...|   [0.0, 0.25, 0.0, ...|      0.78|1E38B217001359D58...|              [4]|        4.0|\n",
            "| 850216|   93586|       The Mansfield|             5|*I miss the break...|“We don't stay an...|28043347C8B3104E4...|['i', 'miss', 'br...|              [food]|        0.2|        1.0|28043347C8B3104E4...|            [[food]]|   [0.0, 0.0, 0.0, 0...|      0.55|28043347C8B3104E4...|              [5]|        5.0|\n",
            "| 700349|   98019|Motel 6 Memphis -...|             2|I stayed at this ...|    “Mediocre hotel”|50321281A9B2D1A59...|['stayed', 'hotel...|[food, room, clea...|       0.33|       0.67|50321281A9B2D1A59...|[[food, room, cle...|   [0.0, 0.333, 0.0,...|      0.52|50321281A9B2D1A59...|              [2]|        2.0|\n",
            "|1731599|   76061|Crowne Plaza Beve...|             3|We recently spent...|              “Okay”|5390D37CF79707CBD...|['recently', 'spe...|[family, room, va...|       0.22|        0.4|5390D37CF79707CBD...|[[family, room, v...|   [0.0, 0.167, 0.0,...|      0.53|5390D37CF79707CBD...|              [3]|        3.0|\n",
            "|1140716|  208453| Hilton Times Square|             4|I wanted to exper...|“Great Value, Gre...|765B70BCC14881041...|['wanted', 'exper...|[family, room, cl...|        0.5|        1.0|765B70BCC14881041...|[[family, room, c...|   [0.0, 0.1, 0.1, 0...|      0.71|765B70BCC14881041...|              [4]|        4.0|\n",
            "|2198649|   89336|Royal Sonesta Har...|             5|Went up for a min...|“Really enjoyed o...|A28D82457755229BC...|['went', 'minivac...|[family, room, cl...|       0.33|        0.6|A28D82457755229BC...|[[family, room, c...|   [0.083, 0.167, 0....|      0.56|A28D82457755229BC...|           [5, 4]|        4.5|\n",
            "|2511532|  596200|Comfort Inn Conve...|             4|I just stayed her...|      “Basic, Clean”|A28D82457755229BC...|['stayed', '5', '...|[room, value, cle...|       0.25|        0.4|A28D82457755229BC...|[[family, room, c...|   [0.083, 0.167, 0....|      0.56|A28D82457755229BC...|           [5, 4]|        4.5|\n",
            "|1511339|   95253|Hyatt Regency Col...|             3|On the whole, thi...|“Avoid Convention...|A8C4C119EAFB17523...|['whole', 'bad', ...|[room, cleanlines...|       0.57|        0.8|A8C4C119EAFB17523...|[[room, cleanline...|   [0.167, 0.167, 0....|      0.79|A8C4C119EAFB17523...|              [3]|        3.0|\n",
            "|2449078|   84561|       Orlando Hotel|             3|Stayed here for 2...|          “Only ok.”|DADBD3DD437872175...|['stayed', '2', '...|[room, cleanlines...|       0.67|        0.8|DADBD3DD437872175...|[[room, cleanline...|   [0.0, 0.2, 0.2, 0...|      0.76|DADBD3DD437872175...|              [3]|        3.0|\n",
            "|2601560|  224223|nyma, the New Yor...|             4|My sister and I s...|“good value for y...|F164A015A7AFC8430...|['sister', 'staye...|[room, cleanlines...|        0.5|        0.8|F164A015A7AFC8430...|[[room, cleanline...|   [0.143, 0.143, 0....|      0.61|F164A015A7AFC8430...|              [4]|        4.0|\n",
            "|1537238|  217767| The Churchill Hotel|             4|Anne,Ned Gerry an...|“Clean, comfortab...|024147F852BC55FF0...|['annened', 'gerr...|[room, cleanlines...|       0.43|        0.6|024147F852BC55FF0...|[[room, cleanline...|   [0.2, 0.2, 0.0, 0...|      0.62|024147F852BC55FF0...|              [4]|        4.0|\n",
            "|2188863|  277997|Pointe Hilton Tap...|             5|What a wonderful ...|“Great place to g...|3AB336BFE841EF2CD...|['wonderful', 're...|[family, room, cl...|        0.3|        0.6|3AB336BFE841EF2CD...|[[family, room, c...|   [0.125, 0.125, 0....|       0.6|3AB336BFE841EF2CD...|              [5]|        5.0|\n",
            "|1090725|   81141|Marriott San Fran...|             4|Jsut returned fro...|     “Great Service”|8658A3FFC7E6223F5...|['jsut', 'returne...|[food, room, clea...|       0.33|       0.67|8658A3FFC7E6223F5...|[[food, room, cle...|   [0.0, 0.333, 0.0,...|      0.52|8658A3FFC7E6223F5...|              [4]|        4.0|\n",
            "|1521267|  100546|Hampton Inn Unive...|             4|We stayed at this...|“Good, clean hote...|B1C95B4EBC33F9F69...|['stayed', 'hotel...|[room, cleanlines...|       0.38|        0.6|B1C95B4EBC33F9F69...|[[room, cleanline...|   [0.182, 0.182, 0....|      0.55|B1C95B4EBC33F9F69...|           [4, 4]|        4.0|\n",
            "+-------+--------+--------------------+--------------+--------------------+--------------------+--------------------+--------------------+--------------------+-----------+-----------+--------------------+--------------------+-----------------------+----------+--------------------+-----------------+-----------+\n",
            "only showing top 20 rows\n",
            "\n"
          ],
          "name": "stdout"
        }
      ]
    },
    {
      "cell_type": "markdown",
      "metadata": {
        "id": "VSLFo8gPei_u"
      },
      "source": [
        "##Summation of overall rating"
      ]
    },
    {
      "cell_type": "code",
      "metadata": {
        "id": "S2CoissW3C-X",
        "colab": {
          "base_uri": "https://localhost:8080/",
          "height": 34
        },
        "outputId": "7af36c38-2b99-4916-b0e8-9a5fbc1cc409"
      },
      "source": [
        "import pyspark.sql.functions as F\n",
        "\n",
        "sum_of_overall_rating= joinedDF.agg(F.sum(\"overall_rating\")).collect()[0][0]\n",
        "print(sum_of_overall_rating)"
      ],
      "execution_count": null,
      "outputs": [
        {
          "output_type": "stream",
          "text": [
            "6625\n"
          ],
          "name": "stdout"
        }
      ]
    },
    {
      "cell_type": "markdown",
      "metadata": {
        "id": "GGzFkZK1eqOF"
      },
      "source": [
        "##Number of filtered rows"
      ]
    },
    {
      "cell_type": "code",
      "metadata": {
        "id": "9NM6B31k-LpY",
        "colab": {
          "base_uri": "https://localhost:8080/",
          "height": 34
        },
        "outputId": "a354b699-07f8-4b24-bc56-154863a0b7ad"
      },
      "source": [
        "sum=joinedDF.count()\n",
        "print(sum)"
      ],
      "execution_count": null,
      "outputs": [
        {
          "output_type": "stream",
          "text": [
            "1660\n"
          ],
          "name": "stdout"
        }
      ]
    },
    {
      "cell_type": "markdown",
      "metadata": {
        "id": "ziIbEj5EeyNm"
      },
      "source": [
        "##Calculating Average Ratings"
      ]
    },
    {
      "cell_type": "code",
      "metadata": {
        "id": "5uiGeKc2SYUf",
        "colab": {
          "base_uri": "https://localhost:8080/",
          "height": 34
        },
        "outputId": "5147da0a-35d3-44e8-afd2-b0371e67f855"
      },
      "source": [
        "average_ratings=sum_of_overall_rating// sum\n",
        "print(average_ratings)"
      ],
      "execution_count": null,
      "outputs": [
        {
          "output_type": "stream",
          "text": [
            "3\n"
          ],
          "name": "stdout"
        }
      ]
    },
    {
      "cell_type": "markdown",
      "metadata": {
        "id": "7UskwlDbe15-"
      },
      "source": [
        "##Summation of Similarity"
      ]
    },
    {
      "cell_type": "code",
      "metadata": {
        "id": "PKH3qYiLBAOr",
        "colab": {
          "base_uri": "https://localhost:8080/",
          "height": 34
        },
        "outputId": "ccfcf362-5a5c-4cbf-a128-18141517d365"
      },
      "source": [
        "Summation_of_Sim_Jaccard= joinedDF.agg(F.sum(\"jaccard_sim\")).collect()[0][0]\n",
        "print(Summation_of_Sim_Jaccard)"
      ],
      "execution_count": null,
      "outputs": [
        {
          "output_type": "stream",
          "text": [
            "596.6400035619736\n"
          ],
          "name": "stdout"
        }
      ]
    },
    {
      "cell_type": "code",
      "metadata": {
        "id": "XbYq9kvhzcuG",
        "colab": {
          "base_uri": "https://localhost:8080/",
          "height": 34
        },
        "outputId": "7fefe850-1be9-491c-9ce2-538280c450f0"
      },
      "source": [
        "Summation_of_Sim_Simpson= joinedDF.agg(F.sum(\"simpson_sim\")).collect()[0][0]\n",
        "print(Summation_of_Sim_Simpson)"
      ],
      "execution_count": null,
      "outputs": [
        {
          "output_type": "stream",
          "text": [
            "1011.6600214391947\n"
          ],
          "name": "stdout"
        }
      ]
    },
    {
      "cell_type": "code",
      "metadata": {
        "id": "TIaW3zsuzdb3",
        "colab": {
          "base_uri": "https://localhost:8080/",
          "height": 34
        },
        "outputId": "a0573097-af90-4569-9743-e86c04b3a0d4"
      },
      "source": [
        "Summation_of_Sim_Cosine= joinedDF.agg(F.sum(\"Cosine_Sim\")).collect()[0][0]\n",
        "print(Summation_of_Sim_Cosine)"
      ],
      "execution_count": null,
      "outputs": [
        {
          "output_type": "stream",
          "text": [
            "993.7499883770943\n"
          ],
          "name": "stdout"
        }
      ]
    },
    {
      "cell_type": "markdown",
      "metadata": {
        "id": "-YbnJETMe4qq"
      },
      "source": [
        "##Calculating normalizing factor(k)"
      ]
    },
    {
      "cell_type": "code",
      "metadata": {
        "id": "ok1n36BNEtii"
      },
      "source": [
        "# normalizing_factor= 1/Summation_Of_Sim\n",
        "# print(normalizing_factor)\n",
        "\n",
        "# normalizing_factor_simp= 1/Summation_Of_Sim_Simpson\n",
        "# print(normalizing_factor_simp)\n",
        "\n",
        "# normalizing_factor_cosine= 1/Summation_Of_Sim_Cosine\n",
        "# print(normalizing_factor_cosine)"
      ],
      "execution_count": null,
      "outputs": []
    },
    {
      "cell_type": "markdown",
      "metadata": {
        "id": "9sJNsLLQe9Qm"
      },
      "source": [
        "##Applying PR formula"
      ]
    },
    {
      "cell_type": "code",
      "metadata": {
        "id": "OCBj5fmrRfSb"
      },
      "source": [
        "# JACCARD\n",
        "def personalized_rating1(rating,mean_ratings):\n",
        "  x=average_ratings+((Summation_of_Sim_Jaccard*(rating-mean_ratings))/Summation_of_Sim_Jaccard)\n",
        "  return round(x, 3)\n",
        "udf_PR_column = udf(personalized_rating1, returnType= FloatType())\n",
        "\n",
        "# SIMPSON\n",
        "def personalized_rating2(rating,mean_ratings):\n",
        "  x=average_ratings+((Summation_of_Sim_Simpson*(rating-mean_ratings))/Summation_of_Sim_Simpson)\n",
        "  return round(x, 3)\n",
        "\n",
        "udf_PR2_column = udf(personalized_rating2, returnType= FloatType())\n",
        "\n",
        "# //COSINE\n",
        "def personalized_rating3(rating,mean_ratings):\n",
        "  x=average_ratings+((Summation_of_Sim_Cosine*(rating-mean_ratings))/Summation_of_Sim_Cosine)\n",
        "  return round(x, 3)\n",
        "\n",
        "udf_PR3_column = udf(personalized_rating3, returnType= FloatType())\n"
      ],
      "execution_count": null,
      "outputs": []
    },
    {
      "cell_type": "code",
      "metadata": {
        "id": "_3AhttsfFSon"
      },
      "source": [
        "joinedDF = joinedDF.withColumn('PR_Jaccard',udf_PR_column(joinedDF.overall_rating,joinedDF.MeanRatings))\n",
        "joinedDF = joinedDF.withColumn('PR_Simpson',udf_PR2_column(joinedDF.overall_rating,joinedDF.MeanRatings))\n",
        "joinedDF = joinedDF.withColumn('PR_Cosine',udf_PR3_column(joinedDF.overall_rating,joinedDF.MeanRatings))\n"
      ],
      "execution_count": null,
      "outputs": []
    },
    {
      "cell_type": "code",
      "metadata": {
        "id": "VtZlt30am_JS",
        "colab": {
          "base_uri": "https://localhost:8080/",
          "height": 479
        },
        "outputId": "01f20e3e-fef9-4966-b1b2-fb5f60867899"
      },
      "source": [
        "joinedDF.orderBy('jaccard_sim', ascending=False).select(\"hotel_name\",\"overall_rating\",\"thesaurus\",\"jaccard_sim\",\"Cosine_Sim\",\"simpson_sim\").show(truncate=False)"
      ],
      "execution_count": null,
      "outputs": [
        {
          "output_type": "stream",
          "text": [
            "+------------------------------------------------+--------------+------------------------------------------------------------------+-----------+----------+-----------+\n",
            "|hotel_name                                      |overall_rating|thesaurus                                                         |jaccard_sim|Cosine_Sim|simpson_sim|\n",
            "+------------------------------------------------+--------------+------------------------------------------------------------------+-----------+----------+-----------+\n",
            "|Pointe Hilton Tapatio Cliffs Resort             |4             |[fitness, food, environment, cleanliness]                         |0.8        |0.96      |1.0        |\n",
            "|Country Inn & Suites By Carlson, San Diego North|3             |[room, cleanliness, environment, fitness, shopping, service, food]|0.71       |0.78      |1.0        |\n",
            "|Econo Lodge Austin                              |4             |[room, cleanliness, value, environment, fitness, shopping, food]  |0.71       |0.76      |1.0        |\n",
            "|Hotel San Jose                                  |2             |[room, cleanliness, value, environment, fitness, shopping, food]  |0.71       |0.78      |1.0        |\n",
            "|Sheraton Suites Columbus                        |4             |[room, cleanliness, environment, fitness, shopping, service, food]|0.71       |0.78      |1.0        |\n",
            "|Handlery Union Square Hotel                     |4             |[room, cleanliness, environment, shopping, food]                  |0.67       |0.71      |0.8        |\n",
            "|InnPlace Hotel Phoenix North                    |3             |[room, cleanliness, fitness, shopping, food]                      |0.67       |0.64      |0.8        |\n",
            "|San Francisco Marriott Union Square             |4             |[room, cleanliness, environment, shopping, food]                  |0.67       |0.71      |0.8        |\n",
            "|Hilton San Diego Gaslamp Quarter                |4             |[room, environment, fitness, shopping, food]                      |0.67       |0.81      |0.8        |\n",
            "|Grand Hyatt Washington                          |5             |[room, cleanliness, environment, fitness, food]                   |0.67       |0.74      |0.8        |\n",
            "|Marriott Waterfront Seattle                     |5             |[room, environment, fitness, shopping, food]                      |0.67       |0.81      |0.8        |\n",
            "|Travel Inn Hotel New York                       |5             |[room, cleanliness, fitness, shopping, food]                      |0.67       |0.76      |0.8        |\n",
            "|The Sheraton San Diego Hotel & Marina           |3             |[room, cleanliness, environment, fitness, food]                   |0.67       |0.65      |0.8        |\n",
            "|Embassy Suites Hotel Denver - Aurora            |4             |[room, cleanliness, environment, fitness, food]                   |0.67       |0.86      |0.8        |\n",
            "|BEST WESTERN PLUS Blue Sea Lodge                |5             |[room, cleanliness, environment, fitness, food]                   |0.67       |0.86      |0.8        |\n",
            "|Quality Inn Dallas Market Center                |4             |[room, cleanliness, environment, fitness, food]                   |0.67       |0.61      |0.8        |\n",
            "|Swissotel Chicago                               |4             |[room, cleanliness, environment, fitness, food]                   |0.67       |0.86      |0.8        |\n",
            "|Orlando Hotel                                   |3             |[room, cleanliness, fitness, shopping, food]                      |0.67       |0.76      |0.8        |\n",
            "|Embassy Suites Hotel Washington, D.C.           |4             |[cleanliness, fitness, shopping, service, food]                   |0.67       |0.76      |0.8        |\n",
            "|Econo Lodge                                     |2             |[room, cleanliness, environment, fitness, food]                   |0.67       |0.86      |0.8        |\n",
            "+------------------------------------------------+--------------+------------------------------------------------------------------+-----------+----------+-----------+\n",
            "only showing top 20 rows\n",
            "\n"
          ],
          "name": "stdout"
        }
      ]
    },
    {
      "cell_type": "code",
      "metadata": {
        "id": "wJRzV2O-EFtX",
        "colab": {
          "base_uri": "https://localhost:8080/",
          "height": 479
        },
        "outputId": "ee0bf78b-e29f-4e4f-8017-3ded13dfd69e"
      },
      "source": [
        "joinedDF.orderBy('Cosine_Sim', ascending=False).select(\"hotel_name\",\"overall_rating\",\"thesaurus\",\"jaccard_sim\",\"Cosine_Sim\",\"simpson_sim\").show(truncate=False)"
      ],
      "execution_count": null,
      "outputs": [
        {
          "output_type": "stream",
          "text": [
            "+---------------------------------------------+--------------+--------------------------------------------------------+-----------+----------+-----------+\n",
            "|hotel_name                                   |overall_rating|thesaurus                                               |jaccard_sim|Cosine_Sim|simpson_sim|\n",
            "+---------------------------------------------+--------------+--------------------------------------------------------+-----------+----------+-----------+\n",
            "|Pointe Hilton Tapatio Cliffs Resort          |4             |[fitness, food, environment, cleanliness]               |0.8        |0.96      |1.0        |\n",
            "|Embassy Suites Hotel Denver - Aurora         |4             |[room, cleanliness, environment, fitness, food]         |0.67       |0.86      |0.8        |\n",
            "|BEST WESTERN PLUS Blue Sea Lodge             |5             |[room, cleanliness, environment, fitness, food]         |0.67       |0.86      |0.8        |\n",
            "|Econo Lodge                                  |2             |[room, cleanliness, environment, fitness, food]         |0.67       |0.86      |0.8        |\n",
            "|Swissotel Chicago                            |4             |[room, cleanliness, environment, fitness, food]         |0.67       |0.86      |0.8        |\n",
            "|Millennium Biltmore Hotel Los Angeles        |4             |[room, cleanliness, environment, fitness, food]         |0.67       |0.86      |0.8        |\n",
            "|Hilton San Diego Gaslamp Quarter             |4             |[room, environment, fitness, shopping, food]            |0.67       |0.81      |0.8        |\n",
            "|Marriott Waterfront Seattle                  |5             |[room, environment, fitness, shopping, food]            |0.67       |0.81      |0.8        |\n",
            "|Omni Shoreham Hotel                          |5             |[room, cleanliness, environment, fitness, service, food]|0.57       |0.79      |0.8        |\n",
            "|DoubleTree by Hilton Hotel Boston - Downtown |4             |[food, fitness]                                         |0.4        |0.79      |1.0        |\n",
            "|DoubleTree Suites by Hilton Phoenix          |4             |[room, cleanliness, value, environment, fitness, food]  |0.57       |0.79      |0.8        |\n",
            "|Radisson Hotel San Diego-Rancho Bernardo     |4             |[room, cleanliness, value, environment, fitness, food]  |0.57       |0.79      |0.8        |\n",
            "|Artisan Hotel Memphis                        |4             |[room, cleanliness, environment, fitness, service, food]|0.57       |0.79      |0.8        |\n",
            "|Crowne Plaza Jacksonville Riverfront Hotel   |5             |[fitness, food]                                         |0.4        |0.79      |1.0        |\n",
            "|Hyatt Regency Columbus                       |3             |[room, cleanliness, environment, fitness, service, food]|0.57       |0.79      |0.8        |\n",
            "|Travelodge Hotel at LAX                      |3             |[room, cleanliness, environment, fitness, service, food]|0.57       |0.79      |0.8        |\n",
            "|Handlery Union Square Hotel                  |4             |[room, cleanliness, environment, fitness, service, food]|0.57       |0.79      |0.8        |\n",
            "|Radisson Hotel at Los Angeles Airport        |5             |[room, cleanliness, environment, fitness, service, food]|0.57       |0.79      |0.8        |\n",
            "|Omni Houston Hotel                           |5             |[room, cleanliness, environment, fitness, service, food]|0.57       |0.79      |0.8        |\n",
            "|Holiday Inn Los Angeles International Airport|3             |[room, cleanliness, environment, fitness, service, food]|0.57       |0.79      |0.8        |\n",
            "+---------------------------------------------+--------------+--------------------------------------------------------+-----------+----------+-----------+\n",
            "only showing top 20 rows\n",
            "\n"
          ],
          "name": "stdout"
        }
      ]
    },
    {
      "cell_type": "code",
      "metadata": {
        "id": "qGGvIRrYES19",
        "colab": {
          "base_uri": "https://localhost:8080/",
          "height": 479
        },
        "outputId": "f9b53ba9-4a5b-4d25-ec9b-ddc605e2a00c"
      },
      "source": [
        "joinedDF.orderBy('simpson_sim', ascending=False).select(\"hotel_name\",\"overall_rating\",\"thesaurus\",\"jaccard_sim\",\"Cosine_Sim\",\"simpson_sim\").show(truncate=False)"
      ],
      "execution_count": null,
      "outputs": [
        {
          "output_type": "stream",
          "text": [
            "+---------------------------------------------+--------------+----------------------------------------------------------------------------------------------------------+-----------+----------+-----------+\n",
            "|hotel_name                                   |overall_rating|thesaurus                                                                                                 |jaccard_sim|Cosine_Sim|simpson_sim|\n",
            "+---------------------------------------------+--------------+----------------------------------------------------------------------------------------------------------+-----------+----------+-----------+\n",
            "|Crowne Plaza Jacksonville Riverfront Hotel   |5             |[fitness, food]                                                                                           |0.4        |0.79      |1.0        |\n",
            "|Affinia Manhattan                            |5             |[food, cleanliness]                                                                                       |0.4        |0.67      |1.0        |\n",
            "|Affinia Dumont                               |5             |[room, cleanliness, value, transportation, environment, fitness, shopping, service, food]                 |0.56       |0.69      |1.0        |\n",
            "|Sheraton Suites Columbus                     |4             |[room, cleanliness, environment, fitness, shopping, service, food]                                        |0.71       |0.78      |1.0        |\n",
            "|Embassy Suites Hotel Charlotte               |5             |[food, cleanliness]                                                                                       |0.4        |0.64      |1.0        |\n",
            "|Omni Parker House                            |4             |[room, cleanliness, value, environment, fitness, shopping, service, food]                                 |0.62       |0.71      |1.0        |\n",
            "|DoubleTree by Hilton Hotel Boston - Downtown |4             |[food, fitness]                                                                                           |0.4        |0.79      |1.0        |\n",
            "|Taj Boston                                   |4             |[fitness]                                                                                                 |0.2        |0.55      |1.0        |\n",
            "|Hyatt Regency Mission Bay                    |4             |[fitness]                                                                                                 |0.2        |0.55      |1.0        |\n",
            "|Comfort Inn Manhattan                        |3             |[family, room, cleanliness, value, environment, fitness, shopping, food, friends]                         |0.56       |0.73      |1.0        |\n",
            "|Hotel San Jose                               |2             |[room, cleanliness, value, environment, fitness, shopping, food]                                          |0.71       |0.78      |1.0        |\n",
            "|The Mansfield                                |5             |[food]                                                                                                    |0.2        |0.55      |1.0        |\n",
            "|Nob Hill Motor Inn                           |5             |[food, cleanliness, shopping]                                                                             |0.6        |0.67      |1.0        |\n",
            "|Hollywood Roosevelt Hotel - A Thompson Hotel |1             |[fitness]                                                                                                 |0.2        |0.55      |1.0        |\n",
            "|New York Marriott East Side                  |4             |[food]                                                                                                    |0.2        |0.55      |1.0        |\n",
            "|Hilton Times Square                          |4             |[family, room, cleanliness, value, transportation, environment, fitness, shopping, food, friends]         |0.5        |0.71      |1.0        |\n",
            "|Bahia Resort Hotel                           |1             |[food, cleanliness]                                                                                       |0.4        |0.64      |1.0        |\n",
            "|BEST WESTERN Grant Park Hotel                |1             |[fitness]                                                                                                 |0.2        |0.55      |1.0        |\n",
            "|Watertown Hotel Seattle                      |5             |[fitness, food, shopping]                                                                                 |0.6        |0.78      |1.0        |\n",
            "|Hampton Inn San Antonio Downtown (River Walk)|4             |[family, room, cleanliness, value, transportation, environment, fitness, shopping, service, food, friends]|0.45       |0.69      |1.0        |\n",
            "+---------------------------------------------+--------------+----------------------------------------------------------------------------------------------------------+-----------+----------+-----------+\n",
            "only showing top 20 rows\n",
            "\n"
          ],
          "name": "stdout"
        }
      ]
    },
    {
      "cell_type": "markdown",
      "metadata": {
        "id": "0vCZpl8lOsUN"
      },
      "source": [
        "#Accuracy Calculation"
      ]
    },
    {
      "cell_type": "code",
      "metadata": {
        "id": "Jmj7wVP4tSop",
        "colab": {
          "base_uri": "https://localhost:8080/",
          "height": 561
        },
        "outputId": "9ceed7e6-392f-4b6f-939d-c9031a17f42e"
      },
      "source": [
        "joinedDF.printSchema()"
      ],
      "execution_count": null,
      "outputs": [
        {
          "output_type": "stream",
          "text": [
            "root\n",
            " |-- id: long (nullable = true)\n",
            " |-- hotel_id: long (nullable = true)\n",
            " |-- hotel_name: string (nullable = true)\n",
            " |-- overall_rating: long (nullable = true)\n",
            " |-- text: string (nullable = true)\n",
            " |-- title: string (nullable = true)\n",
            " |-- author_id: string (nullable = true)\n",
            " |-- tokenized: array (nullable = true)\n",
            " |    |-- element: string (containsNull = true)\n",
            " |-- thesaurus: array (nullable = true)\n",
            " |    |-- element: string (containsNull = true)\n",
            " |-- jaccard_sim: float (nullable = true)\n",
            " |-- simpson_sim: float (nullable = true)\n",
            " |-- author_id2: string (nullable = true)\n",
            " |-- all_reviews: array (nullable = true)\n",
            " |    |-- element: array (containsNull = true)\n",
            " |    |    |-- element: string (containsNull = true)\n",
            " |-- weight_of_previous_user: array (nullable = true)\n",
            " |    |-- element: float (containsNull = true)\n",
            " |-- Cosine_Sim: float (nullable = true)\n",
            " |-- author_id: string (nullable = true)\n",
            " |-- collected_ratings: array (nullable = true)\n",
            " |    |-- element: long (containsNull = true)\n",
            " |-- MeanRatings: float (nullable = true)\n",
            " |-- PR_Jaccard: float (nullable = true)\n",
            " |-- PR_Simpson: float (nullable = true)\n",
            " |-- PR_Cosine: float (nullable = true)\n",
            " |-- Jaccard[qi-pi]: float (nullable = true)\n",
            " |-- Simpson[qi-pi]: float (nullable = true)\n",
            " |-- Cosine[qi-pi]: float (nullable = true)\n",
            "\n"
          ],
          "name": "stdout"
        }
      ]
    },
    {
      "cell_type": "code",
      "metadata": {
        "id": "zAWH-_YaOoN3"
      },
      "source": [
        "# df_accuracy=df_final\n",
        "joinedDF= joinedDF.withColumn('Jaccard[qi-pi]',(joinedDF['overall_rating'] - joinedDF['PR_Jaccard']))\n",
        "joinedDF = joinedDF.withColumn('Simpson[qi-pi]', ( joinedDF['overall_rating'] - joinedDF['PR_Simpson'] ))\n",
        "joinedDF = joinedDF.withColumn('Cosine[qi-pi]', ( joinedDF['overall_rating'] - joinedDF['PR_Cosine'] ))"
      ],
      "execution_count": null,
      "outputs": []
    },
    {
      "cell_type": "code",
      "metadata": {
        "id": "8t7rvov_45cO",
        "colab": {
          "base_uri": "https://localhost:8080/",
          "height": 479
        },
        "outputId": "f40b8ad5-f845-4a2f-e8c5-e42f149959ef"
      },
      "source": [
        "joinedDF.orderBy('PR_Cosine',ascending=False).show()"
      ],
      "execution_count": null,
      "outputs": [
        {
          "output_type": "stream",
          "text": [
            "+-------+--------+--------------------+--------------+--------------------+--------------------+--------------------+--------------------+--------------------+-----------+-----------+--------------------+--------------------+-----------------------+----------+--------------------+--------------------+-----------+----------+----------+---------+--------------+--------------+-------------+\n",
            "|     id|hotel_id|          hotel_name|overall_rating|                text|               title|           author_id|           tokenized|           thesaurus|jaccard_sim|simpson_sim|          author_id2|         all_reviews|weight_of_previous_user|Cosine_Sim|           author_id|   collected_ratings|MeanRatings|PR_Jaccard|PR_Simpson|PR_Cosine|Jaccard[qi-pi]|Simpson[qi-pi]|Cosine[qi-pi]|\n",
            "+-------+--------+--------------------+--------------+--------------------+--------------------+--------------------+--------------------+--------------------+-----------+-----------+--------------------+--------------------+-----------------------+----------+--------------------+--------------------+-----------+----------+----------+---------+--------------+--------------+-------------+\n",
            "|2077202|   99762|       Hotel Giraffe|             5|The Hotel Giraffe...|“Terrific Hotel i...|17393C95F546EBC72...|['hotel', 'giraff...|[family, room, va...|        0.3|        0.6|17393C95F546EBC72...|[[family, room, v...|   [0.118, 0.176, 0....|      0.53|17393C95F546EBC72...|           [5, 1, 2]|  2.6666667|     5.333|     5.333|    5.333|   -0.33300018|   -0.33300018|  -0.33300018|\n",
            "|2696527|  108361|Courtyard by Marr...|             5|This Courtyard Ma...|“Clean, Comfortab...|A28585464DCD99FF2...|['courtyard', 'ma...|[room, value, tra...|        0.5|        0.8|A28585464DCD99FF2...|[[family, room, f...|   [0.067, 0.2, 0.06...|      0.56|A28585464DCD99FF2...|           [2, 2, 5]|        3.0|       5.0|       5.0|      5.0|           0.0|           0.0|          0.0|\n",
            "|1383873|   84082|      Hotel Lombardy|             5|Very charming hot...|“Extremely enjoya...|E02AC4141639555E9...|['charming', 'hot...|[service, food, r...|       0.29|        0.5|E02AC4141639555E9...|[[service, food, ...|   [0.143, 0.286, 0....|      0.55|E02AC4141639555E9...|              [5, 1]|        3.0|       5.0|       5.0|      5.0|           0.0|           0.0|          0.0|\n",
            "|2249436|  119443|The Westin Los An...|             4|Have stayed at th...|“Convenient locat...|2A33749C2169CCCCF...|['stayed', 'hotel...|[room, environmen...|       0.33|       0.67|2A33749C2169CCCCF...|[[service, food, ...|   [0.135, 0.216, 0....|      0.65|2A33749C2169CCCCF...|[4, 1, 4, 3, 2, 2...|  2.4444444|     4.556|     4.556|    4.556|   -0.55600023|   -0.55600023|  -0.55600023|\n",
            "|2122367|  112412|Alexis Hotel - a ...|             4|Stayed here in Fe...|“Will return to t...|2A33749C2169CCCCF...|['stayed', 'febru...|[service, food, r...|       0.29|        0.5|2A33749C2169CCCCF...|[[service, food, ...|   [0.135, 0.216, 0....|      0.65|2A33749C2169CCCCF...|[4, 1, 4, 3, 2, 2...|  2.4444444|     4.556|     4.556|    4.556|   -0.55600023|   -0.55600023|  -0.55600023|\n",
            "|2808175|  236299|Sofitel Chicago W...|             4|I stayed here for...|“You pay for the ...|2A33749C2169CCCCF...|['stayed', '3', '...|[value, environme...|       0.43|        0.6|2A33749C2169CCCCF...|[[service, food, ...|   [0.135, 0.216, 0....|      0.65|2A33749C2169CCCCF...|[4, 1, 4, 3, 2, 2...|  2.4444444|     4.556|     4.556|    4.556|   -0.55600023|   -0.55600023|  -0.55600023|\n",
            "|1047134|   93462|InterContinental ...|             5|I stayed at this ...|        “Wonderful!”|F25195A2075AAF576...|['stayed', 'hotel...|[family, room, va...|        0.2|        0.4|F25195A2075AAF576...|[[family, room, v...|   [0.1, 0.2, 0.0, 0...|      0.53|F25195A2075AAF576...|              [5, 2]|        3.5|       4.5|       4.5|      4.5|           0.5|           0.5|          0.5|\n",
            "|2443134|   77708|BEST WESTERN PLUS...|             4|This hotel had te...|       “Great value”|C98A531E3EEBBC441...|['hotel', 'terrib...|[food, room, envi...|        0.5|       0.75|C98A531E3EEBBC441...|[[food, room, val...|   [0.0, 0.286, 0.0,...|      0.59|C98A531E3EEBBC441...|              [1, 4]|        2.5|       4.5|       4.5|      4.5|          -0.5|          -0.5|         -0.5|\n",
            "|1189530|  223983|Baltimore Marriot...|             5|This is a beautif...|“Beautiful Property”|976C94CF9444B0AD9...|['beautiful', 'ho...|[family, room, va...|        0.3|        0.6|976C94CF9444B0AD9...|[[family, room, v...|   [0.143, 0.143, 0....|      0.59|976C94CF9444B0AD9...|              [5, 2]|        3.5|       4.5|       4.5|      4.5|           0.5|           0.5|          0.5|\n",
            "| 859170|  611947|     Hilton New York|             4|Starting off with...|       “Solid Hotel”|0C25BD3C8573B1E24...|['starting', 'str...|[room, environmen...|       0.43|        0.6|0C25BD3C8573B1E24...|[[room, environme...|   [0.25, 0.25, 0.0,...|      0.55|0C25BD3C8573B1E24...|              [4, 1]|        2.5|       4.5|       4.5|      4.5|          -0.5|          -0.5|         -0.5|\n",
            "|2483060|   79868|Bay Club Hotel & ...|             4|Very nice hotel s...|   “very nice hotel”|EC6D88831E1BD0CC5...|['nice', 'hotel',...|[food, room, fitn...|        0.5|       0.75|EC6D88831E1BD0CC5...|[[family, room, c...|   [0.0, 0.182, 0.0,...|      0.59|EC6D88831E1BD0CC5...|              [1, 4]|        2.5|       4.5|       4.5|      4.5|          -0.5|          -0.5|         -0.5|\n",
            "|2181074|  277997|Pointe Hilton Tap...|             5|Accommodations:4 ...|“Excellent Resort...|C50836C3B7E26CED5...|['accommodations4...|[family, room, cl...|       0.33|        0.6|C50836C3B7E26CED5...|[[family, room, c...|   [0.167, 0.167, 0....|      0.71|C50836C3B7E26CED5...|              [5, 2]|        3.5|       4.5|       4.5|      4.5|           0.5|           0.5|          0.5|\n",
            "|1374223|  223049|Radisson Hotel at...|             4|Checked in here 1...|       “Good choice”|71C6DCA78CE66ED14...|['checked', '1209...|[food, room, envi...|       0.33|       0.67|71C6DCA78CE66ED14...|[[service, food, ...|   [0.143, 0.286, 0....|      0.59|71C6DCA78CE66ED14...|              [1, 4]|        2.5|       4.5|       4.5|      4.5|          -0.5|          -0.5|         -0.5|\n",
            "|1258130|   79971|Catamaran Resort ...|             4|My family of four...|“Catamaran was gr...|6637CA92762C83972...|['family', 'four'...|[family, room, cl...|       0.44|        0.8|6637CA92762C83972...|[[family, room, c...|   [0.182, 0.182, 0....|      0.59|6637CA92762C83972...|              [4, 1]|        2.5|       4.5|       4.5|      4.5|          -0.5|          -0.5|         -0.5|\n",
            "|1650984|  252350|Watertown Hotel S...|             5|Just got back fro...|“A really great h...|D259CF553F58B4EED...|['got', 'back', '...|[food, room, fitn...|       0.33|       0.67|D259CF553F58B4EED...|[[room, environme...|   [0.0, 0.4, 0.0, 0...|       0.6|D259CF553F58B4EED...|              [2, 5]|        3.5|       4.5|       4.5|      4.5|           0.5|           0.5|          0.5|\n",
            "|2458520|  119658|          Castle Inn|             5|Look no further -...|“Excellent Hideaw...|C9E269D89997BF192...|['look', '', 'pla...|[room, value, cle...|       0.22|        0.4|C9E269D89997BF192...|[[family, room, c...|   [0.083, 0.167, 0....|      0.56|C9E269D89997BF192...|              [2, 5]|        3.5|       4.5|       4.5|      4.5|           0.5|           0.5|          0.5|\n",
            "|2428229|   84039|One Washington Ci...|             4|Our family stayed...|“Lovely Suite and...|2934A37D3104BDCB4...|['family', 'staye...|[room, fitness, s...|       0.43|        0.6|2934A37D3104BDCB4...|[[room, fitness, ...|   [0.222, 0.222, 0....|       0.6|2934A37D3104BDCB4...|              [4, 1]|        2.5|       4.5|       4.5|      4.5|          -0.5|          -0.5|         -0.5|\n",
            "|1505505|  102466|Philadelphia Marr...|             5|I stayed at this ...| “Very Satisfied!!!”|7EEEA4706994E1426...|['stayed', 'hotel...|[family, room, cl...|        0.4|        0.8|7EEEA4706994E1426...|[[room, value, cl...|   [0.125, 0.156, 0....|      0.69|7EEEA4706994E1426...|     [3, 3, 2, 5, 5]|        3.6|       4.4|       4.4|      4.4|     0.5999999|     0.5999999|    0.5999999|\n",
            "|1733928|   84073|Holiday Inn Washi...|             5|I stayed at this ...|“Great Hotel for ...|7EEEA4706994E1426...|['stayed', 'hotel...|[family, room, va...|       0.33|        0.6|7EEEA4706994E1426...|[[room, value, cl...|   [0.125, 0.156, 0....|      0.69|7EEEA4706994E1426...|     [3, 3, 2, 5, 5]|        3.6|       4.4|       4.4|      4.4|     0.5999999|     0.5999999|    0.5999999|\n",
            "|1531257|   99392|         Hotel Metro|             5|We stayed here in...|       “Great Hotel”|CBAA86825C1F609C5...|['stayed', 'may',...|[food, room, envi...|        0.5|       0.75|CBAA86825C1F609C5...|[[food, room, env...|   [0.091, 0.273, 0....|      0.52|CBAA86825C1F609C5...|           [5, 3, 3]|  3.6666667|     4.333|     4.333|    4.333|     0.6669998|     0.6669998|    0.6669998|\n",
            "+-------+--------+--------------------+--------------+--------------------+--------------------+--------------------+--------------------+--------------------+-----------+-----------+--------------------+--------------------+-----------------------+----------+--------------------+--------------------+-----------+----------+----------+---------+--------------+--------------+-------------+\n",
            "only showing top 20 rows\n",
            "\n"
          ],
          "name": "stdout"
        }
      ]
    },
    {
      "cell_type": "code",
      "metadata": {
        "id": "6X8SWtBMTw2E",
        "colab": {
          "base_uri": "https://localhost:8080/",
          "height": 68
        },
        "outputId": "7e814c5a-bc9c-413d-d756-943893f30322"
      },
      "source": [
        "result_acc1= joinedDF.agg(F.sum(\"Jaccard[qi-pi]\")).collect()[0][0]\n",
        "print(result_acc1)\n",
        "result_acc2= joinedDF.agg(F.sum(\"Simpson[qi-pi]\")).collect()[0][0]\n",
        "print(result_acc2)\n",
        "result_acc3= joinedDF.agg(F.sum(\"Cosine[qi-pi]\")).collect()[0][0]\n",
        "print(result_acc3)"
      ],
      "execution_count": null,
      "outputs": [
        {
          "output_type": "stream",
          "text": [
            "1645.0020005106926\n",
            "1645.0020005106926\n",
            "1645.0020005106926\n"
          ],
          "name": "stdout"
        }
      ]
    },
    {
      "cell_type": "code",
      "metadata": {
        "id": "qYaACuWJT9zd",
        "colab": {
          "base_uri": "https://localhost:8080/",
          "height": 68
        },
        "outputId": "21e4c526-30ce-44c8-ebda-1cfc63b365f8"
      },
      "source": [
        "MAE_Jaccard= result_acc1/sum\n",
        "print(MAE_Jaccard)\n",
        "MAE_Simp=result_acc2/sum\n",
        "print(MAE_Simp)\n",
        "MAE_Cosine=result_acc3/sum\n",
        "print(MAE_Cosine)"
      ],
      "execution_count": null,
      "outputs": [
        {
          "output_type": "stream",
          "text": [
            "0.99096506054861\n",
            "0.99096506054861\n",
            "0.99096506054861\n"
          ],
          "name": "stdout"
        }
      ]
    },
    {
      "cell_type": "code",
      "metadata": {
        "id": "MOHDuknxUNn_",
        "colab": {
          "base_uri": "https://localhost:8080/",
          "height": 68
        },
        "outputId": "afa4bb9d-eed5-4a13-8530-e81533c04f28"
      },
      "source": [
        "x= sum_of_overall_rating/sum\n",
        "NMAE_Jaccard=MAE_Jaccard/x\n",
        "print(NMAE_Jaccard)\n",
        "NMAE_Simp=MAE_Simp/x\n",
        "print(NMAE_Simp)\n",
        "NMAE_Cosine=MAE_Cosine/x\n",
        "print(NMAE_Cosine)"
      ],
      "execution_count": null,
      "outputs": [
        {
          "output_type": "stream",
          "text": [
            "0.24830218875633098\n",
            "0.24830218875633098\n",
            "0.24830218875633098\n"
          ],
          "name": "stdout"
        }
      ]
    }
  ]
}