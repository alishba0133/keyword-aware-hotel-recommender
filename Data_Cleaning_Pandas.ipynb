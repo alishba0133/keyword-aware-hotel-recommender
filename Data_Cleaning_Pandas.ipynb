{
  "nbformat": 4,
  "nbformat_minor": 0,
  "metadata": {
    "colab": {
      "provenance": [],
      "toc_visible": true
    },
    "kernelspec": {
      "name": "python3",
      "display_name": "Python 3"
    }
  },
  "cells": [
    {
      "cell_type": "markdown",
      "metadata": {
        "id": "6wi7YM_pLK6p"
      },
      "source": [
        "#Installations"
      ]
    },
    {
      "cell_type": "code",
      "metadata": {
        "id": "MqM72gjUl6Oi"
      },
      "source": [
        "!apt-get install openjdk-8-jdk-headless -qq > /dev/null\n",
        "!wget -q https://www-us.apache.org/dist/spark/spark-2.4.5/spark-2.4.5-bin-hadoop2.7.tgz\n",
        "!tar xf spark-2.4.5-bin-hadoop2.7.tgz\n",
        "!pip install -q findspark\n",
        "\n",
        "\n",
        "import os\n",
        "os.environ[\"JAVA_HOME\"] = \"/usr/lib/jvm/java-8-openjdk-amd64\"\n",
        "os.environ[\"SPARK_HOME\"] = \"/content/spark-2.4.5-bin-hadoop2.7\""
      ],
      "execution_count": null,
      "outputs": []
    },
    {
      "cell_type": "code",
      "metadata": {
        "id": "1976C6mZoHWH",
        "colab": {
          "base_uri": "https://localhost:8080/",
          "height": 34
        },
        "outputId": "7f1f89af-f045-4cce-b827-c3051be21599"
      },
      "source": [
        "import findspark\n",
        "findspark.init()\n",
        "from pyspark.sql import SparkSession\n",
        "spark = SparkSession.builder.master(\"local[*]\").getOrCreate()\n",
        "print(\"Sucessful\")"
      ],
      "execution_count": null,
      "outputs": [
        {
          "output_type": "stream",
          "text": [
            "Sucessful\n"
          ],
          "name": "stdout"
        }
      ]
    },
    {
      "cell_type": "code",
      "metadata": {
        "id": "aRdtDVpQoYs6",
        "colab": {
          "base_uri": "https://localhost:8080/",
          "height": 34
        },
        "outputId": "f7c03616-e295-467f-a064-01b9c1ab7abd"
      },
      "source": [
        "from pyspark import SparkContext\n",
        "from pyspark.sql.types import *\n",
        "from pyspark.sql import SparkSession\n",
        "from pyspark.sql.functions import col, lit\n",
        "from functools import reduce\n",
        "import nltk\n",
        "from nltk.corpus import stopwords\n",
        "from nltk.stem import WordNetLemmatizer\n",
        "import matplotlib.pyplot as plt\n",
        "from wordcloud import WordCloud\n",
        "import pandas as pd\n",
        "import numpy as np\n",
        "\n",
        "import re\n",
        "import string\n",
        "\n",
        "from pandas.io.json import json_normalize\n",
        "from pyspark.sql.functions import explode, flatten\n",
        "print(\"Sucessful\")\n",
        "import json\n"
      ],
      "execution_count": null,
      "outputs": [
        {
          "output_type": "stream",
          "text": [
            "Sucessful\n"
          ],
          "name": "stdout"
        }
      ]
    },
    {
      "cell_type": "markdown",
      "metadata": {
        "id": "8xqPclob-9ux"
      },
      "source": [
        "\n",
        "\n",
        "# Mount Google Drive\n"
      ]
    },
    {
      "cell_type": "code",
      "metadata": {
        "id": "aZALAo1H5lds",
        "colab": {
          "base_uri": "https://localhost:8080/",
          "height": 54
        },
        "outputId": "1ed2aafc-0e58-4c13-8f8e-97170369e92f"
      },
      "source": [
        "from google.colab import drive\n",
        "drive.mount('/content/drive')"
      ],
      "execution_count": null,
      "outputs": [
        {
          "output_type": "stream",
          "text": [
            "Drive already mounted at /content/drive; to attempt to forcibly remount, call drive.mount(\"/content/drive\", force_remount=True).\n"
          ],
          "name": "stdout"
        }
      ]
    },
    {
      "cell_type": "markdown",
      "metadata": {
        "id": "dYzwYTGSKgnb"
      },
      "source": [
        "#Preprocessing Data with Pandas\n",
        "\n",
        "\n"
      ]
    },
    {
      "cell_type": "code",
      "metadata": {
        "id": "4pfR3hsTGW1j"
      },
      "source": [],
      "execution_count": null,
      "outputs": []
    },
    {
      "cell_type": "markdown",
      "metadata": {
        "id": "-hhaSgrOIZ9U"
      },
      "source": [
        "##Reviews data preprocessing"
      ]
    },
    {
      "cell_type": "code",
      "metadata": {
        "id": "Bw0dZlWEGWJu"
      },
      "source": [],
      "execution_count": null,
      "outputs": []
    },
    {
      "cell_type": "markdown",
      "metadata": {
        "id": "f2czHDriO-GX"
      },
      "source": [
        "### Read JSON data and load it in an object"
      ]
    },
    {
      "cell_type": "code",
      "metadata": {
        "id": "15e9wbCRQUaT"
      },
      "source": [
        "#Read JSON data and load it in an object\n",
        "with open('/content/drive/My Drive/Data Science Stuff/Hotel Recommender/Data/reviews.json') as datafile:\n",
        "    data_json = json.load(datafile)"
      ],
      "execution_count": null,
      "outputs": []
    },
    {
      "cell_type": "markdown",
      "metadata": {
        "id": "pIIL9ctmPIwX"
      },
      "source": [
        "###Normalize JSON data using Pandas"
      ]
    },
    {
      "cell_type": "code",
      "metadata": {
        "id": "ew6LESmfFfCu",
        "colab": {
          "base_uri": "https://localhost:8080/",
          "height": 666
        },
        "outputId": "f30c5ec1-6af4-4c6c-ee79-222ca01b66be"
      },
      "source": [
        "#Normalize JSON data using Pandas\n",
        "df_reviews_pd = pd.json_normalize(data_json)\n",
        "df_reviews_pd.head()"
      ],
      "execution_count": null,
      "outputs": [
        {
          "output_type": "execute_result",
          "data": {
            "text/html": [
              "<div>\n",
              "<style scoped>\n",
              "    .dataframe tbody tr th:only-of-type {\n",
              "        vertical-align: middle;\n",
              "    }\n",
              "\n",
              "    .dataframe tbody tr th {\n",
              "        vertical-align: top;\n",
              "    }\n",
              "\n",
              "    .dataframe thead th {\n",
              "        text-align: right;\n",
              "    }\n",
              "</style>\n",
              "<table border=\"1\" class=\"dataframe\">\n",
              "  <thead>\n",
              "    <tr style=\"text-align: right;\">\n",
              "      <th></th>\n",
              "      <th>title</th>\n",
              "      <th>text</th>\n",
              "      <th>date_stayed</th>\n",
              "      <th>offering_id</th>\n",
              "      <th>num_helpful_votes</th>\n",
              "      <th>date</th>\n",
              "      <th>id</th>\n",
              "      <th>via_mobile</th>\n",
              "      <th>ratings.service</th>\n",
              "      <th>ratings.cleanliness</th>\n",
              "      <th>ratings.overall</th>\n",
              "      <th>ratings.value</th>\n",
              "      <th>ratings.location</th>\n",
              "      <th>ratings.sleep_quality</th>\n",
              "      <th>ratings.rooms</th>\n",
              "      <th>author.username</th>\n",
              "      <th>author.num_cities</th>\n",
              "      <th>author.num_helpful_votes</th>\n",
              "      <th>author.num_reviews</th>\n",
              "      <th>author.num_type_reviews</th>\n",
              "      <th>author.id</th>\n",
              "      <th>author.location</th>\n",
              "      <th>ratings.check_in_front_desk</th>\n",
              "      <th>ratings.business_service_(e_g_internet_access)</th>\n",
              "    </tr>\n",
              "  </thead>\n",
              "  <tbody>\n",
              "    <tr>\n",
              "      <th>0</th>\n",
              "      <td>“Truly is \"Jewel of the Upper Wets Side\"”</td>\n",
              "      <td>Stayed in a king suite for 11 nights and yes i...</td>\n",
              "      <td>December 2012</td>\n",
              "      <td>93338</td>\n",
              "      <td>0</td>\n",
              "      <td>December 17, 2012</td>\n",
              "      <td>147643103</td>\n",
              "      <td>False</td>\n",
              "      <td>5.0</td>\n",
              "      <td>5.0</td>\n",
              "      <td>5.0</td>\n",
              "      <td>5.0</td>\n",
              "      <td>5.0</td>\n",
              "      <td>5.0</td>\n",
              "      <td>5.0</td>\n",
              "      <td>Papa_Panda</td>\n",
              "      <td>22.0</td>\n",
              "      <td>12.0</td>\n",
              "      <td>29.0</td>\n",
              "      <td>24.0</td>\n",
              "      <td>8C0B42FF3C0FA366A21CFD785302A032</td>\n",
              "      <td>Gold Coast</td>\n",
              "      <td>NaN</td>\n",
              "      <td>NaN</td>\n",
              "    </tr>\n",
              "    <tr>\n",
              "      <th>1</th>\n",
              "      <td>“My home away from home!”</td>\n",
              "      <td>On every visit to NYC, the Hotel Beacon is the...</td>\n",
              "      <td>December 2012</td>\n",
              "      <td>93338</td>\n",
              "      <td>0</td>\n",
              "      <td>December 17, 2012</td>\n",
              "      <td>147639004</td>\n",
              "      <td>False</td>\n",
              "      <td>5.0</td>\n",
              "      <td>5.0</td>\n",
              "      <td>5.0</td>\n",
              "      <td>5.0</td>\n",
              "      <td>5.0</td>\n",
              "      <td>5.0</td>\n",
              "      <td>5.0</td>\n",
              "      <td>Maureen V</td>\n",
              "      <td>2.0</td>\n",
              "      <td>NaN</td>\n",
              "      <td>2.0</td>\n",
              "      <td>NaN</td>\n",
              "      <td>E3C85CA9DBBBC77E0DB534ABE93E4713</td>\n",
              "      <td>Sydney, New South Wales, Australia</td>\n",
              "      <td>NaN</td>\n",
              "      <td>NaN</td>\n",
              "    </tr>\n",
              "    <tr>\n",
              "      <th>2</th>\n",
              "      <td>“Great Stay”</td>\n",
              "      <td>This is a great property in Midtown. We two di...</td>\n",
              "      <td>December 2012</td>\n",
              "      <td>1762573</td>\n",
              "      <td>0</td>\n",
              "      <td>December 18, 2012</td>\n",
              "      <td>147697954</td>\n",
              "      <td>False</td>\n",
              "      <td>4.0</td>\n",
              "      <td>5.0</td>\n",
              "      <td>4.0</td>\n",
              "      <td>4.0</td>\n",
              "      <td>5.0</td>\n",
              "      <td>4.0</td>\n",
              "      <td>4.0</td>\n",
              "      <td>vuguru</td>\n",
              "      <td>12.0</td>\n",
              "      <td>17.0</td>\n",
              "      <td>14.0</td>\n",
              "      <td>14.0</td>\n",
              "      <td>FB1032DECE1162CB3556D05F278AAFFD</td>\n",
              "      <td>Houston</td>\n",
              "      <td>NaN</td>\n",
              "      <td>NaN</td>\n",
              "    </tr>\n",
              "    <tr>\n",
              "      <th>3</th>\n",
              "      <td>“Modern Convenience”</td>\n",
              "      <td>The Andaz is a nice hotel in a central locatio...</td>\n",
              "      <td>August 2012</td>\n",
              "      <td>1762573</td>\n",
              "      <td>0</td>\n",
              "      <td>December 17, 2012</td>\n",
              "      <td>147625723</td>\n",
              "      <td>False</td>\n",
              "      <td>5.0</td>\n",
              "      <td>5.0</td>\n",
              "      <td>4.0</td>\n",
              "      <td>5.0</td>\n",
              "      <td>5.0</td>\n",
              "      <td>5.0</td>\n",
              "      <td>5.0</td>\n",
              "      <td>Hotel-Designer</td>\n",
              "      <td>5.0</td>\n",
              "      <td>26.0</td>\n",
              "      <td>5.0</td>\n",
              "      <td>5.0</td>\n",
              "      <td>EC3E275EE7590694889C8C7EE0D13961</td>\n",
              "      <td>Laguna Beach, CA</td>\n",
              "      <td>NaN</td>\n",
              "      <td>NaN</td>\n",
              "    </tr>\n",
              "    <tr>\n",
              "      <th>4</th>\n",
              "      <td>“Its the best of the Andaz Brand in the US....”</td>\n",
              "      <td>I have stayed at each of the US Andaz properti...</td>\n",
              "      <td>December 2012</td>\n",
              "      <td>1762573</td>\n",
              "      <td>0</td>\n",
              "      <td>December 17, 2012</td>\n",
              "      <td>147612823</td>\n",
              "      <td>False</td>\n",
              "      <td>4.0</td>\n",
              "      <td>5.0</td>\n",
              "      <td>4.0</td>\n",
              "      <td>3.0</td>\n",
              "      <td>5.0</td>\n",
              "      <td>5.0</td>\n",
              "      <td>5.0</td>\n",
              "      <td>JamesE339</td>\n",
              "      <td>34.0</td>\n",
              "      <td>65.0</td>\n",
              "      <td>104.0</td>\n",
              "      <td>49.0</td>\n",
              "      <td>BA524A238B1171206691A6CC3F28F266</td>\n",
              "      <td>Saint Louis, Missouri</td>\n",
              "      <td>NaN</td>\n",
              "      <td>NaN</td>\n",
              "    </tr>\n",
              "  </tbody>\n",
              "</table>\n",
              "</div>"
            ],
            "text/plain": [
              "                                             title  ... ratings.business_service_(e_g_internet_access)\n",
              "0        “Truly is \"Jewel of the Upper Wets Side\"”  ...                                            NaN\n",
              "1                        “My home away from home!”  ...                                            NaN\n",
              "2                                     “Great Stay”  ...                                            NaN\n",
              "3                             “Modern Convenience”  ...                                            NaN\n",
              "4  “Its the best of the Andaz Brand in the US....”  ...                                            NaN\n",
              "\n",
              "[5 rows x 24 columns]"
            ]
          },
          "metadata": {
            "tags": []
          },
          "execution_count": 6
        }
      ]
    },
    {
      "cell_type": "markdown",
      "metadata": {
        "id": "vzpZ4ZVTQTrL"
      },
      "source": [
        "###View the data frame structure"
      ]
    },
    {
      "cell_type": "code",
      "metadata": {
        "id": "F7avxR7MLJnr",
        "colab": {
          "base_uri": "https://localhost:8080/",
          "height": 544
        },
        "outputId": "71588466-3f79-424c-b96b-d88da7027cbe"
      },
      "source": [
        "#Getting data structure/info\n",
        "df_reviews_pd.info()"
      ],
      "execution_count": null,
      "outputs": [
        {
          "output_type": "stream",
          "text": [
            "<class 'pandas.core.frame.DataFrame'>\n",
            "RangeIndex: 878561 entries, 0 to 878560\n",
            "Data columns (total 24 columns):\n",
            " #   Column                                          Non-Null Count   Dtype  \n",
            "---  ------                                          --------------   -----  \n",
            " 0   title                                           878561 non-null  object \n",
            " 1   text                                            878561 non-null  object \n",
            " 2   date_stayed                                     810973 non-null  object \n",
            " 3   offering_id                                     878561 non-null  int64  \n",
            " 4   num_helpful_votes                               878561 non-null  int64  \n",
            " 5   date                                            878561 non-null  object \n",
            " 6   id                                              878561 non-null  int64  \n",
            " 7   via_mobile                                      878561 non-null  bool   \n",
            " 8   ratings.service                                 760918 non-null  float64\n",
            " 9   ratings.cleanliness                             759835 non-null  float64\n",
            " 10  ratings.overall                                 878561 non-null  float64\n",
            " 11  ratings.value                                   753695 non-null  float64\n",
            " 12  ratings.location                                664904 non-null  float64\n",
            " 13  ratings.sleep_quality                           500903 non-null  float64\n",
            " 14  ratings.rooms                                   705404 non-null  float64\n",
            " 15  author.username                                 878561 non-null  object \n",
            " 16  author.num_cities                               613968 non-null  float64\n",
            " 17  author.num_helpful_votes                        653980 non-null  float64\n",
            " 18  author.num_reviews                              801438 non-null  float64\n",
            " 19  author.num_type_reviews                         515610 non-null  float64\n",
            " 20  author.id                                       878561 non-null  object \n",
            " 21  author.location                                 878561 non-null  object \n",
            " 22  ratings.check_in_front_desk                     99784 non-null   float64\n",
            " 23  ratings.business_service_(e_g_internet_access)  65729 non-null   float64\n",
            "dtypes: bool(1), float64(13), int64(3), object(7)\n",
            "memory usage: 155.0+ MB\n"
          ],
          "name": "stdout"
        }
      ]
    },
    {
      "cell_type": "markdown",
      "metadata": {
        "id": "e_sSnk4KQZIc"
      },
      "source": [
        "###Drop redundent columns"
      ]
    },
    {
      "cell_type": "code",
      "metadata": {
        "id": "Bb4uhjcsKPQw"
      },
      "source": [
        "df_reviews_pd = df_reviews_pd.drop(columns=['date_stayed', 'num_helpful_votes', 'date', 'via_mobile', 'ratings.service', 'ratings.cleanliness', 'ratings.value', 'ratings.location', 'ratings.sleep_quality', 'ratings.rooms', 'author.num_cities', 'author.num_helpful_votes', 'author.num_reviews', 'author.num_type_reviews', 'author.location', 'ratings.check_in_front_desk', 'ratings.business_service_(e_g_internet_access)', 'author.username'])"
      ],
      "execution_count": null,
      "outputs": []
    },
    {
      "cell_type": "markdown",
      "metadata": {
        "id": "cgWV3wM6QgEh"
      },
      "source": [
        "###Rename columns"
      ]
    },
    {
      "cell_type": "code",
      "metadata": {
        "id": "5gKVq60iQfYV",
        "colab": {
          "base_uri": "https://localhost:8080/",
          "height": 646
        },
        "outputId": "372e777a-ea8d-41cb-ae47-30e7829e82b5"
      },
      "source": [
        "df_reviews_pd = df_reviews_pd.rename(columns={\"ratings.overall\":\"overall_rating\", \"author.id\" : \"author_id\"})\n",
        "df_reviews_pd.head()"
      ],
      "execution_count": null,
      "outputs": [
        {
          "output_type": "execute_result",
          "data": {
            "text/html": [
              "<div>\n",
              "<style scoped>\n",
              "    .dataframe tbody tr th:only-of-type {\n",
              "        vertical-align: middle;\n",
              "    }\n",
              "\n",
              "    .dataframe tbody tr th {\n",
              "        vertical-align: top;\n",
              "    }\n",
              "\n",
              "    .dataframe thead th {\n",
              "        text-align: right;\n",
              "    }\n",
              "</style>\n",
              "<table border=\"1\" class=\"dataframe\">\n",
              "  <thead>\n",
              "    <tr style=\"text-align: right;\">\n",
              "      <th></th>\n",
              "      <th>title</th>\n",
              "      <th>text</th>\n",
              "      <th>offering_id</th>\n",
              "      <th>id</th>\n",
              "      <th>overall_rating</th>\n",
              "      <th>author_id</th>\n",
              "    </tr>\n",
              "  </thead>\n",
              "  <tbody>\n",
              "    <tr>\n",
              "      <th>0</th>\n",
              "      <td>“Truly is \"Jewel of the Upper Wets Side\"”</td>\n",
              "      <td>Stayed in a king suite for 11 nights and yes i...</td>\n",
              "      <td>93338</td>\n",
              "      <td>147643103</td>\n",
              "      <td>5.0</td>\n",
              "      <td>8C0B42FF3C0FA366A21CFD785302A032</td>\n",
              "    </tr>\n",
              "    <tr>\n",
              "      <th>1</th>\n",
              "      <td>“My home away from home!”</td>\n",
              "      <td>On every visit to NYC, the Hotel Beacon is the...</td>\n",
              "      <td>93338</td>\n",
              "      <td>147639004</td>\n",
              "      <td>5.0</td>\n",
              "      <td>E3C85CA9DBBBC77E0DB534ABE93E4713</td>\n",
              "    </tr>\n",
              "    <tr>\n",
              "      <th>2</th>\n",
              "      <td>“Great Stay”</td>\n",
              "      <td>This is a great property in Midtown. We two di...</td>\n",
              "      <td>1762573</td>\n",
              "      <td>147697954</td>\n",
              "      <td>4.0</td>\n",
              "      <td>FB1032DECE1162CB3556D05F278AAFFD</td>\n",
              "    </tr>\n",
              "    <tr>\n",
              "      <th>3</th>\n",
              "      <td>“Modern Convenience”</td>\n",
              "      <td>The Andaz is a nice hotel in a central locatio...</td>\n",
              "      <td>1762573</td>\n",
              "      <td>147625723</td>\n",
              "      <td>4.0</td>\n",
              "      <td>EC3E275EE7590694889C8C7EE0D13961</td>\n",
              "    </tr>\n",
              "    <tr>\n",
              "      <th>4</th>\n",
              "      <td>“Its the best of the Andaz Brand in the US....”</td>\n",
              "      <td>I have stayed at each of the US Andaz properti...</td>\n",
              "      <td>1762573</td>\n",
              "      <td>147612823</td>\n",
              "      <td>4.0</td>\n",
              "      <td>BA524A238B1171206691A6CC3F28F266</td>\n",
              "    </tr>\n",
              "  </tbody>\n",
              "</table>\n",
              "</div>"
            ],
            "text/plain": [
              "                                             title  ...                         author_id\n",
              "0        “Truly is \"Jewel of the Upper Wets Side\"”  ...  8C0B42FF3C0FA366A21CFD785302A032\n",
              "1                        “My home away from home!”  ...  E3C85CA9DBBBC77E0DB534ABE93E4713\n",
              "2                                     “Great Stay”  ...  FB1032DECE1162CB3556D05F278AAFFD\n",
              "3                             “Modern Convenience”  ...  EC3E275EE7590694889C8C7EE0D13961\n",
              "4  “Its the best of the Andaz Brand in the US....”  ...  BA524A238B1171206691A6CC3F28F266\n",
              "\n",
              "[5 rows x 6 columns]"
            ]
          },
          "metadata": {
            "tags": []
          },
          "execution_count": 9
        }
      ]
    },
    {
      "cell_type": "markdown",
      "metadata": {
        "id": "fQMj76Kc5qRT"
      },
      "source": [
        "###Removing Null values"
      ]
    },
    {
      "cell_type": "markdown",
      "metadata": {
        "id": "YXVb1sOIAw7X"
      },
      "source": [
        "####Check if we have any nan values"
      ]
    },
    {
      "cell_type": "code",
      "metadata": {
        "id": "d1CtUFxgBlDL",
        "colab": {
          "base_uri": "https://localhost:8080/",
          "height": 136
        },
        "outputId": "9732694a-567a-49cd-e038-196ff8e28f90"
      },
      "source": [
        "df_reviews_pd.isna().sum()"
      ],
      "execution_count": null,
      "outputs": [
        {
          "output_type": "execute_result",
          "data": {
            "text/plain": [
              "title             0\n",
              "text              0\n",
              "offering_id       0\n",
              "id                0\n",
              "overall_rating    0\n",
              "author_id         0\n",
              "dtype: int64"
            ]
          },
          "metadata": {
            "tags": []
          },
          "execution_count": 10
        }
      ]
    },
    {
      "cell_type": "code",
      "metadata": {
        "id": "VykPo8oxArx_",
        "colab": {
          "base_uri": "https://localhost:8080/",
          "height": 238
        },
        "outputId": "b8f2e6c0-311e-4162-8cf8-080af38f2a80"
      },
      "source": [
        "df_reviews_pd.info()"
      ],
      "execution_count": null,
      "outputs": [
        {
          "output_type": "stream",
          "text": [
            "<class 'pandas.core.frame.DataFrame'>\n",
            "RangeIndex: 878561 entries, 0 to 878560\n",
            "Data columns (total 6 columns):\n",
            " #   Column          Non-Null Count   Dtype  \n",
            "---  ------          --------------   -----  \n",
            " 0   title           878561 non-null  object \n",
            " 1   text            878561 non-null  object \n",
            " 2   offering_id     878561 non-null  int64  \n",
            " 3   id              878561 non-null  int64  \n",
            " 4   overall_rating  878561 non-null  float64\n",
            " 5   author_id       878561 non-null  object \n",
            "dtypes: float64(1), int64(2), object(3)\n",
            "memory usage: 40.2+ MB\n"
          ],
          "name": "stdout"
        }
      ]
    },
    {
      "cell_type": "markdown",
      "metadata": {
        "id": "wHRHHWQh_3Lk"
      },
      "source": [
        "####Checking if our data has ' ' empty strings\n"
      ]
    },
    {
      "cell_type": "code",
      "metadata": {
        "id": "2Qya_oyT-lTd",
        "colab": {
          "base_uri": "https://localhost:8080/",
          "height": 190
        },
        "outputId": "8cec62f8-7ab2-4b5b-a6a9-c238cfebe930"
      },
      "source": [
        "#returns the rows which has some empty string\n",
        "df_reviews_pd[df_reviews_pd == ''].count()"
      ],
      "execution_count": null,
      "outputs": [
        {
          "output_type": "stream",
          "text": [
            "/usr/local/lib/python3.6/dist-packages/pandas/core/ops/array_ops.py:253: FutureWarning: elementwise comparison failed; returning scalar instead, but in the future will perform elementwise comparison\n",
            "  res_values = method(rvalues)\n"
          ],
          "name": "stderr"
        },
        {
          "output_type": "execute_result",
          "data": {
            "text/plain": [
              "title                 0\n",
              "text                  0\n",
              "offering_id           0\n",
              "id                    0\n",
              "overall_rating        0\n",
              "author_id         77066\n",
              "dtype: int64"
            ]
          },
          "metadata": {
            "tags": []
          },
          "execution_count": 12
        }
      ]
    },
    {
      "cell_type": "markdown",
      "metadata": {
        "id": "9z8hKcI09jHy"
      },
      "source": [
        "####Replace empty string ' ' with nan in whole data"
      ]
    },
    {
      "cell_type": "code",
      "metadata": {
        "id": "LwUQRAkxAVtU"
      },
      "source": [
        "df_reviews_pd.replace('', np.nan, inplace=True)\n",
        "#If you want to replace only in specific column\n",
        "#df_reviews_pd['author_id'].replace('', np.nan, inplace=True)"
      ],
      "execution_count": null,
      "outputs": []
    },
    {
      "cell_type": "markdown",
      "metadata": {
        "id": "ijeWLgsRCJAQ"
      },
      "source": [
        "####Now we have nan values as we replaced ' ' with nan"
      ]
    },
    {
      "cell_type": "code",
      "metadata": {
        "id": "SHKhduNO73Dp",
        "colab": {
          "base_uri": "https://localhost:8080/",
          "height": 136
        },
        "outputId": "262419ce-b9a5-4da6-c380-d0af8fd00b2a"
      },
      "source": [
        "df_reviews_pd.isna().sum()"
      ],
      "execution_count": null,
      "outputs": [
        {
          "output_type": "execute_result",
          "data": {
            "text/plain": [
              "title                 0\n",
              "text                  0\n",
              "offering_id           0\n",
              "id                    0\n",
              "overall_rating        0\n",
              "author_id         77066\n",
              "dtype: int64"
            ]
          },
          "metadata": {
            "tags": []
          },
          "execution_count": 14
        }
      ]
    },
    {
      "cell_type": "code",
      "metadata": {
        "id": "dSHMuOHM9-lH",
        "colab": {
          "base_uri": "https://localhost:8080/",
          "height": 136
        },
        "outputId": "fdc780b9-1527-4409-9799-1ebfa3aee944"
      },
      "source": [
        "df_reviews_pd.count()"
      ],
      "execution_count": null,
      "outputs": [
        {
          "output_type": "execute_result",
          "data": {
            "text/plain": [
              "title             878561\n",
              "text              878561\n",
              "offering_id       878561\n",
              "id                878561\n",
              "overall_rating    878561\n",
              "author_id         801495\n",
              "dtype: int64"
            ]
          },
          "metadata": {
            "tags": []
          },
          "execution_count": 15
        }
      ]
    },
    {
      "cell_type": "markdown",
      "metadata": {
        "id": "7YzTOW3G-KGW"
      },
      "source": [
        "####Drop the rows which contain nan"
      ]
    },
    {
      "cell_type": "code",
      "metadata": {
        "id": "1fMJe11L8Hbk"
      },
      "source": [
        "df_reviews_pd.dropna(inplace=True)"
      ],
      "execution_count": null,
      "outputs": []
    },
    {
      "cell_type": "markdown",
      "metadata": {
        "id": "DTYQP3maCdGx"
      },
      "source": [
        "####Now we have clean data without any ' ' or nan"
      ]
    },
    {
      "cell_type": "code",
      "metadata": {
        "id": "VcfkpFLL9Jp0",
        "colab": {
          "base_uri": "https://localhost:8080/",
          "height": 136
        },
        "outputId": "8adaef50-6664-4ebe-8fc0-92050e828b8e"
      },
      "source": [
        "df_reviews_pd.count()"
      ],
      "execution_count": null,
      "outputs": [
        {
          "output_type": "execute_result",
          "data": {
            "text/plain": [
              "title             801495\n",
              "text              801495\n",
              "offering_id       801495\n",
              "id                801495\n",
              "overall_rating    801495\n",
              "author_id         801495\n",
              "dtype: int64"
            ]
          },
          "metadata": {
            "tags": []
          },
          "execution_count": 17
        }
      ]
    },
    {
      "cell_type": "markdown",
      "metadata": {
        "id": "1X6KUO0XaBE-"
      },
      "source": [
        "###Viewing final DF Structure"
      ]
    },
    {
      "cell_type": "code",
      "metadata": {
        "id": "BTPwKw7faEfe",
        "colab": {
          "base_uri": "https://localhost:8080/",
          "height": 357
        },
        "outputId": "469333ca-930a-4a7e-e860-e763b0a41d67"
      },
      "source": [
        "df_reviews_pd.info()\n",
        "df_reviews_pd.count()\n",
        "# df_reviews_pd.isnull().sum()\n",
        "# df_reviews_pd.head()"
      ],
      "execution_count": null,
      "outputs": [
        {
          "output_type": "stream",
          "text": [
            "<class 'pandas.core.frame.DataFrame'>\n",
            "Int64Index: 801495 entries, 0 to 878560\n",
            "Data columns (total 6 columns):\n",
            " #   Column          Non-Null Count   Dtype  \n",
            "---  ------          --------------   -----  \n",
            " 0   title           801495 non-null  object \n",
            " 1   text            801495 non-null  object \n",
            " 2   offering_id     801495 non-null  int64  \n",
            " 3   id              801495 non-null  int64  \n",
            " 4   overall_rating  801495 non-null  float64\n",
            " 5   author_id       801495 non-null  object \n",
            "dtypes: float64(1), int64(2), object(3)\n",
            "memory usage: 42.8+ MB\n"
          ],
          "name": "stdout"
        },
        {
          "output_type": "execute_result",
          "data": {
            "text/plain": [
              "title             801495\n",
              "text              801495\n",
              "offering_id       801495\n",
              "id                801495\n",
              "overall_rating    801495\n",
              "author_id         801495\n",
              "dtype: int64"
            ]
          },
          "metadata": {
            "tags": []
          },
          "execution_count": 18
        }
      ]
    },
    {
      "cell_type": "markdown",
      "metadata": {
        "id": "bvB0mu6xV01e"
      },
      "source": [
        "##Offering data preprocessing"
      ]
    },
    {
      "cell_type": "markdown",
      "metadata": {
        "id": "jdWRZWOWWJ4S"
      },
      "source": [
        "### Read JSON data and load it in an object"
      ]
    },
    {
      "cell_type": "code",
      "metadata": {
        "id": "hPLRNQgNV8Xl"
      },
      "source": [
        "#Read JSON data and load it in an object\n",
        "with open('/content/drive/My Drive/Data Science Stuff/Hotel Recommender/Data/offering.json') as datafileoffering:\n",
        "    data_offering_json = json.load(datafileoffering)"
      ],
      "execution_count": null,
      "outputs": []
    },
    {
      "cell_type": "markdown",
      "metadata": {
        "id": "N7X2UpUYWNUO"
      },
      "source": [
        "###Normalize JSON data using Pandas"
      ]
    },
    {
      "cell_type": "code",
      "metadata": {
        "id": "ltUrve4FWTCl",
        "colab": {
          "base_uri": "https://localhost:8080/",
          "height": 462
        },
        "outputId": "8ad622e1-02c2-4681-bca0-1ec4d12f4c66"
      },
      "source": [
        "df_offering_pd = pd.json_normalize(data_offering_json)\n",
        "df_offering_pd.head()"
      ],
      "execution_count": null,
      "outputs": [
        {
          "output_type": "execute_result",
          "data": {
            "text/html": [
              "<div>\n",
              "<style scoped>\n",
              "    .dataframe tbody tr th:only-of-type {\n",
              "        vertical-align: middle;\n",
              "    }\n",
              "\n",
              "    .dataframe tbody tr th {\n",
              "        vertical-align: top;\n",
              "    }\n",
              "\n",
              "    .dataframe thead th {\n",
              "        text-align: right;\n",
              "    }\n",
              "</style>\n",
              "<table border=\"1\" class=\"dataframe\">\n",
              "  <thead>\n",
              "    <tr style=\"text-align: right;\">\n",
              "      <th></th>\n",
              "      <th>hotel_class</th>\n",
              "      <th>region_id</th>\n",
              "      <th>url</th>\n",
              "      <th>phone</th>\n",
              "      <th>details</th>\n",
              "      <th>type</th>\n",
              "      <th>id</th>\n",
              "      <th>name</th>\n",
              "      <th>address.region</th>\n",
              "      <th>address.street-address</th>\n",
              "      <th>address.postal-code</th>\n",
              "      <th>address.locality</th>\n",
              "    </tr>\n",
              "  </thead>\n",
              "  <tbody>\n",
              "    <tr>\n",
              "      <th>0</th>\n",
              "      <td>4.0</td>\n",
              "      <td>60763</td>\n",
              "      <td>http://www.tripadvisor.com/Hotel_Review-g60763...</td>\n",
              "      <td></td>\n",
              "      <td>None</td>\n",
              "      <td>hotel</td>\n",
              "      <td>113317</td>\n",
              "      <td>Casablanca Hotel Times Square</td>\n",
              "      <td>NY</td>\n",
              "      <td>147 West 43rd Street</td>\n",
              "      <td>10036</td>\n",
              "      <td>New York City</td>\n",
              "    </tr>\n",
              "    <tr>\n",
              "      <th>1</th>\n",
              "      <td>5.0</td>\n",
              "      <td>32655</td>\n",
              "      <td>http://www.tripadvisor.com/Hotel_Review-g32655...</td>\n",
              "      <td></td>\n",
              "      <td>None</td>\n",
              "      <td>hotel</td>\n",
              "      <td>76049</td>\n",
              "      <td>Four Seasons Hotel Los Angeles at Beverly Hills</td>\n",
              "      <td>CA</td>\n",
              "      <td>300 S Doheny Dr</td>\n",
              "      <td>90048</td>\n",
              "      <td>Los Angeles</td>\n",
              "    </tr>\n",
              "    <tr>\n",
              "      <th>2</th>\n",
              "      <td>3.5</td>\n",
              "      <td>60763</td>\n",
              "      <td>http://www.tripadvisor.com/Hotel_Review-g60763...</td>\n",
              "      <td></td>\n",
              "      <td>None</td>\n",
              "      <td>hotel</td>\n",
              "      <td>99352</td>\n",
              "      <td>Hilton Garden Inn Times Square</td>\n",
              "      <td>NY</td>\n",
              "      <td>790 Eighth Avenue</td>\n",
              "      <td>10019</td>\n",
              "      <td>New York City</td>\n",
              "    </tr>\n",
              "    <tr>\n",
              "      <th>3</th>\n",
              "      <td>4.0</td>\n",
              "      <td>60763</td>\n",
              "      <td>http://www.tripadvisor.com/Hotel_Review-g60763...</td>\n",
              "      <td></td>\n",
              "      <td>None</td>\n",
              "      <td>hotel</td>\n",
              "      <td>93589</td>\n",
              "      <td>The Michelangelo Hotel</td>\n",
              "      <td>NY</td>\n",
              "      <td>152 West 51st Street</td>\n",
              "      <td>10019</td>\n",
              "      <td>New York City</td>\n",
              "    </tr>\n",
              "    <tr>\n",
              "      <th>4</th>\n",
              "      <td>4.0</td>\n",
              "      <td>60763</td>\n",
              "      <td>http://www.tripadvisor.com/Hotel_Review-g60763...</td>\n",
              "      <td></td>\n",
              "      <td>None</td>\n",
              "      <td>hotel</td>\n",
              "      <td>217616</td>\n",
              "      <td>The Muse Hotel New York</td>\n",
              "      <td>NY</td>\n",
              "      <td>130 West 46th Street</td>\n",
              "      <td>10036</td>\n",
              "      <td>New York City</td>\n",
              "    </tr>\n",
              "  </tbody>\n",
              "</table>\n",
              "</div>"
            ],
            "text/plain": [
              "   hotel_class  region_id  ... address.postal-code address.locality\n",
              "0          4.0      60763  ...               10036    New York City\n",
              "1          5.0      32655  ...               90048      Los Angeles\n",
              "2          3.5      60763  ...               10019    New York City\n",
              "3          4.0      60763  ...               10019    New York City\n",
              "4          4.0      60763  ...               10036    New York City\n",
              "\n",
              "[5 rows x 12 columns]"
            ]
          },
          "metadata": {
            "tags": []
          },
          "execution_count": 20
        }
      ]
    },
    {
      "cell_type": "markdown",
      "metadata": {
        "id": "6gUexF2uWc5w"
      },
      "source": [
        "###View the data frame structure"
      ]
    },
    {
      "cell_type": "code",
      "metadata": {
        "id": "LQ-4mSC4WmfM",
        "colab": {
          "base_uri": "https://localhost:8080/",
          "height": 340
        },
        "outputId": "284f903f-7971-4f26-c24f-cb25cab76179"
      },
      "source": [
        "df_offering_pd.info()"
      ],
      "execution_count": null,
      "outputs": [
        {
          "output_type": "stream",
          "text": [
            "<class 'pandas.core.frame.DataFrame'>\n",
            "RangeIndex: 4333 entries, 0 to 4332\n",
            "Data columns (total 12 columns):\n",
            " #   Column                  Non-Null Count  Dtype  \n",
            "---  ------                  --------------  -----  \n",
            " 0   hotel_class             3141 non-null   float64\n",
            " 1   region_id               4333 non-null   int64  \n",
            " 2   url                     4333 non-null   object \n",
            " 3   phone                   4333 non-null   object \n",
            " 4   details                 0 non-null      object \n",
            " 5   type                    4333 non-null   object \n",
            " 6   id                      4333 non-null   int64  \n",
            " 7   name                    4333 non-null   object \n",
            " 8   address.region          4333 non-null   object \n",
            " 9   address.street-address  4331 non-null   object \n",
            " 10  address.postal-code     4303 non-null   object \n",
            " 11  address.locality        4333 non-null   object \n",
            "dtypes: float64(1), int64(2), object(9)\n",
            "memory usage: 406.3+ KB\n"
          ],
          "name": "stdout"
        }
      ]
    },
    {
      "cell_type": "markdown",
      "metadata": {
        "id": "YnRWNNznWgNI"
      },
      "source": [
        "###Drop redundent columns"
      ]
    },
    {
      "cell_type": "code",
      "metadata": {
        "id": "4j3ZPOQEWlgq",
        "colab": {
          "base_uri": "https://localhost:8080/",
          "height": 204
        },
        "outputId": "7e6e4cbc-830d-4bce-f63a-f503f2e18157"
      },
      "source": [
        "df_offering_pd = df_offering_pd.drop(columns=['hotel_class', 'region_id', 'url', 'phone', 'details', 'type', 'address.region', 'address.street-address', 'address.postal-code', 'address.locality'])\n",
        "df_offering_pd.head()"
      ],
      "execution_count": null,
      "outputs": [
        {
          "output_type": "execute_result",
          "data": {
            "text/html": [
              "<div>\n",
              "<style scoped>\n",
              "    .dataframe tbody tr th:only-of-type {\n",
              "        vertical-align: middle;\n",
              "    }\n",
              "\n",
              "    .dataframe tbody tr th {\n",
              "        vertical-align: top;\n",
              "    }\n",
              "\n",
              "    .dataframe thead th {\n",
              "        text-align: right;\n",
              "    }\n",
              "</style>\n",
              "<table border=\"1\" class=\"dataframe\">\n",
              "  <thead>\n",
              "    <tr style=\"text-align: right;\">\n",
              "      <th></th>\n",
              "      <th>id</th>\n",
              "      <th>name</th>\n",
              "    </tr>\n",
              "  </thead>\n",
              "  <tbody>\n",
              "    <tr>\n",
              "      <th>0</th>\n",
              "      <td>113317</td>\n",
              "      <td>Casablanca Hotel Times Square</td>\n",
              "    </tr>\n",
              "    <tr>\n",
              "      <th>1</th>\n",
              "      <td>76049</td>\n",
              "      <td>Four Seasons Hotel Los Angeles at Beverly Hills</td>\n",
              "    </tr>\n",
              "    <tr>\n",
              "      <th>2</th>\n",
              "      <td>99352</td>\n",
              "      <td>Hilton Garden Inn Times Square</td>\n",
              "    </tr>\n",
              "    <tr>\n",
              "      <th>3</th>\n",
              "      <td>93589</td>\n",
              "      <td>The Michelangelo Hotel</td>\n",
              "    </tr>\n",
              "    <tr>\n",
              "      <th>4</th>\n",
              "      <td>217616</td>\n",
              "      <td>The Muse Hotel New York</td>\n",
              "    </tr>\n",
              "  </tbody>\n",
              "</table>\n",
              "</div>"
            ],
            "text/plain": [
              "       id                                             name\n",
              "0  113317                    Casablanca Hotel Times Square\n",
              "1   76049  Four Seasons Hotel Los Angeles at Beverly Hills\n",
              "2   99352                   Hilton Garden Inn Times Square\n",
              "3   93589                           The Michelangelo Hotel\n",
              "4  217616                          The Muse Hotel New York"
            ]
          },
          "metadata": {
            "tags": []
          },
          "execution_count": 22
        }
      ]
    },
    {
      "cell_type": "markdown",
      "metadata": {
        "id": "X6OjH4D4Wjan"
      },
      "source": [
        "###Rename columns"
      ]
    },
    {
      "cell_type": "code",
      "metadata": {
        "id": "jZSzGW9OWk1O"
      },
      "source": [
        "df_offering_pd = df_offering_pd.rename(columns={\"name\":\"hotel_name\", \"id\" : \"hotel_id\"})"
      ],
      "execution_count": null,
      "outputs": []
    },
    {
      "cell_type": "code",
      "metadata": {
        "id": "mLyq9-u_X31f",
        "colab": {
          "base_uri": "https://localhost:8080/",
          "height": 204
        },
        "outputId": "7a8db9e2-18b9-47cc-a4db-98c4cf5a6029"
      },
      "source": [
        "df_offering_pd.head()"
      ],
      "execution_count": null,
      "outputs": [
        {
          "output_type": "execute_result",
          "data": {
            "text/html": [
              "<div>\n",
              "<style scoped>\n",
              "    .dataframe tbody tr th:only-of-type {\n",
              "        vertical-align: middle;\n",
              "    }\n",
              "\n",
              "    .dataframe tbody tr th {\n",
              "        vertical-align: top;\n",
              "    }\n",
              "\n",
              "    .dataframe thead th {\n",
              "        text-align: right;\n",
              "    }\n",
              "</style>\n",
              "<table border=\"1\" class=\"dataframe\">\n",
              "  <thead>\n",
              "    <tr style=\"text-align: right;\">\n",
              "      <th></th>\n",
              "      <th>hotel_id</th>\n",
              "      <th>hotel_name</th>\n",
              "    </tr>\n",
              "  </thead>\n",
              "  <tbody>\n",
              "    <tr>\n",
              "      <th>0</th>\n",
              "      <td>113317</td>\n",
              "      <td>Casablanca Hotel Times Square</td>\n",
              "    </tr>\n",
              "    <tr>\n",
              "      <th>1</th>\n",
              "      <td>76049</td>\n",
              "      <td>Four Seasons Hotel Los Angeles at Beverly Hills</td>\n",
              "    </tr>\n",
              "    <tr>\n",
              "      <th>2</th>\n",
              "      <td>99352</td>\n",
              "      <td>Hilton Garden Inn Times Square</td>\n",
              "    </tr>\n",
              "    <tr>\n",
              "      <th>3</th>\n",
              "      <td>93589</td>\n",
              "      <td>The Michelangelo Hotel</td>\n",
              "    </tr>\n",
              "    <tr>\n",
              "      <th>4</th>\n",
              "      <td>217616</td>\n",
              "      <td>The Muse Hotel New York</td>\n",
              "    </tr>\n",
              "  </tbody>\n",
              "</table>\n",
              "</div>"
            ],
            "text/plain": [
              "   hotel_id                                       hotel_name\n",
              "0    113317                    Casablanca Hotel Times Square\n",
              "1     76049  Four Seasons Hotel Los Angeles at Beverly Hills\n",
              "2     99352                   Hilton Garden Inn Times Square\n",
              "3     93589                           The Michelangelo Hotel\n",
              "4    217616                          The Muse Hotel New York"
            ]
          },
          "metadata": {
            "tags": []
          },
          "execution_count": 24
        }
      ]
    },
    {
      "cell_type": "markdown",
      "metadata": {
        "id": "qYsbxIKJDdt6"
      },
      "source": [
        "###Removing Null values\n"
      ]
    },
    {
      "cell_type": "markdown",
      "metadata": {
        "id": "3hX1uHERDmAB"
      },
      "source": [
        "####Check if we have any nan values"
      ]
    },
    {
      "cell_type": "code",
      "metadata": {
        "id": "wVUhZfdLDgHc",
        "colab": {
          "base_uri": "https://localhost:8080/",
          "height": 68
        },
        "outputId": "ccc5b250-2900-4911-aa3c-77a54c342544"
      },
      "source": [
        "df_offering_pd.isna().sum()"
      ],
      "execution_count": null,
      "outputs": [
        {
          "output_type": "execute_result",
          "data": {
            "text/plain": [
              "hotel_id      0\n",
              "hotel_name    0\n",
              "dtype: int64"
            ]
          },
          "metadata": {
            "tags": []
          },
          "execution_count": 25
        }
      ]
    },
    {
      "cell_type": "markdown",
      "metadata": {
        "id": "L5EjvXyHDrNQ"
      },
      "source": [
        "####Checking if our data has ' ' empty strings\n"
      ]
    },
    {
      "cell_type": "code",
      "metadata": {
        "id": "sOQFAZbZEETp",
        "colab": {
          "base_uri": "https://localhost:8080/",
          "height": 122
        },
        "outputId": "b860c272-e06c-4c7c-9f6f-b7e8e6bed717"
      },
      "source": [
        "df_offering_pd[df_offering_pd == ''].count()"
      ],
      "execution_count": null,
      "outputs": [
        {
          "output_type": "stream",
          "text": [
            "/usr/local/lib/python3.6/dist-packages/pandas/core/ops/array_ops.py:253: FutureWarning: elementwise comparison failed; returning scalar instead, but in the future will perform elementwise comparison\n",
            "  res_values = method(rvalues)\n"
          ],
          "name": "stderr"
        },
        {
          "output_type": "execute_result",
          "data": {
            "text/plain": [
              "hotel_id      0\n",
              "hotel_name    0\n",
              "dtype: int64"
            ]
          },
          "metadata": {
            "tags": []
          },
          "execution_count": 26
        }
      ]
    },
    {
      "cell_type": "markdown",
      "metadata": {
        "id": "Ta4rWX-dZm7i"
      },
      "source": [
        "\n",
        "###Viewing final DF Structure"
      ]
    },
    {
      "cell_type": "code",
      "metadata": {
        "id": "Z0-JvZAOZse8",
        "colab": {
          "base_uri": "https://localhost:8080/",
          "height": 204
        },
        "outputId": "986792ed-0611-4f7e-fefa-a5ef469b062e"
      },
      "source": [
        "# df_offering_pd.info()\n",
        "# df_offering_pd.count()\n",
        "# df_offering_pd.isnull().sum()\n",
        "df_offering_pd.head()"
      ],
      "execution_count": null,
      "outputs": [
        {
          "output_type": "execute_result",
          "data": {
            "text/html": [
              "<div>\n",
              "<style scoped>\n",
              "    .dataframe tbody tr th:only-of-type {\n",
              "        vertical-align: middle;\n",
              "    }\n",
              "\n",
              "    .dataframe tbody tr th {\n",
              "        vertical-align: top;\n",
              "    }\n",
              "\n",
              "    .dataframe thead th {\n",
              "        text-align: right;\n",
              "    }\n",
              "</style>\n",
              "<table border=\"1\" class=\"dataframe\">\n",
              "  <thead>\n",
              "    <tr style=\"text-align: right;\">\n",
              "      <th></th>\n",
              "      <th>hotel_id</th>\n",
              "      <th>hotel_name</th>\n",
              "    </tr>\n",
              "  </thead>\n",
              "  <tbody>\n",
              "    <tr>\n",
              "      <th>0</th>\n",
              "      <td>113317</td>\n",
              "      <td>Casablanca Hotel Times Square</td>\n",
              "    </tr>\n",
              "    <tr>\n",
              "      <th>1</th>\n",
              "      <td>76049</td>\n",
              "      <td>Four Seasons Hotel Los Angeles at Beverly Hills</td>\n",
              "    </tr>\n",
              "    <tr>\n",
              "      <th>2</th>\n",
              "      <td>99352</td>\n",
              "      <td>Hilton Garden Inn Times Square</td>\n",
              "    </tr>\n",
              "    <tr>\n",
              "      <th>3</th>\n",
              "      <td>93589</td>\n",
              "      <td>The Michelangelo Hotel</td>\n",
              "    </tr>\n",
              "    <tr>\n",
              "      <th>4</th>\n",
              "      <td>217616</td>\n",
              "      <td>The Muse Hotel New York</td>\n",
              "    </tr>\n",
              "  </tbody>\n",
              "</table>\n",
              "</div>"
            ],
            "text/plain": [
              "   hotel_id                                       hotel_name\n",
              "0    113317                    Casablanca Hotel Times Square\n",
              "1     76049  Four Seasons Hotel Los Angeles at Beverly Hills\n",
              "2     99352                   Hilton Garden Inn Times Square\n",
              "3     93589                           The Michelangelo Hotel\n",
              "4    217616                          The Muse Hotel New York"
            ]
          },
          "metadata": {
            "tags": []
          },
          "execution_count": 27
        }
      ]
    },
    {
      "cell_type": "markdown",
      "metadata": {
        "id": "s1_R6eKWl37_"
      },
      "source": [
        "##Merging Data frames with Pandas"
      ]
    },
    {
      "cell_type": "code",
      "metadata": {
        "id": "H2RbADTxl9ex"
      },
      "source": [
        "df_merged = pd.merge(df_reviews_pd, df_offering_pd, how='left', left_on='offering_id', right_on='hotel_id')"
      ],
      "execution_count": null,
      "outputs": []
    },
    {
      "cell_type": "code",
      "metadata": {
        "id": "SUgFctInQQYt",
        "colab": {
          "base_uri": "https://localhost:8080/",
          "height": 272
        },
        "outputId": "04f9a564-7b29-43cc-8919-c73748c73249"
      },
      "source": [
        "df_merged.info()"
      ],
      "execution_count": null,
      "outputs": [
        {
          "output_type": "stream",
          "text": [
            "<class 'pandas.core.frame.DataFrame'>\n",
            "Int64Index: 801495 entries, 0 to 801494\n",
            "Data columns (total 8 columns):\n",
            " #   Column          Non-Null Count   Dtype  \n",
            "---  ------          --------------   -----  \n",
            " 0   title           801495 non-null  object \n",
            " 1   text            801495 non-null  object \n",
            " 2   offering_id     801495 non-null  int64  \n",
            " 3   id              801495 non-null  int64  \n",
            " 4   overall_rating  801495 non-null  float64\n",
            " 5   author_id       801495 non-null  object \n",
            " 6   hotel_id        801495 non-null  int64  \n",
            " 7   hotel_name      801495 non-null  object \n",
            "dtypes: float64(1), int64(3), object(4)\n",
            "memory usage: 55.0+ MB\n"
          ],
          "name": "stdout"
        }
      ]
    },
    {
      "cell_type": "code",
      "metadata": {
        "id": "PVktE5FiQgDm",
        "colab": {
          "base_uri": "https://localhost:8080/",
          "height": 170
        },
        "outputId": "62e7b1c9-59e4-42f7-8918-b000dd722513"
      },
      "source": [
        "df_merged.isna().sum()"
      ],
      "execution_count": null,
      "outputs": [
        {
          "output_type": "execute_result",
          "data": {
            "text/plain": [
              "title             0\n",
              "text              0\n",
              "offering_id       0\n",
              "id                0\n",
              "overall_rating    0\n",
              "author_id         0\n",
              "hotel_id          0\n",
              "hotel_name        0\n",
              "dtype: int64"
            ]
          },
          "metadata": {
            "tags": []
          },
          "execution_count": 72
        }
      ]
    },
    {
      "cell_type": "code",
      "metadata": {
        "id": "l_oylt1TQmgX",
        "colab": {
          "base_uri": "https://localhost:8080/",
          "height": 224
        },
        "outputId": "e75cc2a7-0569-426a-fb26-41147b4772eb"
      },
      "source": [
        "df_merged[df_merged == ''].count()"
      ],
      "execution_count": null,
      "outputs": [
        {
          "output_type": "stream",
          "text": [
            "/usr/local/lib/python3.6/dist-packages/pandas/core/ops/array_ops.py:253: FutureWarning: elementwise comparison failed; returning scalar instead, but in the future will perform elementwise comparison\n",
            "  res_values = method(rvalues)\n"
          ],
          "name": "stderr"
        },
        {
          "output_type": "execute_result",
          "data": {
            "text/plain": [
              "title             0\n",
              "text              0\n",
              "offering_id       0\n",
              "id                0\n",
              "overall_rating    0\n",
              "author_id         0\n",
              "hotel_id          0\n",
              "hotel_name        0\n",
              "dtype: int64"
            ]
          },
          "metadata": {
            "tags": []
          },
          "execution_count": 73
        }
      ]
    },
    {
      "cell_type": "markdown",
      "metadata": {
        "id": "eibq9pHBuU3o"
      },
      "source": [
        "###Dropping redundant columns"
      ]
    },
    {
      "cell_type": "code",
      "metadata": {
        "id": "Sk3aG0R3uM6F",
        "colab": {
          "base_uri": "https://localhost:8080/",
          "height": 1000
        },
        "outputId": "458b7d2c-7523-45fb-f8d0-243454ad152e"
      },
      "source": [
        "df_merged.drop(columns=['offering_id'])"
      ],
      "execution_count": null,
      "outputs": [
        {
          "output_type": "execute_result",
          "data": {
            "text/html": [
              "<div>\n",
              "<style scoped>\n",
              "    .dataframe tbody tr th:only-of-type {\n",
              "        vertical-align: middle;\n",
              "    }\n",
              "\n",
              "    .dataframe tbody tr th {\n",
              "        vertical-align: top;\n",
              "    }\n",
              "\n",
              "    .dataframe thead th {\n",
              "        text-align: right;\n",
              "    }\n",
              "</style>\n",
              "<table border=\"1\" class=\"dataframe\">\n",
              "  <thead>\n",
              "    <tr style=\"text-align: right;\">\n",
              "      <th></th>\n",
              "      <th>title</th>\n",
              "      <th>text</th>\n",
              "      <th>id</th>\n",
              "      <th>overall_rating</th>\n",
              "      <th>author_id</th>\n",
              "      <th>hotel_id</th>\n",
              "      <th>hotel_name</th>\n",
              "    </tr>\n",
              "  </thead>\n",
              "  <tbody>\n",
              "    <tr>\n",
              "      <th>0</th>\n",
              "      <td>“Truly is \"Jewel of the Upper Wets Side\"”</td>\n",
              "      <td>Stayed in a king suite for 11 nights and yes i...</td>\n",
              "      <td>147643103</td>\n",
              "      <td>5.0</td>\n",
              "      <td>8C0B42FF3C0FA366A21CFD785302A032</td>\n",
              "      <td>93338</td>\n",
              "      <td>Hotel Beacon</td>\n",
              "    </tr>\n",
              "    <tr>\n",
              "      <th>1</th>\n",
              "      <td>“My home away from home!”</td>\n",
              "      <td>On every visit to NYC, the Hotel Beacon is the...</td>\n",
              "      <td>147639004</td>\n",
              "      <td>5.0</td>\n",
              "      <td>E3C85CA9DBBBC77E0DB534ABE93E4713</td>\n",
              "      <td>93338</td>\n",
              "      <td>Hotel Beacon</td>\n",
              "    </tr>\n",
              "    <tr>\n",
              "      <th>2</th>\n",
              "      <td>“Great Stay”</td>\n",
              "      <td>This is a great property in Midtown. We two di...</td>\n",
              "      <td>147697954</td>\n",
              "      <td>4.0</td>\n",
              "      <td>FB1032DECE1162CB3556D05F278AAFFD</td>\n",
              "      <td>1762573</td>\n",
              "      <td>Andaz 5th Avenue</td>\n",
              "    </tr>\n",
              "    <tr>\n",
              "      <th>3</th>\n",
              "      <td>“Modern Convenience”</td>\n",
              "      <td>The Andaz is a nice hotel in a central locatio...</td>\n",
              "      <td>147625723</td>\n",
              "      <td>4.0</td>\n",
              "      <td>EC3E275EE7590694889C8C7EE0D13961</td>\n",
              "      <td>1762573</td>\n",
              "      <td>Andaz 5th Avenue</td>\n",
              "    </tr>\n",
              "    <tr>\n",
              "      <th>4</th>\n",
              "      <td>“Its the best of the Andaz Brand in the US....”</td>\n",
              "      <td>I have stayed at each of the US Andaz properti...</td>\n",
              "      <td>147612823</td>\n",
              "      <td>4.0</td>\n",
              "      <td>BA524A238B1171206691A6CC3F28F266</td>\n",
              "      <td>1762573</td>\n",
              "      <td>Andaz 5th Avenue</td>\n",
              "    </tr>\n",
              "    <tr>\n",
              "      <th>...</th>\n",
              "      <td>...</td>\n",
              "      <td>...</td>\n",
              "      <td>...</td>\n",
              "      <td>...</td>\n",
              "      <td>...</td>\n",
              "      <td>...</td>\n",
              "      <td>...</td>\n",
              "    </tr>\n",
              "    <tr>\n",
              "      <th>801490</th>\n",
              "      <td>“Enthousiasmant”</td>\n",
              "      <td>Très bien placé près de Dupont Circle, hotel t...</td>\n",
              "      <td>42161718</td>\n",
              "      <td>5.0</td>\n",
              "      <td>266F69FD8749B6C28198AE78EC1EDABB</td>\n",
              "      <td>84093</td>\n",
              "      <td>Palomar Washington DC, a Kimpton Hotel</td>\n",
              "    </tr>\n",
              "    <tr>\n",
              "      <th>801491</th>\n",
              "      <td>“Nos encanto...”</td>\n",
              "      <td>Mi hija de 7 a~os , mi esposo y yo nos quedamo...</td>\n",
              "      <td>36621154</td>\n",
              "      <td>5.0</td>\n",
              "      <td>16A124ECD36140A18072FF2AF9F378F2</td>\n",
              "      <td>84093</td>\n",
              "      <td>Palomar Washington DC, a Kimpton Hotel</td>\n",
              "    </tr>\n",
              "    <tr>\n",
              "      <th>801492</th>\n",
              "      <td>“ottimo albergo”</td>\n",
              "      <td>IL Palomar è un ottimo quattro stelle in poszi...</td>\n",
              "      <td>19967730</td>\n",
              "      <td>4.0</td>\n",
              "      <td>5C02ABB2803B0D6E05803684426AB338</td>\n",
              "      <td>84093</td>\n",
              "      <td>Palomar Washington DC, a Kimpton Hotel</td>\n",
              "    </tr>\n",
              "    <tr>\n",
              "      <th>801493</th>\n",
              "      <td>“excellent”</td>\n",
              "      <td>un excellent hotel 4 *, pour un prix raisonnab...</td>\n",
              "      <td>18003332</td>\n",
              "      <td>4.0</td>\n",
              "      <td>FF38DF65AA23823E729A05FA90C13FCE</td>\n",
              "      <td>84093</td>\n",
              "      <td>Palomar Washington DC, a Kimpton Hotel</td>\n",
              "    </tr>\n",
              "    <tr>\n",
              "      <th>801494</th>\n",
              "      <td>“Nuevo... novísimo. Estupendo lugar.”</td>\n",
              "      <td>El hotel está entre el aeropuerto y Washington...</td>\n",
              "      <td>14259290</td>\n",
              "      <td>4.0</td>\n",
              "      <td>B6CAAD29DA6DFAAA51F9544ADEECABFC</td>\n",
              "      <td>84093</td>\n",
              "      <td>Palomar Washington DC, a Kimpton Hotel</td>\n",
              "    </tr>\n",
              "  </tbody>\n",
              "</table>\n",
              "<p>801495 rows × 7 columns</p>\n",
              "</div>"
            ],
            "text/plain": [
              "                                                  title  ...                              hotel_name\n",
              "0             “Truly is \"Jewel of the Upper Wets Side\"”  ...                            Hotel Beacon\n",
              "1                             “My home away from home!”  ...                            Hotel Beacon\n",
              "2                                          “Great Stay”  ...                        Andaz 5th Avenue\n",
              "3                                  “Modern Convenience”  ...                        Andaz 5th Avenue\n",
              "4       “Its the best of the Andaz Brand in the US....”  ...                        Andaz 5th Avenue\n",
              "...                                                 ...  ...                                     ...\n",
              "801490                                 “Enthousiasmant”  ...  Palomar Washington DC, a Kimpton Hotel\n",
              "801491                                 “Nos encanto...”  ...  Palomar Washington DC, a Kimpton Hotel\n",
              "801492                                 “ottimo albergo”  ...  Palomar Washington DC, a Kimpton Hotel\n",
              "801493                                      “excellent”  ...  Palomar Washington DC, a Kimpton Hotel\n",
              "801494            “Nuevo... novísimo. Estupendo lugar.”  ...  Palomar Washington DC, a Kimpton Hotel\n",
              "\n",
              "[801495 rows x 7 columns]"
            ]
          },
          "metadata": {
            "tags": []
          },
          "execution_count": 74
        }
      ]
    },
    {
      "cell_type": "markdown",
      "metadata": {
        "id": "6oGdSP8_ukE1"
      },
      "source": [
        "###Rearranging the columns"
      ]
    },
    {
      "cell_type": "code",
      "metadata": {
        "id": "l_7w-HYVuoTx"
      },
      "source": [
        "df_merged = df_merged.reindex(columns=['id', 'overall_rating', 'hotel_id', 'hotel_name','title', 'text', 'author_id',])"
      ],
      "execution_count": null,
      "outputs": []
    },
    {
      "cell_type": "code",
      "metadata": {
        "id": "P5cJ27hBxf4R",
        "colab": {
          "base_uri": "https://localhost:8080/",
          "height": 666
        },
        "outputId": "2dd844f0-2150-4b76-fc81-8414ac46edf8"
      },
      "source": [
        "df_merged.head()"
      ],
      "execution_count": null,
      "outputs": [
        {
          "output_type": "execute_result",
          "data": {
            "text/html": [
              "<div>\n",
              "<style scoped>\n",
              "    .dataframe tbody tr th:only-of-type {\n",
              "        vertical-align: middle;\n",
              "    }\n",
              "\n",
              "    .dataframe tbody tr th {\n",
              "        vertical-align: top;\n",
              "    }\n",
              "\n",
              "    .dataframe thead th {\n",
              "        text-align: right;\n",
              "    }\n",
              "</style>\n",
              "<table border=\"1\" class=\"dataframe\">\n",
              "  <thead>\n",
              "    <tr style=\"text-align: right;\">\n",
              "      <th></th>\n",
              "      <th>id</th>\n",
              "      <th>overall_rating</th>\n",
              "      <th>hotel_id</th>\n",
              "      <th>hotel_name</th>\n",
              "      <th>title</th>\n",
              "      <th>text</th>\n",
              "      <th>author_id</th>\n",
              "    </tr>\n",
              "  </thead>\n",
              "  <tbody>\n",
              "    <tr>\n",
              "      <th>0</th>\n",
              "      <td>147643103</td>\n",
              "      <td>5.0</td>\n",
              "      <td>93338</td>\n",
              "      <td>Hotel Beacon</td>\n",
              "      <td>“Truly is \"Jewel of the Upper Wets Side\"”</td>\n",
              "      <td>Stayed in a king suite for 11 nights and yes i...</td>\n",
              "      <td>8C0B42FF3C0FA366A21CFD785302A032</td>\n",
              "    </tr>\n",
              "    <tr>\n",
              "      <th>1</th>\n",
              "      <td>147639004</td>\n",
              "      <td>5.0</td>\n",
              "      <td>93338</td>\n",
              "      <td>Hotel Beacon</td>\n",
              "      <td>“My home away from home!”</td>\n",
              "      <td>On every visit to NYC, the Hotel Beacon is the...</td>\n",
              "      <td>E3C85CA9DBBBC77E0DB534ABE93E4713</td>\n",
              "    </tr>\n",
              "    <tr>\n",
              "      <th>2</th>\n",
              "      <td>147697954</td>\n",
              "      <td>4.0</td>\n",
              "      <td>1762573</td>\n",
              "      <td>Andaz 5th Avenue</td>\n",
              "      <td>“Great Stay”</td>\n",
              "      <td>This is a great property in Midtown. We two di...</td>\n",
              "      <td>FB1032DECE1162CB3556D05F278AAFFD</td>\n",
              "    </tr>\n",
              "    <tr>\n",
              "      <th>3</th>\n",
              "      <td>147625723</td>\n",
              "      <td>4.0</td>\n",
              "      <td>1762573</td>\n",
              "      <td>Andaz 5th Avenue</td>\n",
              "      <td>“Modern Convenience”</td>\n",
              "      <td>The Andaz is a nice hotel in a central locatio...</td>\n",
              "      <td>EC3E275EE7590694889C8C7EE0D13961</td>\n",
              "    </tr>\n",
              "    <tr>\n",
              "      <th>4</th>\n",
              "      <td>147612823</td>\n",
              "      <td>4.0</td>\n",
              "      <td>1762573</td>\n",
              "      <td>Andaz 5th Avenue</td>\n",
              "      <td>“Its the best of the Andaz Brand in the US....”</td>\n",
              "      <td>I have stayed at each of the US Andaz properti...</td>\n",
              "      <td>BA524A238B1171206691A6CC3F28F266</td>\n",
              "    </tr>\n",
              "  </tbody>\n",
              "</table>\n",
              "</div>"
            ],
            "text/plain": [
              "          id  ...                         author_id\n",
              "0  147643103  ...  8C0B42FF3C0FA366A21CFD785302A032\n",
              "1  147639004  ...  E3C85CA9DBBBC77E0DB534ABE93E4713\n",
              "2  147697954  ...  FB1032DECE1162CB3556D05F278AAFFD\n",
              "3  147625723  ...  EC3E275EE7590694889C8C7EE0D13961\n",
              "4  147612823  ...  BA524A238B1171206691A6CC3F28F266\n",
              "\n",
              "[5 rows x 7 columns]"
            ]
          },
          "metadata": {
            "tags": []
          },
          "execution_count": 76
        }
      ]
    },
    {
      "cell_type": "markdown",
      "metadata": {
        "id": "IL4qCaFkvc4W"
      },
      "source": [
        "###Sorting Columns"
      ]
    },
    {
      "cell_type": "code",
      "metadata": {
        "id": "zOjgKlQVvgop",
        "colab": {
          "base_uri": "https://localhost:8080/",
          "height": 1000
        },
        "outputId": "a3695112-05b5-487d-9ec6-3dc1b65daf78"
      },
      "source": [
        "df_merged.sort_values(by=['id', 'hotel_id'], ascending=True, inplace=True)\n",
        "df_merged.head(10)"
      ],
      "execution_count": null,
      "outputs": [
        {
          "output_type": "execute_result",
          "data": {
            "text/html": [
              "<div>\n",
              "<style scoped>\n",
              "    .dataframe tbody tr th:only-of-type {\n",
              "        vertical-align: middle;\n",
              "    }\n",
              "\n",
              "    .dataframe tbody tr th {\n",
              "        vertical-align: top;\n",
              "    }\n",
              "\n",
              "    .dataframe thead th {\n",
              "        text-align: right;\n",
              "    }\n",
              "</style>\n",
              "<table border=\"1\" class=\"dataframe\">\n",
              "  <thead>\n",
              "    <tr style=\"text-align: right;\">\n",
              "      <th></th>\n",
              "      <th>id</th>\n",
              "      <th>overall_rating</th>\n",
              "      <th>hotel_id</th>\n",
              "      <th>hotel_name</th>\n",
              "      <th>title</th>\n",
              "      <th>text</th>\n",
              "      <th>author_id</th>\n",
              "    </tr>\n",
              "  </thead>\n",
              "  <tbody>\n",
              "    <tr>\n",
              "      <th>675509</th>\n",
              "      <td>683156</td>\n",
              "      <td>5.0</td>\n",
              "      <td>220216</td>\n",
              "      <td>Beacon Hill Hotel and Bistro</td>\n",
              "      <td>“great hotel, great location”</td>\n",
              "      <td>The rooms here are not palatial, but they're v...</td>\n",
              "      <td>C0FE2026E16771D2C3322BB705FCA690</td>\n",
              "    </tr>\n",
              "    <tr>\n",
              "      <th>268288</th>\n",
              "      <td>692745</td>\n",
              "      <td>5.0</td>\n",
              "      <td>113317</td>\n",
              "      <td>Casablanca Hotel Times Square</td>\n",
              "      <td>“absolutely delightful”</td>\n",
              "      <td>I travelled from Spain to nyc in august 2002 a...</td>\n",
              "      <td>8C17DDA718DC7815A1B9ADDD9592EED3</td>\n",
              "    </tr>\n",
              "    <tr>\n",
              "      <th>661797</th>\n",
              "      <td>692780</td>\n",
              "      <td>2.0</td>\n",
              "      <td>100540</td>\n",
              "      <td>MarQueen Hotel</td>\n",
              "      <td>“Marqueen, overrated?”</td>\n",
              "      <td>Sorry this is a bit long. In short: Location: ...</td>\n",
              "      <td>75EACF34E876B736647E8EAE0D9318B7</td>\n",
              "    </tr>\n",
              "    <tr>\n",
              "      <th>402255</th>\n",
              "      <td>692844</td>\n",
              "      <td>1.0</td>\n",
              "      <td>80133</td>\n",
              "      <td>Handlery Hotel San Diego</td>\n",
              "      <td>“a motel ' dreaming' to be considered as a hot...</td>\n",
              "      <td>Rooms have been recently renovated and i must ...</td>\n",
              "      <td>35FBC6EA978B4AE51536F1150F32C6AC</td>\n",
              "    </tr>\n",
              "    <tr>\n",
              "      <th>329375</th>\n",
              "      <td>692847</td>\n",
              "      <td>5.0</td>\n",
              "      <td>119443</td>\n",
              "      <td>The Westin Los Angeles Airport</td>\n",
              "      <td>“Wesin is more hotel for the money”</td>\n",
              "      <td>After a recent unpleasent stay at the Monte Ca...</td>\n",
              "      <td>5BE26753AC8336073525BC3819BA4D44</td>\n",
              "    </tr>\n",
              "    <tr>\n",
              "      <th>546777</th>\n",
              "      <td>692892</td>\n",
              "      <td>4.0</td>\n",
              "      <td>112303</td>\n",
              "      <td>Hotel Diva</td>\n",
              "      <td>“Clean, Safe and Different”</td>\n",
              "      <td>The Diva hotel has a personality to it. It is ...</td>\n",
              "      <td>E01681A50DC19FFA18D84EC84718D867</td>\n",
              "    </tr>\n",
              "    <tr>\n",
              "      <th>8936</th>\n",
              "      <td>692980</td>\n",
              "      <td>4.0</td>\n",
              "      <td>223154</td>\n",
              "      <td>Hampton Inn Houston - Near The Galleria</td>\n",
              "      <td>“Location, decent, and affordable”</td>\n",
              "      <td>OK, this is a Hampton Inn in the best sense. B...</td>\n",
              "      <td>38078EB1B0712938414B432CBA458F66</td>\n",
              "    </tr>\n",
              "    <tr>\n",
              "      <th>192670</th>\n",
              "      <td>693626</td>\n",
              "      <td>5.0</td>\n",
              "      <td>222959</td>\n",
              "      <td>Ritz-Carlton Battery Park</td>\n",
              "      <td>“One of the best!!”</td>\n",
              "      <td>What can you say about the Ritz Carlton? It's ...</td>\n",
              "      <td>8916B7F8AA251A7BDA27F5A1BC153D6F</td>\n",
              "    </tr>\n",
              "    <tr>\n",
              "      <th>727145</th>\n",
              "      <td>693665</td>\n",
              "      <td>5.0</td>\n",
              "      <td>223774</td>\n",
              "      <td>Madison Hotel</td>\n",
              "      <td>“Great New Accomodations”</td>\n",
              "      <td>finally...a new alternative to the crowded and...</td>\n",
              "      <td>F1EA76EBC9C5783D922FD61D32697FBD</td>\n",
              "    </tr>\n",
              "    <tr>\n",
              "      <th>418481</th>\n",
              "      <td>693714</td>\n",
              "      <td>1.0</td>\n",
              "      <td>80562</td>\n",
              "      <td>The Sheraton San Diego Hotel &amp; Marina</td>\n",
              "      <td>“Don't bother.....”</td>\n",
              "      <td>We just returned from a weekend here in San Di...</td>\n",
              "      <td>889CA24F3FADE263B4FA96976AD441C1</td>\n",
              "    </tr>\n",
              "  </tbody>\n",
              "</table>\n",
              "</div>"
            ],
            "text/plain": [
              "            id  ...                         author_id\n",
              "675509  683156  ...  C0FE2026E16771D2C3322BB705FCA690\n",
              "268288  692745  ...  8C17DDA718DC7815A1B9ADDD9592EED3\n",
              "661797  692780  ...  75EACF34E876B736647E8EAE0D9318B7\n",
              "402255  692844  ...  35FBC6EA978B4AE51536F1150F32C6AC\n",
              "329375  692847  ...  5BE26753AC8336073525BC3819BA4D44\n",
              "546777  692892  ...  E01681A50DC19FFA18D84EC84718D867\n",
              "8936    692980  ...  38078EB1B0712938414B432CBA458F66\n",
              "192670  693626  ...  8916B7F8AA251A7BDA27F5A1BC153D6F\n",
              "727145  693665  ...  F1EA76EBC9C5783D922FD61D32697FBD\n",
              "418481  693714  ...  889CA24F3FADE263B4FA96976AD441C1\n",
              "\n",
              "[10 rows x 7 columns]"
            ]
          },
          "metadata": {
            "tags": []
          },
          "execution_count": 77
        }
      ]
    },
    {
      "cell_type": "markdown",
      "metadata": {
        "id": "5kZZ0Uj4U3uT"
      },
      "source": [
        "#Data Testing"
      ]
    },
    {
      "cell_type": "code",
      "metadata": {
        "id": "eKOJItdH2kvq"
      },
      "source": [
        "# !pip install langdetect"
      ],
      "execution_count": null,
      "outputs": []
    },
    {
      "cell_type": "code",
      "metadata": {
        "id": "REcXTtEl3Pja"
      },
      "source": [
        "# from langdetect import detect"
      ],
      "execution_count": null,
      "outputs": []
    },
    {
      "cell_type": "code",
      "metadata": {
        "id": "x6-MWjAS3SSf"
      },
      "source": [
        "# df_merged['Languagereveiw'] = df_merged['text'].apply(detect)\n",
        "# df_merged[df_merged.text.apply(lambda x : detect(x))=='en']"
      ],
      "execution_count": null,
      "outputs": []
    },
    {
      "cell_type": "code",
      "metadata": {
        "id": "gUTtqJPA3lAm"
      },
      "source": [
        "# df_merged[df_merged.id == '147801697'].head()"
      ],
      "execution_count": null,
      "outputs": []
    },
    {
      "cell_type": "markdown",
      "metadata": {
        "id": "9JVAnuogufsj"
      },
      "source": [
        "##Downloading the cleaned data"
      ]
    },
    {
      "cell_type": "code",
      "metadata": {
        "id": "gkZLcu7kTL0l"
      },
      "source": [
        "# df_merged.to_json(\"/content/drive/My Drive/Data Science Stuff/Hotel Recommender/Data/merged.json\", orient=\"records\")"
      ],
      "execution_count": null,
      "outputs": []
    },
    {
      "cell_type": "code",
      "metadata": {
        "id": "IMlimhj5VCcu",
        "colab": {
          "base_uri": "https://localhost:8080/",
          "height": 1000
        },
        "outputId": "9ae5fa35-4210-4107-9ee7-6c3fcb722a66"
      },
      "source": [
        "df_merged.sort_values(by=['text'], ascending=False, inplace=True)\n",
        "df_merged.head(10)"
      ],
      "execution_count": null,
      "outputs": [
        {
          "output_type": "execute_result",
          "data": {
            "text/html": [
              "<div>\n",
              "<style scoped>\n",
              "    .dataframe tbody tr th:only-of-type {\n",
              "        vertical-align: middle;\n",
              "    }\n",
              "\n",
              "    .dataframe tbody tr th {\n",
              "        vertical-align: top;\n",
              "    }\n",
              "\n",
              "    .dataframe thead th {\n",
              "        text-align: right;\n",
              "    }\n",
              "</style>\n",
              "<table border=\"1\" class=\"dataframe\">\n",
              "  <thead>\n",
              "    <tr style=\"text-align: right;\">\n",
              "      <th></th>\n",
              "      <th>id</th>\n",
              "      <th>overall_rating</th>\n",
              "      <th>hotel_id</th>\n",
              "      <th>hotel_name</th>\n",
              "      <th>title</th>\n",
              "      <th>text</th>\n",
              "      <th>author_id</th>\n",
              "    </tr>\n",
              "  </thead>\n",
              "  <tbody>\n",
              "    <tr>\n",
              "      <th>393098</th>\n",
              "      <td>118469617</td>\n",
              "      <td>4.0</td>\n",
              "      <td>76741</td>\n",
              "      <td>Hilton San Diego Mission Valley</td>\n",
              "      <td>“ﾊﾞﾚｰﾋﾞｭｰが最高 ﾌﾟｰﾙも楽しめます”</td>\n",
              "      <td>ﾛｽよりもｻﾝﾃﾞｨｴｺﾞで長期滞在したい人にお勧め! ﾒｷｼｺとの国境の町 ｻﾝﾃﾞｨｴｺ...</td>\n",
              "      <td>BAD8F794E6055A84B9F935F29DD3D04A</td>\n",
              "    </tr>\n",
              "    <tr>\n",
              "      <th>307305</th>\n",
              "      <td>79205728</td>\n",
              "      <td>3.0</td>\n",
              "      <td>77714</td>\n",
              "      <td>DoubleTree by Hilton Hotel Los Angeles Downtown</td>\n",
              "      <td>“日本人にはよし”</td>\n",
              "      <td>ﾘﾄﾙﾄｰｷｮｰという立地上、ＬＡの観光スポットにいくにはとても不便。\\nしかしスーパーや日...</td>\n",
              "      <td>2D9982954B3D19CE51A86D90AFCCF328</td>\n",
              "    </tr>\n",
              "    <tr>\n",
              "      <th>675128</th>\n",
              "      <td>135648138</td>\n",
              "      <td>5.0</td>\n",
              "      <td>224783</td>\n",
              "      <td>Grand Hyatt Seattle</td>\n",
              "      <td>“ＭＬＢをみるなら”</td>\n",
              "      <td>ｸﾗﾌﾞﾂｲﾝに3泊しました。ﾎﾃﾙはﾗｲﾄﾚｰﾙﾗｲﾝの終着駅(ﾊﾞｽ停も兼用）から歩いて...</td>\n",
              "      <td>7A5AFF5D8B936AFD97C40E047B64FA58</td>\n",
              "    </tr>\n",
              "    <tr>\n",
              "      <th>655423</th>\n",
              "      <td>123677205</td>\n",
              "      <td>3.0</td>\n",
              "      <td>100586</td>\n",
              "      <td>W Seattle</td>\n",
              "      <td>“期待はずれでした！”</td>\n",
              "      <td>Ｗホテルなので期待していましたが、ソファー・ベッド・壁紙等が老朽化していて\\n残念でした。\\...</td>\n",
              "      <td>98B84FBC9A653F1D2C66AF0177F1F432</td>\n",
              "    </tr>\n",
              "    <tr>\n",
              "      <th>208051</th>\n",
              "      <td>62733521</td>\n",
              "      <td>3.0</td>\n",
              "      <td>235238</td>\n",
              "      <td>W New York - Times Square</td>\n",
              "      <td>“ｗ　タイムススクエアー”</td>\n",
              "      <td>Ｗは比較的新しくてきれいなのですがここはちょっと違いますね。古いホテルを買収してすべて改装は...</td>\n",
              "      <td>2A1718A0837433FC8B6EAFD0DDA87595</td>\n",
              "    </tr>\n",
              "    <tr>\n",
              "      <th>344846</th>\n",
              "      <td>114871537</td>\n",
              "      <td>4.0</td>\n",
              "      <td>78046</td>\n",
              "      <td>Sheraton Gateway Los Angeles</td>\n",
              "      <td>“空港の直ぐ傍で夜遅くとか朝早くのフライトを利用の際には大変便利です。”</td>\n",
              "      <td>Ｓｈｅｒａｔｏｎ hotelは時々利用しているが、空港からのシャトルサービス（無料ー荷物ある...</td>\n",
              "      <td>EE6E78042C9342A007554D930AE21B08</td>\n",
              "    </tr>\n",
              "    <tr>\n",
              "      <th>143602</th>\n",
              "      <td>45786094</td>\n",
              "      <td>4.0</td>\n",
              "      <td>611947</td>\n",
              "      <td>Hilton New York</td>\n",
              "      <td>“場所が最高”</td>\n",
              "      <td>ＮＹ観光は色々泊まりましたが、立地が大変良いと思います。さらにダイヤモンドメンバーは朝食無料...</td>\n",
              "      <td>02D60DACB188F821071A304A806D3056</td>\n",
              "    </tr>\n",
              "    <tr>\n",
              "      <th>141612</th>\n",
              "      <td>89623232</td>\n",
              "      <td>4.0</td>\n",
              "      <td>611947</td>\n",
              "      <td>Hilton New York</td>\n",
              "      <td>“ロケーション最高！そして屋台も！”</td>\n",
              "      <td>ＮＹ個人旅行ではどこに宿泊すべきか悩むところ・・・。なぜならご承知の通り、マンハッタン島のホ...</td>\n",
              "      <td>77FA484F573B9E3DCBDF7D21D85F54C3</td>\n",
              "    </tr>\n",
              "    <tr>\n",
              "      <th>466477</th>\n",
              "      <td>39063544</td>\n",
              "      <td>5.0</td>\n",
              "      <td>224221</td>\n",
              "      <td>Library Hotel</td>\n",
              "      <td>“とっても落ち着くホテルです”</td>\n",
              "      <td>ＮＹミッドタウンイーストにちょっとおしゃれなホテルがあります。\\n市立図書館の近くにあるので...</td>\n",
              "      <td>30D1AF68F40F56D059D5A8CC469469BE</td>\n",
              "    </tr>\n",
              "    <tr>\n",
              "      <th>143581</th>\n",
              "      <td>49029469</td>\n",
              "      <td>4.0</td>\n",
              "      <td>611947</td>\n",
              "      <td>Hilton New York</td>\n",
              "      <td>“立地がいい”</td>\n",
              "      <td>ＮＹミッドタウンにあり、タイムズスクエアー、劇場、５番街、セントラルパーク、ＭＯＭA，などに...</td>\n",
              "      <td>8B08E7D0C6DB573A423BC8589476A57D</td>\n",
              "    </tr>\n",
              "  </tbody>\n",
              "</table>\n",
              "</div>"
            ],
            "text/plain": [
              "               id  ...                         author_id\n",
              "393098  118469617  ...  BAD8F794E6055A84B9F935F29DD3D04A\n",
              "307305   79205728  ...  2D9982954B3D19CE51A86D90AFCCF328\n",
              "675128  135648138  ...  7A5AFF5D8B936AFD97C40E047B64FA58\n",
              "655423  123677205  ...  98B84FBC9A653F1D2C66AF0177F1F432\n",
              "208051   62733521  ...  2A1718A0837433FC8B6EAFD0DDA87595\n",
              "344846  114871537  ...  EE6E78042C9342A007554D930AE21B08\n",
              "143602   45786094  ...  02D60DACB188F821071A304A806D3056\n",
              "141612   89623232  ...  77FA484F573B9E3DCBDF7D21D85F54C3\n",
              "466477   39063544  ...  30D1AF68F40F56D059D5A8CC469469BE\n",
              "143581   49029469  ...  8B08E7D0C6DB573A423BC8589476A57D\n",
              "\n",
              "[10 rows x 7 columns]"
            ]
          },
          "metadata": {
            "tags": []
          },
          "execution_count": 83
        }
      ]
    },
    {
      "cell_type": "code",
      "metadata": {
        "id": "LVLDdh-QUd7q"
      },
      "source": [
        "df_merged['text'] = df_merged['text'].str.encode('ascii', 'ignore').str.decode('ascii')\n"
      ],
      "execution_count": null,
      "outputs": []
    },
    {
      "cell_type": "code",
      "metadata": {
        "id": "I97Q4AgvUqja",
        "colab": {
          "base_uri": "https://localhost:8080/",
          "height": 547
        },
        "outputId": "46cb3481-eb96-4f6c-d57f-bfbc472cbc0e"
      },
      "source": [
        "df_merged.head()"
      ],
      "execution_count": null,
      "outputs": [
        {
          "output_type": "execute_result",
          "data": {
            "text/html": [
              "<div>\n",
              "<style scoped>\n",
              "    .dataframe tbody tr th:only-of-type {\n",
              "        vertical-align: middle;\n",
              "    }\n",
              "\n",
              "    .dataframe tbody tr th {\n",
              "        vertical-align: top;\n",
              "    }\n",
              "\n",
              "    .dataframe thead th {\n",
              "        text-align: right;\n",
              "    }\n",
              "</style>\n",
              "<table border=\"1\" class=\"dataframe\">\n",
              "  <thead>\n",
              "    <tr style=\"text-align: right;\">\n",
              "      <th></th>\n",
              "      <th>id</th>\n",
              "      <th>overall_rating</th>\n",
              "      <th>hotel_id</th>\n",
              "      <th>hotel_name</th>\n",
              "      <th>title</th>\n",
              "      <th>text</th>\n",
              "      <th>author_id</th>\n",
              "    </tr>\n",
              "  </thead>\n",
              "  <tbody>\n",
              "    <tr>\n",
              "      <th>393098</th>\n",
              "      <td>118469617</td>\n",
              "      <td>4.0</td>\n",
              "      <td>76741</td>\n",
              "      <td>Hilton San Diego Mission Valley</td>\n",
              "      <td>“ﾊﾞﾚｰﾋﾞｭｰが最高 ﾌﾟｰﾙも楽しめます”</td>\n",
              "      <td>!  \\nUSA(2008)\\n !</td>\n",
              "      <td>BAD8F794E6055A84B9F935F29DD3D04A</td>\n",
              "    </tr>\n",
              "    <tr>\n",
              "      <th>307305</th>\n",
              "      <td>79205728</td>\n",
              "      <td>3.0</td>\n",
              "      <td>77714</td>\n",
              "      <td>DoubleTree by Hilton Hotel Los Angeles Downtown</td>\n",
              "      <td>“日本人にはよし”</td>\n",
              "      <td>\\n\\n\\n\\n</td>\n",
              "      <td>2D9982954B3D19CE51A86D90AFCCF328</td>\n",
              "    </tr>\n",
              "    <tr>\n",
              "      <th>675128</th>\n",
              "      <td>135648138</td>\n",
              "      <td>5.0</td>\n",
              "      <td>224783</td>\n",
              "      <td>Grand Hyatt Seattle</td>\n",
              "      <td>“ＭＬＢをみるなら”</td>\n",
              "      <td>3(23LRLLRL41530\\nTVNHKWORLD CHANNELi-pod27F+ca...</td>\n",
              "      <td>7A5AFF5D8B936AFD97C40E047B64FA58</td>\n",
              "    </tr>\n",
              "    <tr>\n",
              "      <th>655423</th>\n",
              "      <td>123677205</td>\n",
              "      <td>3.0</td>\n",
              "      <td>100586</td>\n",
              "      <td>W Seattle</td>\n",
              "      <td>“期待はずれでした！”</td>\n",
              "      <td>\\n\\n</td>\n",
              "      <td>98B84FBC9A653F1D2C66AF0177F1F432</td>\n",
              "    </tr>\n",
              "    <tr>\n",
              "      <th>208051</th>\n",
              "      <td>62733521</td>\n",
              "      <td>3.0</td>\n",
              "      <td>235238</td>\n",
              "      <td>W New York - Times Square</td>\n",
              "      <td>“ｗ　タイムススクエアー”</td>\n",
              "      <td></td>\n",
              "      <td>2A1718A0837433FC8B6EAFD0DDA87595</td>\n",
              "    </tr>\n",
              "  </tbody>\n",
              "</table>\n",
              "</div>"
            ],
            "text/plain": [
              "               id  ...                         author_id\n",
              "393098  118469617  ...  BAD8F794E6055A84B9F935F29DD3D04A\n",
              "307305   79205728  ...  2D9982954B3D19CE51A86D90AFCCF328\n",
              "675128  135648138  ...  7A5AFF5D8B936AFD97C40E047B64FA58\n",
              "655423  123677205  ...  98B84FBC9A653F1D2C66AF0177F1F432\n",
              "208051   62733521  ...  2A1718A0837433FC8B6EAFD0DDA87595\n",
              "\n",
              "[5 rows x 7 columns]"
            ]
          },
          "metadata": {
            "tags": []
          },
          "execution_count": 85
        }
      ]
    }
  ]
}